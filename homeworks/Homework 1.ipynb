{
 "cells": [
  {
   "cell_type": "markdown",
   "id": "c647a732",
   "metadata": {},
   "source": [
    "# Homework 1 - Data Representation in a Computer"
   ]
  },
  {
   "cell_type": "markdown",
   "id": "3e8227bf",
   "metadata": {},
   "source": [
    "<b>Due Date</b>: 6/14/2023 at 11:59pm on Gradescope through Canvas<br>\n",
    "<b>Points</b> - 50 points<br>\n",
    "\n",
    "<b>Submission:</b> You must submit your solutions in PDF format\n",
    "\n",
    "><b>Qualitative Feedback</b>: Completion of this assignment will demonstrate your understanding of the common data representations used in UNIX that you will implement later in C and C++ programming."
   ]
  },
  {
   "cell_type": "markdown",
   "id": "86035923",
   "metadata": {},
   "source": [
    "<b>Problem 1:</b> Binary Conversion\n",
    "\n",
    "1-a) Convert the following decimal to binary. Represent as a six-bit signed integer\n",
    "\n",
    "    57\n",
    "\n",
    "1-b) Convert the following decimal to binary. Represent as a six-bit signed integer\n",
    "\n",
    "    -42\n",
    "\n",
    "1-c) Convert the following six-bit signed integer in binary to decimal.\n",
    "\n",
    "    110110"
   ]
  },
  {
   "cell_type": "markdown",
   "id": "e8368d37",
   "metadata": {},
   "source": [
    "<b>Problem 2:</b> Hexadecimal Conversion\n",
    "\n",
    "2-a) Convert the following from hexadecimal to decimal\n",
    "\n",
    "    0x7c4b\n",
    "\n",
    "2-b) Convert the following from hexadecimal to decimal. Use four hexadecimal characters in your solution.\n",
    "\n",
    "    -3482"
   ]
  },
  {
   "cell_type": "markdown",
   "id": "e0f2167e",
   "metadata": {},
   "source": [
    "<b>Problem 3</b>: ASCII Conversion\n",
    "\n",
    "3-a) Convert the following statement to ASCII hexadecimal\n",
    "\n",
    "    .Programming in C is \"fun\"!\n",
    "    \n",
    "3-b) Convert the following ASCII <i>decimal</i> values to characters\n",
    "\n",
    "    71 114 97 100 32 115 116 117 100 101 110 116 115 32 112 114 101 102 101 114 32 111 102 102 105 99 101 115 32 119 105 116 104 32 119 105 110 100 111 119 115 "
   ]
  },
  {
   "cell_type": "markdown",
   "id": "7bc11cff",
   "metadata": {},
   "source": [
    "<b>Problem 4</b>: IEEE 754 Floating Point Conversion\n",
    "\n",
    "4-a) Convert the following IEEE 754 Single Precision Formats to decimal\n",
    "\n",
    "    0 10001100 11010000000000000000000\n",
    "\n",
    "    1 01111101 10100000000000000000000\n",
    "    \n",
    "4-b) Convert the following IEEE 754 Double Precision Format to decimal\n",
    "\n",
    "    0 10000000111 1110000000000000000000000000000000000000000000000000\n",
    "    \n",
    "4-c) If we took the first 32 bits from 4-b, what would be the decimal result in IEEE 754 Single Precision Format?"
   ]
  },
  {
   "cell_type": "code",
   "execution_count": null,
   "id": "86ca7d80",
   "metadata": {},
   "outputs": [],
   "source": []
  }
 ],
 "metadata": {
  "kernelspec": {
   "display_name": "Python 3 (ipykernel)",
   "language": "python",
   "name": "python3"
  },
  "language_info": {
   "codemirror_mode": {
    "name": "ipython",
    "version": 3
   },
   "file_extension": ".py",
   "mimetype": "text/x-python",
   "name": "python",
   "nbconvert_exporter": "python",
   "pygments_lexer": "ipython3",
   "version": "3.9.13"
  }
 },
 "nbformat": 4,
 "nbformat_minor": 5
}
