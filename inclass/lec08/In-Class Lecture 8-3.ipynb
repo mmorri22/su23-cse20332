{
 "cells": [
  {
   "cell_type": "markdown",
   "id": "4ee9d952",
   "metadata": {},
   "source": [
    "## In-Class Lecture 8-3 - C Struct Fundamentals"
   ]
  },
  {
   "cell_type": "markdown",
   "id": "2111c7aa",
   "metadata": {},
   "source": [
    "For the remainder of this course, you will be using your knowledge of C pointers and memory allocation to perform tasks and implement ideas. But up to this point, you have used <i>primitive</i> types.\n",
    "\n",
    "We will use C structs in order to create blocks of information.\n",
    "\n",
    "Open the file <code>structs.c</code>"
   ]
  },
  {
   "cell_type": "markdown",
   "id": "0b6f3cc6",
   "metadata": {},
   "source": [
    "### Setting Up for Linked Lists\n",
    "\n",
    "We will create a type definition for the C Struct with the name new_struct. The internals will be an int, a float, and a double\n",
    "\n",
    "    typedef struct new_struct{\n",
    "\n",
    "      int the_int;\n",
    "      float the_float;\n",
    "      double the_double;\n",
    "\n",
    "    }NEW_STRUCT;"
   ]
  },
  {
   "cell_type": "markdown",
   "id": "5fa846a8",
   "metadata": {},
   "source": [
    "### Combining Concepts: Memory Layout\n",
    "\n",
    "Step 2: Statically Allocate a new_struct\n",
    "\n",
    "    1) Statically create the struct\n",
    "    2) Create an int using atoi\n",
    "    3) Create a float using atof - and cast\n",
    "    4) Create a double using atof\n",
    "    \n",
    "\n",
    "Step 3: Print use fprintf\n",
    "\n",
    "    1) The address of the address of the static struct on the stack\n",
    "    2) The value and address of the dynamic struct's int\n",
    "    3) The value and address of the dynamic struct's float\n",
    "    4) The value and address of the dynamic struct's double\n",
    "    \n",
    "Step 4: Dynamically Allocate a NEW_STRUCT\n",
    "\n",
    "Step 5: De-reference and set values for the int, long unsigned int, and float\n",
    "\n",
    "Step 6: Print use fprintf\n",
    "\n",
    "    1) The address of the register containing the dynamic struct pointer\n",
    "    2) The address of the address of the dynamic struct pointer on the heap\n",
    "    3) The value and address of the dynamic struct's int\n",
    "    4) The value and address of the dynamic struct's float\n",
    "    5) The value and address of the dynamic struct's double\n",
    "\n",
    "\n",
    "Step 7: Free the Dynamically Allocated Memory"
   ]
  },
  {
   "cell_type": "code",
   "execution_count": null,
   "id": "d2eb4b48",
   "metadata": {},
   "outputs": [],
   "source": []
  }
 ],
 "metadata": {
  "kernelspec": {
   "display_name": "Python 3 (ipykernel)",
   "language": "python",
   "name": "python3"
  },
  "language_info": {
   "codemirror_mode": {
    "name": "ipython",
    "version": 3
   },
   "file_extension": ".py",
   "mimetype": "text/x-python",
   "name": "python",
   "nbconvert_exporter": "python",
   "pygments_lexer": "ipython3",
   "version": "3.9.13"
  }
 },
 "nbformat": 4,
 "nbformat_minor": 5
}
