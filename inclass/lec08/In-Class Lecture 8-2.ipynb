{
 "cells": [
  {
   "cell_type": "markdown",
   "id": "b39126bf",
   "metadata": {},
   "source": [
    "## In-Class Lecture 8-2 - int argc and char* argv[]"
   ]
  },
  {
   "cell_type": "markdown",
   "id": "f0c36c20",
   "metadata": {},
   "source": [
    "In this section, we will learn about input arguments\n",
    "\n",
    "To this point, everything we have done with C from main has used:\n",
    "\n",
    "    int main( void )\n",
    "    \n",
    "But now, we will use inputs to the main function. C has a specific rule for inputs, and that they should be as shown below (with one modification we will make at the end.)\n",
    "\n",
    "    int main( int argc, char* argv[] )\n",
    "    \n",
    "The two variables are:\n",
    "<ul>\n",
    "    <li><code>int argc</code> - An integer representing the <font color=\"red\"><b>arg</b></font>ument <font color=\"red\"><b>c</b></font>ount</li>\n",
    "    <li><code>char* argv[]</code> - An array of character arrays (strings) representing the <font color=\"red\"><b>arg</b></font>ument <font color=\"red\"><b>v</b></font>alues</li>\n",
    "</ul>\n",
    "\n",
    "We can use several functions to translate inputs into values:\n",
    "\n",
    "    atoi( argc[3] );   // Translate the fourth input string to an integer\n",
    "    atof( argc[2] );   // Translate the third input string to a float\n",
    "    atol( argc[1] );   // Translate the second input string to a long int\n",
    "    \n",
    "You will get much more practice with these inputs throughout the semester."
   ]
  },
  {
   "cell_type": "markdown",
   "id": "bc49c93e",
   "metadata": {},
   "source": [
    "### argc_argv write up\n",
    "\n",
    "Open the file <code>argc_argv.c</code>.\n",
    "\n",
    "    Step 1 - Change the input\n",
    "\n",
    "    Step 2 - Example of checking \n",
    "\n",
    "    Step 3a - Writing a function declaration add_vals_to_dyn_array to save the inputs\n",
    "\n",
    "    Step 3b - Writing a function definition add_vals_to_dyn_array to save the inputs\n",
    "\n",
    "    Step 3c - Make the add_vals_to_dyn_array call in main"
   ]
  },
  {
   "cell_type": "markdown",
   "id": "51d28f91",
   "metadata": {},
   "source": [
    "### Breaking C - Changing argc\n",
    "\n",
    "Open the file <code>argc_argv_mod.c</code>\n",
    "\n",
    "Run the commands\n",
    "\n",
    "    make argc_argv_mod\n",
    "    ./argc_argv_mod CSE 20232 Inputs\n",
    "    \n",
    "What happened?   \n",
    " \n",
    "We will modify the <code>argc += 5;</code> to <code>argc += 20;</code>\n",
    "\n",
    "We will do the same for:\n",
    "\n",
    "<code>argc += 35;</code>\n",
    "<code>argc += 39;</code>\n",
    "<code>argc += 40;</code>"
   ]
  },
  {
   "cell_type": "markdown",
   "id": "c036334e",
   "metadata": {},
   "source": [
    "### Providing a safety for inputs\n",
    "\n",
    "We will prevent the issue from <code>argc_argv_mod.c</code> by setting <code>argc</code> and <code>argv</code> to <code>const</code>, which will ensure they cannot be changed. And you will use this change for any input from the command line:\n",
    "\n",
    "Go back to <code>argc_argv_mod.c</code>\n",
    "\n",
    "Change the main from this:\n",
    "\n",
    "    int main( int argc, char* argv[] )\n",
    "    \n",
    "To this:\n",
    "\n",
    "    int main( const int argc, const char* argv[] )"
   ]
  }
 ],
 "metadata": {
  "kernelspec": {
   "display_name": "Python 3 (ipykernel)",
   "language": "python",
   "name": "python3"
  },
  "language_info": {
   "codemirror_mode": {
    "name": "ipython",
    "version": 3
   },
   "file_extension": ".py",
   "mimetype": "text/x-python",
   "name": "python",
   "nbconvert_exporter": "python",
   "pygments_lexer": "ipython3",
   "version": "3.9.13"
  }
 },
 "nbformat": 4,
 "nbformat_minor": 5
}
