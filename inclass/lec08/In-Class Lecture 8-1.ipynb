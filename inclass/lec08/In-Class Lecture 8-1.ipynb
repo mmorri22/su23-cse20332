{
 "cells": [
  {
   "cell_type": "markdown",
   "id": "c4e4043b",
   "metadata": {},
   "source": [
    "## In-Class Lecture 8-1 - A better malloc() example"
   ]
  },
  {
   "cell_type": "markdown",
   "id": "9e45694d",
   "metadata": {},
   "source": [
    "To setup for today's in-class coding opportunity:\n",
    "\n",
    "<ol>\n",
    "    <li>Go to your dropbox: <code>cd esc-courses/su23-cse-20232.01/dropbox</code></li>\n",
    "    <li><code>mkdir lec08</code></li>\n",
    "</ol>\n",
    "\n",
    "To obtain the code for today's lecture, perform the following commands:\n",
    "\n",
    "    wget https://raw.githubusercontent.com/mmorri22/su23-cse20332/main/inclass/lec08/setup.sh\n",
    "    chmod a+rx setup.sh\n",
    "    ./setup.sh\n",
    "    \n",
    "To confirm, perform the <code>ls</code> command. You will see the following:\n",
    "\n",
    "    argc_argv.c      better_malloc.c         better_malloc_float.c  Makefile\n",
    "    argc_argv_mod.c  better_malloc_double.c  better_malloc_li.c     structs.c"
   ]
  },
  {
   "cell_type": "markdown",
   "id": "0a1e0fe7",
   "metadata": {},
   "source": [
    "### Updating better_malloc.c\n",
    "\n",
    "We will learn how to call a pointer array in C using a pointer to a pointer.\n",
    "\n",
    "Consider a dynamic array:\n",
    "    \n",
    "    int* the_array = (int *)malloc( num_elements * sizeof(int) );\n",
    "\n",
    "Rules:\n",
    "\n",
    "1 - When passing an array you wish to update\n",
    "    \n",
    "    In the function declaration / defintion, use type**  (such as int **)\n",
    "    \n",
    "    In the call in main, pass by reference using & (such as &the_array)\n",
    "    \n",
    "2 - When passing an array you do not wish to update\n",
    "    \n",
    "    In the function declaration / defintion, use type*  (such as int *)\n",
    "    \n",
    "    In the call in main, pass by value (such as the_array)\n",
    "    \n",
    "    \n",
    "### We will write three functions:\n",
    "\n",
    "alloc_memory - To allocate the memory\n",
    "\n",
    "print_memory - To print the data and memory locations\n",
    "\n",
    "free_memory - To free the memory"
   ]
  },
  {
   "cell_type": "markdown",
   "id": "4ae1550a",
   "metadata": {},
   "source": [
    "### Combining Concepts - Range of data types and factorial\n",
    "\n",
    "Now that you have a program that allocates and frees memory, and calculates powers of 2, run the following:\n",
    "\n",
    "    make clean\n",
    "    make better_malloc\n",
    "    \n",
    "When prompted, put in 25 for the factorial. What happens?\n",
    "\n",
    "Next, you have <code>better_malloc_li.c</code>, which performs the factorial calculation using a long signed integer.\n",
    "\n",
    "    make better_malloc_li\n",
    "\n",
    "When prompted, put in 25 for the factorial. What happens?\n",
    "\n",
    "Next, you have <code>better_malloc_float.c</code>, which performs the factorial calculation using a float.\n",
    "\n",
    "    make better_malloc_float\n",
    "    \n",
    "When prompted, put in 25 for the factorial. What happens?\n",
    "\n",
    "Do it again, but now for 40 for the factorial. What happens?\n",
    "\n",
    "Finally, you have <code>better_malloc_double.c</code>, which performs the factorial calculation using a double.\n",
    "\n",
    "    make better_malloc_double\n",
    "    \n",
    "When prompted, put in 40 for the factorial. What happens?\n",
    "\n",
    "Do it again, but now for 175 for the factorial. What happens?"
   ]
  },
  {
   "cell_type": "markdown",
   "id": "0d84752b",
   "metadata": {},
   "source": [
    "### Google Calculator\n",
    "\n",
    "Now that we know how the data works, let's look at how Google performs factorial calculations:\n",
    "\n",
    "<a href = \"https://www.google.com/search?q=12%21&rlz=1C1GCEA_enUS1045US1045&ei=SACTZJTYIq2YptQPv8C7yAo&ved=0ahUKEwiUnM34wNT_AhUtjIkEHT_gDqkQ4dUDCBA&uact=5&oq=12%21&gs_lcp=Cgxnd3Mtd2l6LXNlcnAQAzIKCC4QigUQ5QQQQzIKCC4QigUQ5QQQQzIHCAAQigUQQzIHCAAQigUQQzIKCC4QigUQ5QQQQzIGCAAQBxAeMgcIABCKBRBDMgcIABCKBRBDMgcIABCKBRBDMgoILhDlBBCKBRBDMhgILhCKBRDlBBBDEJcFENwEEN4EEOAEGAM6CQgAEAcQHhCwAzoICAAQgAQQsAM6CwgAEIAEELEDELADOg0IABDkAhDWBBCwAxgBOhMILhCABBCxAxCDARDIAxCwAxgCOg0ILhCABBDIAxCwAxgCOhAILhCABBCxAxDIAxCwAxgCSgQIQRgBUIcEWIcEYIsFaAFwAHgAgAFriAFrkgEDMC4xmAEAoAEBwAEByAET2gEGCAEQARgJ2gEGCAIQARgI2gEGCAMQARgU&sclient=gws-wiz-serp\">12!</a>\n",
    "\n",
    "<a href = \"https://www.google.com/search?q=15%21&rlz=1C1GCEA_enUS1045US1045&ei=TACTZLjBDYucptQPk6GfgAo&ved=0ahUKEwi4l6z6wNT_AhULjokEHZPQB6AQ4dUDCBA&uact=5&oq=15%21&gs_lcp=Cgxnd3Mtd2l6LXNlcnAQAzIHCAAQigUQQzIHCAAQigUQQzIHCAAQigUQQzIHCAAQigUQQzIHCAAQigUQQzIHCAAQigUQQzIHCAAQigUQQzIICAAQgAQQsQMyBQgAEIAEMgsIABCABBCxAxCDAToLCAAQigUQsAMQkQI6CQgAEAcQHhCwAzoOCAAQigUQsQMQgwEQsAM6CwgAEIAEELEDELADOg0IABDkAhDWBBCwAxgBOhEILhAHEB4Q5QQQyAMQsAMYAjoTCC4QgAQQxwEQrwEQyAMQsAMYAjoQCC4QgAQQsQMQyAMQsAMYAjoQCC4QgAQQ1AIQyAMQsAMYAjoHCC4QigUQQzoGCAAQBxAeOhUILhCKBRBDEJcFENwEEN4EEOAEGANKBAhBGAFQtglY7Q1ghRBoAnAAeACAAXSIAc4BkgEDMS4xmAEAoAEBwAEByAET2gEGCAEQARgJ2gEGCAIQARgI2gEGCAMQARgU&sclient=gws-wiz-serp\">15!</a>\n",
    "\n",
    "<a href = \"https://www.google.com/search?q=34%21&rlz=1C1GCEA_enUS1045US1045&ei=YQCTZIxLrqCm1A_y6b6ICQ&ved=0ahUKEwjM_6CEwdT_AhUukIkEHfK0D5EQ4dUDCBA&uact=5&oq=34%21&gs_lcp=Cgxnd3Mtd2l6LXNlcnAQAzINCAAQigUQsQMQgwEQQzIICAAQigUQkQIyCAgAEIoFEJECMgcIABCKBRBDMgsIABCABBCxAxCDATIFCAAQgAQyBQgAEIAEMgUIABCABDIFCAAQgAQyBggAEAcQHjoOCC4QigUQsQMQgwEQ1AI6EQguEIAEELEDEIMBEMcBENEDSgQIQRgAUABY3QFg4gNoAHAAeACAAXyIAfUBkgEDMC4ymAEAoAEBwAEB&sclient=gws-wiz-serp\">34!</a>\n",
    "\n",
    "<a href = \"https://www.google.com/search?q=170%21&rlz=1C1GCEA_enUS1045US1045&ei=fgCTZOOcLvG1ptQPye2R-Ao&ved=0ahUKEwjj07iSwdT_AhXxmokEHcl2BK8Q4dUDCBA&uact=5&oq=170%21&gs_lcp=Cgxnd3Mtd2l6LXNlcnAQAzIHCAAQigUQQzIHCAAQigUQQzIICAAQgAQQsQMyBwgAEIoFEEMyBwgAEIoFEEMyBwgAEIoFEEMyBQgAEIAEMgUIABCABDILCAAQgAQQsQMQgwEyBQgAEIAEOgsIABCKBRCwAxCRAjoJCAAQBxAeELADOg4IABCABBCxAxCDARCwAzoICAAQgAQQsAM6BwguEIoFEEM6CwguEIAEEMcBENEDOgsILhCABBCxAxCDAToVCC4QigUQQxCXBRDcBBDeBBDgBBgBOg4IABCKBRCxAxCDARCRAjoICAAQigUQkQJKBAhBGAFQlg5YqBRg_xVoBXAAeACAAZ0BiAG6A5IBAzIuMpgBAKABAcABAcgBCtoBBggBEAEYFA&sclient=gws-wiz-serp\">170!</a>\n",
    "\n",
    "<a href = \"https://www.google.com/search?q=171%21&rlz=1C1GCEA_enUS1045US1045&ei=lQCTZPROvdam1A_OjZzoDQ&ved=0ahUKEwi07YadwdT_AhU9q4kEHc4GB90Q4dUDCBA&uact=5&oq=171%21&gs_lcp=Cgxnd3Mtd2l6LXNlcnAQAzIHCAAQigUQQzIHCAAQigUQQzIHCAAQigUQQzIGCAAQBxAeMgYIABAHEB4yBggAEAcQHjIECAAQAzILCAAQgAQQsQMQgwEyBQgAEIAEMgQIABADOgsIABCABBCxAxCwAzoICAAQgAQQsAM6CQgAEAcQHhCwAzoOCAAQgAQQsQMQgwEQsANKBAhBGAFQkQhYkQhgjAxoAnAAeACAAVuIAVuSAQExmAEAoAEBwAEByAEK&sclient=gws-wiz-serp\">171!</a>"
   ]
  },
  {
   "cell_type": "code",
   "execution_count": null,
   "id": "0b71f8d6",
   "metadata": {},
   "outputs": [],
   "source": []
  }
 ],
 "metadata": {
  "kernelspec": {
   "display_name": "Python 3 (ipykernel)",
   "language": "python",
   "name": "python3"
  },
  "language_info": {
   "codemirror_mode": {
    "name": "ipython",
    "version": 3
   },
   "file_extension": ".py",
   "mimetype": "text/x-python",
   "name": "python",
   "nbconvert_exporter": "python",
   "pygments_lexer": "ipython3",
   "version": "3.9.13"
  }
 },
 "nbformat": 4,
 "nbformat_minor": 5
}
