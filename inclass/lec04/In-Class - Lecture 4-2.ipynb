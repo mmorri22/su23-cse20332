{
 "cells": [
  {
   "cell_type": "markdown",
   "id": "1521ae82",
   "metadata": {},
   "source": [
    "## In-Class Lecture 4-2 - Conditionals and Loops\n",
    "\n",
    "In this section, we will learn to differentiate between if, else if, and switch statements"
   ]
  },
  {
   "cell_type": "markdown",
   "id": "50b3fa9b",
   "metadata": {},
   "source": [
    "## If-Else\n",
    "\n",
    "To test our understanding of <code>if</code>, <code>else if</code>, and <code>else</code> statements, we will build a basic set of these statements.\n",
    "\n",
    "In your <code>lec04</code> folder, obtain the <code>if_else.c</code> skeleton code\n",
    "\n",
    "    wget https://raw.githubusercontent.com/mmorri22/su23-cse20332/main/inclass/lec04/if_else.c\n",
    "    \n",
    "We will work together to create a set of if/else statements.\n",
    "\n",
    "The compilation, execution, and deletion commands for this part are:\n",
    "\n",
    "    gcc -Wall -std=c11 -Wconversion -Werror if_else.c -o if_else\n",
    "    ./if_else\n",
    "    rm if_else"
   ]
  },
  {
   "cell_type": "markdown",
   "id": "e9b20001",
   "metadata": {},
   "source": [
    "## Switch\n",
    "\n",
    "Next, we will test our understanding of <code>switch</code> statements by building a switch statement based on a research topic of a student's choice.\n",
    "\n",
    "In your <code>lec04</code> folder, obtain the <code>switch.c</code> skeleton code\n",
    "\n",
    "    wget https://raw.githubusercontent.com/mmorri22/su23-cse20332/main/inclass/lec04/switch.c\n",
    "    \n",
    "The compilation, execution, and deletion commands for this part are:\n",
    "\n",
    "    gcc -Wall -std=c11 -Wconversion -Werror switch.c -o switch\n",
    "    ./switch\n",
    "    rm switch"
   ]
  },
  {
   "cell_type": "markdown",
   "id": "2cdabf7a",
   "metadata": {},
   "source": [
    "## Switch with Accuracy vs Precision\n",
    "\n",
    "To <b>combine concepts</b>, let's look at what happens when we download the code segment <code>switch_double.c</code>\n",
    "\n",
    "<code>wget https://raw.githubusercontent.com/mmorri22/su23-cse20332/main/inclass/lec04/switch_double.c</code>\n",
    "\n",
    "The compilation command for this part is:\n",
    "\n",
    "    gcc -Wall -std=c11 -Wconversion -Werror switch_double.c -o switch_double\n",
    "    \n",
    "The code does not compile. <b>Why not</b>?"
   ]
  },
  {
   "cell_type": "markdown",
   "id": "99fb92f7",
   "metadata": {},
   "source": [
    "## Now let's go back to the slides and answer Reading Question #2"
   ]
  },
  {
   "cell_type": "markdown",
   "id": "5460774a",
   "metadata": {},
   "source": [
    "## While Loop\n",
    "\n",
    "Next, we will test our understanding of <code>while</code> statements by building a <code>while</code> loop based on a research topic of a student's choice.\n",
    "\n",
    "In your <code>lec04</code> folder, obtain the <code>while.c</code> skeleton code\n",
    "\n",
    "    wget https://raw.githubusercontent.com/mmorri22/su23-cse20332/main/inclass/lec04/while.c\n",
    "    \n",
    "The compilation, execution, and deletion commands for this part are:\n",
    "\n",
    "    gcc -Wall -std=c11 -Wconversion -Werror while.c -o while\n",
    "    ./while\n",
    "    rm while"
   ]
  },
  {
   "cell_type": "markdown",
   "id": "34abb2f8",
   "metadata": {},
   "source": [
    "## Do-While Loop\n",
    "\n",
    "Next, we will test our understanding of <code>do-while</code> loops by building a <code>do-while</code> loop based on a research topic of a student's choice.\n",
    "\n",
    "In your <code>lec04</code> folder, obtain the <code>dowhile.c</code> skeleton code\n",
    "\n",
    "    wget https://raw.githubusercontent.com/mmorri22/su23-cse20332/main/inclass/lec04/dowhile.c\n",
    "    \n",
    "The compilation, execution, and deletion commands for this part are:\n",
    "\n",
    "    gcc -Wall -std=c11 -Wconversion -Werror dowhile.c -o dowhile\n",
    "    ./dowhile\n",
    "    rm dowhile"
   ]
  },
  {
   "cell_type": "markdown",
   "id": "9ed84844",
   "metadata": {},
   "source": [
    "## For Loop\n",
    "\n",
    "Next, we will test our understanding of <code>for</code> loops by building a <code>for</code> loop based on a research topic of a student's choice.\n",
    "\n",
    "In your <code>lec04</code> folder, obtain the <code>for.c</code> skeleton code\n",
    "\n",
    "    wget https://raw.githubusercontent.com/mmorri22/su23-cse20332/main/inclass/lec04/for.c\n",
    "    \n",
    "The compilation, execution, and deletion commands for this part are:\n",
    "\n",
    "    gcc -Wall -std=c11 -Wconversion -Werror for.c -o for\n",
    "    ./for\n",
    "    rm for"
   ]
  },
  {
   "cell_type": "markdown",
   "id": "816de1a3",
   "metadata": {},
   "source": [
    "## Data Types and Looping\n",
    "\n",
    "We will discuss a unique case in loop: <b>What happens when the data produces undesired behavior?</b> \n",
    "\n",
    "In your <code>lec04</code> folder, obtain the <code>for.c</code> skeleton code\n",
    "\n",
    "    wget https://raw.githubusercontent.com/mmorri22/su23-cse20332/main/inclass/lec04/lui_while.c\n",
    "    \n",
    "What do we think will happen?\n",
    "\n",
    "    gcc -Wall -std=c11 -Wconversion -Werror lui_while.c -o lui_while\n",
    "    \n",
    "> To stop the loop, press <code>Ctrl-C</code> and <code>Command-C</code>\n",
    "\n",
    "It turns out that <code>-Wall</code> for <i>all warnings</i> doesn't actually cover all the warnings. <code>-Wall</code> only covers up to 1999 for C. \n",
    "\n",
    "We will now introduce our next compiler flag: <code>-Wextra</code>\n",
    "\n",
    "    gcc -Wall -Wextra -std=c11 -Wconversion -Werror lui_while.c -o lui_while\n",
    "    \n",
    "And we now see that we have added protections for our code."
   ]
  },
  {
   "cell_type": "code",
   "execution_count": null,
   "id": "da0c1a47",
   "metadata": {},
   "outputs": [],
   "source": []
  }
 ],
 "metadata": {
  "kernelspec": {
   "display_name": "Python 3 (ipykernel)",
   "language": "python",
   "name": "python3"
  },
  "language_info": {
   "codemirror_mode": {
    "name": "ipython",
    "version": 3
   },
   "file_extension": ".py",
   "mimetype": "text/x-python",
   "name": "python",
   "nbconvert_exporter": "python",
   "pygments_lexer": "ipython3",
   "version": "3.9.13"
  }
 },
 "nbformat": 4,
 "nbformat_minor": 5
}
