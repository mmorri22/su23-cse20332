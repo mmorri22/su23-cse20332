{
 "cells": [
  {
   "cell_type": "markdown",
   "id": "0474247f",
   "metadata": {},
   "source": [
    "## In-Class Lecture 4-2 - Conditionals and Loops\n",
    "\n",
    "In this section, we will learn to differentiate between if, else if, and switch statements"
   ]
  },
  {
   "cell_type": "markdown",
   "id": "6bcfd5db",
   "metadata": {},
   "source": [
    "## If-Else\n",
    "\n",
    "To test our understand of <code>if</code>, <code>else if</code>, and <code>else</code> statements, we will build a basic set of these statements.\n",
    "\n",
    "In your <code>lec04</code> folder, obtain the <code>if_else.c</code> skeleton code\n",
    "\n",
    "    wget https://raw.githubusercontent.com/mmorri22/su23-cse20332/main/inclass/lec04/if_else.c\n",
    "    \n",
    "We will work together to create a set of if/else statements.\n",
    "\n",
    "The compilation, execution, and deletion commands for this part are:\n",
    "\n",
    "    gcc -Wall -std=c11 -Wconversion -Werror if_else.c -o if_else\n",
    "    ./if_else\n",
    "    rm if_else"
   ]
  },
  {
   "cell_type": "markdown",
   "id": "d70132eb",
   "metadata": {},
   "source": [
    "## Switch\n",
    "\n",
    "Next, we will test our understand of <code>switch</code> statements by building a switch statement based on a research topic of a student's choice.\n",
    "\n",
    "In your <code>lec04</code> folder, obtain the <code>if_else.c</code> skeleton code\n",
    "\n",
    "    wget https://raw.githubusercontent.com/mmorri22/su23-cse20332/main/inclass/lec04/switch.c\n",
    "    \n",
    "The compilation, execution, and deletion commands for this part are:\n",
    "\n",
    "    gcc -Wall -std=c11 -Wconversion -Werror switch.c -o switch\n",
    "    ./switch\n",
    "    rm switch"
   ]
  },
  {
   "cell_type": "markdown",
   "id": "b68d2da6",
   "metadata": {},
   "source": [
    "## Switch with Accuracy vs Precision\n",
    "\n",
    "To <b>combine concepts</b>, let's look at what happens when we download the code segment <code>switch_double.c</code>\n",
    "\n",
    "<code>wget https://raw.githubusercontent.com/mmorri22/su23-cse20332/main/inclass/lec04/switch_double.c</code>\n",
    "\n",
    "The compilation command for this part is:\n",
    "\n",
    "    gcc -Wall -std=c11 -Wconversion -Werror switch_double.c -o switch_double\n",
    "    \n",
    "The code does not compile. <b>Why not</b>?"
   ]
  },
  {
   "cell_type": "code",
   "execution_count": null,
   "id": "54a0db2c",
   "metadata": {},
   "outputs": [],
   "source": []
  }
 ],
 "metadata": {
  "kernelspec": {
   "display_name": "Python 3 (ipykernel)",
   "language": "python",
   "name": "python3"
  },
  "language_info": {
   "codemirror_mode": {
    "name": "ipython",
    "version": 3
   },
   "file_extension": ".py",
   "mimetype": "text/x-python",
   "name": "python",
   "nbconvert_exporter": "python",
   "pygments_lexer": "ipython3",
   "version": "3.9.13"
  }
 },
 "nbformat": 4,
 "nbformat_minor": 5
}
