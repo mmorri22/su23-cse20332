{
 "cells": [
  {
   "cell_type": "markdown",
   "id": "cc4e1b35",
   "metadata": {},
   "source": [
    "## In-Class Lecture 4-3 - Functions\n",
    "\n",
    "In this section, we will create functions that takes in the variables we created in other files, and then promotes <b>modularity</b> and <b>information</b> hiding.\n",
    "\n",
    "> <b>Note:</b> You will get to see an example of the benefits of using <b>Pulsar</b> and <b>FileZilla</b> when we use copy and paste to put code from other files into this file."
   ]
  },
  {
   "cell_type": "markdown",
   "id": "942fe2ab",
   "metadata": {},
   "source": [
    "In your <code>lec04</code> folder, obtain the <code>if_else.c</code> skeleton code\n",
    "\n",
    "    wget https://raw.githubusercontent.com/mmorri22/su23-cse20332/main/inclass/lec04/functions.c"
   ]
  },
  {
   "cell_type": "markdown",
   "id": "274f4890",
   "metadata": {},
   "source": [
    "## Function Declarations\n",
    "\n",
    "We will first create a function that takes in the if-else variables and then print the result\n",
    "\n",
    "For the function declarations, we will perform the following task <i>above</i> main:\n",
    "\n",
    "    return-type function_name( input_variables );\n",
    "    \n",
    "    \n",
    "For the function definitions, we will perform the following task <i>below</i> main:\n",
    "\n",
    "    return-type function_name( input_variables ){\n",
    "    \n",
    "        Copied code from if-else main goes here\n",
    "    \n",
    "    }\n",
    "    \n",
    "Then, we will create a <b>Function Header</b> above the if_else function with this format:\n",
    "\n",
    "    /********************************************\n",
    "     * Function Name: function_name\n",
    "     * Pre-Conditions: input_variables\n",
    "     * Post-Conditions: return-type\n",
    "     *\n",
    "     * Brief Description of what the code does\n",
    "     *******************************************/"
   ]
  },
  {
   "cell_type": "markdown",
   "id": "7ab0a1f9",
   "metadata": {},
   "source": [
    "#### Compilation\n",
    "\n",
    "We will regularly test and compile the code\n",
    "\n",
    "    gcc -Wall -Wextra -std=c11 -Wconversion -Werror functions.c -o functions\n",
    "    ./functions\n",
    "    rm functions"
   ]
  },
  {
   "cell_type": "markdown",
   "id": "b84d69f9",
   "metadata": {},
   "source": [
    "## Repeat with while and for\n",
    "\n",
    "We will repeat this process with a function for the <code>while</code> code we developed, and then for the <code>for</code> we developed."
   ]
  },
  {
   "cell_type": "code",
   "execution_count": null,
   "id": "ea784209",
   "metadata": {},
   "outputs": [],
   "source": []
  }
 ],
 "metadata": {
  "kernelspec": {
   "display_name": "Python 3 (ipykernel)",
   "language": "python",
   "name": "python3"
  },
  "language_info": {
   "codemirror_mode": {
    "name": "ipython",
    "version": 3
   },
   "file_extension": ".py",
   "mimetype": "text/x-python",
   "name": "python",
   "nbconvert_exporter": "python",
   "pygments_lexer": "ipython3",
   "version": "3.9.13"
  }
 },
 "nbformat": 4,
 "nbformat_minor": 5
}
