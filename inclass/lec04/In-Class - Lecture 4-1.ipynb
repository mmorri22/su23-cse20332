{
 "cells": [
  {
   "cell_type": "markdown",
   "id": "805e0913",
   "metadata": {},
   "source": [
    "# In-Class - Lecture 4-1 - Data Types and Compilation"
   ]
  },
  {
   "cell_type": "markdown",
   "id": "4bc9bf28",
   "metadata": {},
   "source": [
    "## Create folder\n",
    "\n",
    "Go to your su23-20232.01/dropbox folder and create the folder:\n",
    "\n",
    "    mkdir lec04\n",
    "\n",
    "## Reviewing the Gangnam Style Overflow and the benefits of Production Quality Compilation Flags\n",
    "\n",
    "Perform the command:\n",
    "\n",
    "    wget https://raw.githubusercontent.com/mmorri22/su23-cse20332/main/inclass/lec04/gangnam.c\n",
    "    \n",
    "We will review the code to see the importance if understanding data types, even when we compile <i>with</i> PQC flags.\n",
    "\n",
    "    gcc -Wall -std=c11 -Wconversion gangnam.c -o gangnam\n",
    "    ./gangnam\n",
    "    rm gangnam\n",
    "    \n",
    "Next, perform the command:\n",
    "\n",
    "    wget https://raw.githubusercontent.com/mmorri22/su23-cse20332/main/inclass/lec04/gangnam_long.c\n",
    "    \n",
    "We will look at the type, and then what happens when we run that code:\n",
    "\n",
    "    gcc -Wall -std=c11 -Wconversion gangnam_long.c -o gangnam_long\n",
    "    ./gangnam_long\n",
    "    rm gangnam_long"
   ]
  },
  {
   "cell_type": "markdown",
   "id": "aed9db9b",
   "metadata": {},
   "source": [
    "## A Quirk with Floats and Double\n",
    "\n",
    "Perform the command:\n",
    "\n",
    "    wget https://raw.githubusercontent.com/mmorri22/su23-cse20332/main/inclass/lec04/float_no_compile.c\n",
    "    \n",
    "Now, we will look at this file and try to predict what will happen.\n",
    "    \n",
    "Next, compile using the following commands:\n",
    "\n",
    "    gcc -Wall -std=c11 -Wconversion -Werror float_no_compile.c -o float_no_compile\n",
    "    \n",
    "We get a compiler error! Any theories as to why?\n",
    "\n",
    "To fix it, we will <b>cast</b> the 3.1 to ensure the compiler sets it as a float first\n",
    "\n",
    "    cp float_no_compile.c float_compile.c\n",
    "    vim float_compile.c\n",
    "    \n",
    "Change the line of code to:\n",
    "\n",
    "<code>float the_float = <font color = \"red\">(float)</font>3.1;</code>\n",
    "\n",
    "Next, compile using the following commands:\n",
    "\n",
    "    gcc -Wall -std=c11 -Wconversion -Werror float_compile.c -o float_compile\n",
    "    ./float_compile\n",
    "    rm float_compile\n",
    "\n",
    "> Moral of the Story: When in doubt, use a double!"
   ]
  },
  {
   "cell_type": "markdown",
   "id": "f11af484",
   "metadata": {},
   "source": [
    "## Double Comparisons: Or when 0.1 doesn't equal 0.1\n",
    "\n",
    "Perform the following command:\n",
    "\n",
    "    wget https://raw.githubusercontent.com/mmorri22/su23-cse20332/main/inclass/lec04/double_comp.c\n",
    "    \n",
    "\n",
    "Now, let's review the code and try to predict what will happen.\n",
    "\n",
    "Let's see what actually happens!\n",
    "\n",
    "    gcc -Wall -std=c11 -Wconversion -Werror double_comp.c -o double_comp\n",
    "    ./double_comp\n",
    "    rm double_comp\n",
    "    \n",
    "> <b>Main Takeaway</b>: When performing comparisons with if, else if, and switch statements, your decision needs to be <i>accurate</i>, not </i>precise</i>"
   ]
  }
 ],
 "metadata": {
  "kernelspec": {
   "display_name": "Python 3 (ipykernel)",
   "language": "python",
   "name": "python3"
  },
  "language_info": {
   "codemirror_mode": {
    "name": "ipython",
    "version": 3
   },
   "file_extension": ".py",
   "mimetype": "text/x-python",
   "name": "python",
   "nbconvert_exporter": "python",
   "pygments_lexer": "ipython3",
   "version": "3.9.13"
  }
 },
 "nbformat": 4,
 "nbformat_minor": 5
}
