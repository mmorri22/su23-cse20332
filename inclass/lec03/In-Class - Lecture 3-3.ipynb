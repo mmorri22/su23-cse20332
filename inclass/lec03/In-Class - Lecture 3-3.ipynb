{
 "cells": [
  {
   "cell_type": "markdown",
   "id": "b4b7bd9a",
   "metadata": {},
   "source": [
    "# In-Class - Lecture 3-3 - Makefiles"
   ]
  },
  {
   "cell_type": "markdown",
   "id": "c5a2cf3c",
   "metadata": {},
   "source": [
    "## Why Makefiles?\n",
    "\n",
    "Whether you need to compile large programs comprising of several files, or you need to run several programs at once."
   ]
  },
  {
   "cell_type": "code",
   "execution_count": null,
   "id": "1dd1db12",
   "metadata": {},
   "outputs": [],
   "source": []
  }
 ],
 "metadata": {
  "kernelspec": {
   "display_name": "Python 3 (ipykernel)",
   "language": "python",
   "name": "python3"
  },
  "language_info": {
   "codemirror_mode": {
    "name": "ipython",
    "version": 3
   },
   "file_extension": ".py",
   "mimetype": "text/x-python",
   "name": "python",
   "nbconvert_exporter": "python",
   "pygments_lexer": "ipython3",
   "version": "3.9.13"
  }
 },
 "nbformat": 4,
 "nbformat_minor": 5
}
