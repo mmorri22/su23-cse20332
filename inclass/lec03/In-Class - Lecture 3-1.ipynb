{
 "cells": [
  {
   "cell_type": "markdown",
   "id": "4ef082ee",
   "metadata": {},
   "source": [
    "# In-Class - Lecture 3-1 - Basic C Programming and Vim"
   ]
  },
  {
   "cell_type": "markdown",
   "id": "91e6bb4d",
   "metadata": {},
   "source": [
    "At this point, you have completed your installation of your programming environment, and have completed Homework 0. In today's lecture, you will get the opportunity to:\n",
    "\n",
    "<ul>\n",
    "    <li>Learn <b>Vim</b> and how to navigate the UNIX environment</li>\n",
    "    <li><b>Create</b> files and compile basic C programs from the <b>command line</b></li>\n",
    "    <li>Gain familiarity with <b>data types</b> and print the results in several representations</li>\n",
    "    <li>Learn about compiler flags and their importance in <b>production quality</b> code</li>\n",
    "    <li>Build a Makefile and fix Makefile errors</li>\n",
    "</ul>"
   ]
  },
  {
   "cell_type": "code",
   "execution_count": null,
   "id": "5d075c06",
   "metadata": {},
   "outputs": [],
   "source": []
  }
 ],
 "metadata": {
  "kernelspec": {
   "display_name": "Python 3 (ipykernel)",
   "language": "python",
   "name": "python3"
  },
  "language_info": {
   "codemirror_mode": {
    "name": "ipython",
    "version": 3
   },
   "file_extension": ".py",
   "mimetype": "text/x-python",
   "name": "python",
   "nbconvert_exporter": "python",
   "pygments_lexer": "ipython3",
   "version": "3.9.13"
  }
 },
 "nbformat": 4,
 "nbformat_minor": 5
}
