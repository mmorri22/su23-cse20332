{
 "cells": [
  {
   "cell_type": "markdown",
   "id": "c1e88ce7",
   "metadata": {},
   "source": [
    "# In-Class - Lecture 3-1 - Basic C Programming and Vim"
   ]
  },
  {
   "cell_type": "markdown",
   "id": "723f02f8",
   "metadata": {},
   "source": [
    "At this point, you have completed your installation of your programming environment, and have completed Homework 0. In today's lecture, you will get the opportunity to:\n",
    "\n",
    "<ul>\n",
    "    <li>Learn <b>Vim</b> and how to navigate the UNIX environment</li>\n",
    "    <li><b>Create</b> files and compile basic C programs from the <b>command line</b></li>\n",
    "    <li>Gain familiarity with <b>data types</b> and print the results in several representations</li>\n",
    "    <li>Learn about compiler flags and their importance in <b>production quality</b> code</li>\n",
    "    <li>Build a Makefile and fix Makefile errors</li>\n",
    "</ul>"
   ]
  },
  {
   "cell_type": "markdown",
   "id": "6e618905",
   "metadata": {},
   "source": [
    "Log into the Notre Dame student machines the way you did in Homework 0.\n",
    "\n",
    "<b>To review:</b>\n",
    "\n",
    "1 - Open \"Tabby Terminal\". This command will bring up the Tabby Terminal app for you to run.\n",
    "\n",
    "![Tabby Terminal](https://github.com/mmorri22/su23-cse20332/blob/main/homeworks/homework0/Tabby%20Terminal.png?raw=true)\n",
    "\n",
    "2 - In the first tab, you should enter the command: <code>ssh -Y [Your_NetID]@student00.cse.nd.edu</code>\n",
    "\n",
    "> Example: my email is <code>matt.morrison@nd.edu</code>, but my NetID is <code>mmorri22</code>, so I need to use <code>ssh -Y mmorri22@student00.cse.nd.edu</code> to log into the servers.\n",
    "\n",
    "<ul>\n",
    "    <li>The <code>-Y</code> is included to treat the Notre Dame machines as a <b>trusted client</b>.</li>\n",
    "    <li>You can use any of the <code>student00 - student12</code> servers in this course.</li>\n",
    "</ul>\n",
    "\n",
    "3 - We will go into the Dropbox directory where you will write your code\n",
    "\n",
    "<code>cd esc-courses</code>\n",
    "\n",
    "Next, go to the Dropbox with the course folder:\n",
    "\n",
    "<code>cd su23-cse-20232.01</code>\n",
    "\n",
    "<code>cd dropbox</code>\n",
    "\n",
    "At this point, you will make a directory for you to practice your code. The command <code>mkdir</code> stands for <b>Make Directory</b>. Then you will change directory (using the command <code>cd</code>) into that folder.\n",
    "\n",
    "<code>mkdir lec03</code>"
   ]
  },
  {
   "cell_type": "markdown",
   "id": "d5db9eba",
   "metadata": {},
   "source": [
    "## Creating a File and Executing\n",
    "\n",
    "In Vim, create a file <code>hello.c</code> with the following commands:\n",
    "\n",
    "    touch hello.c\n",
    "    ls -l\n",
    "    \n",
    "You will now see a hello.c file with a size of <code>0</code>"
   ]
  },
  {
   "cell_type": "markdown",
   "id": "91a8e0ff",
   "metadata": {},
   "source": [
    "## Writing a basic C Program\n",
    "\n",
    "Now we will write hello.c, including learning how to perform basic Vim commands. These include:\n",
    "\n",
    "<ul>\n",
    "    <li>Type <code>i</code> to start writing in Vim.</li>\n",
    "    <li>Hold <code>Shift</code> and type <code>:</code> to set up saving and quitting</li>\n",
    "    <li>Type <code>wq!</code> to write and quit the program</li>\n",
    "</ul>"
   ]
  },
  {
   "cell_type": "code",
   "execution_count": null,
   "id": "cc089250",
   "metadata": {},
   "outputs": [],
   "source": []
  }
 ],
 "metadata": {
  "kernelspec": {
   "display_name": "Python 3 (ipykernel)",
   "language": "python",
   "name": "python3"
  },
  "language_info": {
   "codemirror_mode": {
    "name": "ipython",
    "version": 3
   },
   "file_extension": ".py",
   "mimetype": "text/x-python",
   "name": "python",
   "nbconvert_exporter": "python",
   "pygments_lexer": "ipython3",
   "version": "3.9.13"
  }
 },
 "nbformat": 4,
 "nbformat_minor": 5
}
