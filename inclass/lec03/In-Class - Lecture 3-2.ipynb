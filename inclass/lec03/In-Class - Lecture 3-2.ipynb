{
 "cells": [
  {
   "cell_type": "markdown",
   "id": "6329e3ab",
   "metadata": {},
   "source": [
    "# In-Class - Lecture 3-2 - Output Specifiers and Memory"
   ]
  },
  {
   "cell_type": "markdown",
   "id": "1f6be130",
   "metadata": {},
   "source": [
    "## How Static Memory Works\n",
    "\n",
    "We will use our first output specifier to print the location of <code>stdout</code> and discuss how memory works in a computing device.\n",
    "\n",
    "We will print the location of where <code>stdout</code> is in the system using the <code>%p</code> output specifier.\n",
    "\n",
    "    cp hello.c hello_stdout.c"
   ]
  },
  {
   "cell_type": "code",
   "execution_count": null,
   "id": "98b93a17",
   "metadata": {},
   "outputs": [],
   "source": []
  }
 ],
 "metadata": {
  "kernelspec": {
   "display_name": "Python 3 (ipykernel)",
   "language": "python",
   "name": "python3"
  },
  "language_info": {
   "codemirror_mode": {
    "name": "ipython",
    "version": 3
   },
   "file_extension": ".py",
   "mimetype": "text/x-python",
   "name": "python",
   "nbconvert_exporter": "python",
   "pygments_lexer": "ipython3",
   "version": "3.9.13"
  }
 },
 "nbformat": 4,
 "nbformat_minor": 5
}
