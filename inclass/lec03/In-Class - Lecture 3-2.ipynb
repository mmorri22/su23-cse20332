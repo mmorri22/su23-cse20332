{
 "cells": [
  {
   "cell_type": "markdown",
   "id": "4dccda08",
   "metadata": {},
   "source": [
    "# In-Class - Lecture 3-2 - Output Specifiers and Memory"
   ]
  },
  {
   "cell_type": "markdown",
   "id": "0cf06f9c",
   "metadata": {},
   "source": [
    "## How Static Memory Works\n",
    "\n",
    "We will use our first output specifier to print the location of <code>stdout</code> and discuss how memory works in a computing device.\n",
    "\n",
    "We will print the location of where <code>stdout</code> is in the system using the <code>%p</code> output specifier.\n",
    "\n",
    "    cp hello.c hello_stdout.c"
   ]
  },
  {
   "cell_type": "markdown",
   "id": "ed995ae3",
   "metadata": {},
   "source": [
    "Next, I want you to build your own file called <code>int_print.c</code>. Be sure you have the following:\n",
    "\n",
    "<ul>\n",
    "    <li>The standard input-output library</li>\n",
    "    <li>The proper main function call, with return 0 included</li>\n",
    "    <li>An integers <code>int_a</code> set to a positive integer</li>\n",
    "    <li>Using <code>fprintf</code>, print the decimal and hexadecimal versions of int_a, as well as the <i>address</i> of that register</li>\n",
    "</ul>\n",
    "\n",
    "To compile, run, and then delete the executable, perform the following commands in Tabby:\n",
    "\n",
    "    gcc -Wall -std=c11 -Werror int_print.c -o int_print\n",
    "    ./int_print\n",
    "    rm int_print\n",
    "    \n",
    "After you get it working, change the positive number to a negative number and run it, and see what the outputs are, specifically with respect to the hexadecimal representation."
   ]
  },
  {
   "cell_type": "markdown",
   "id": "e927969a",
   "metadata": {},
   "source": [
    "Now, we will do the same thing, but with division.\n",
    "\n",
    "    cp int_print.c uint_print.c\n",
    "    \n",
    "<ul>\n",
    "    <li>Change <code>int_a</code> to <code>uint_a</code> and change the variable type from an <code>int</code> to an <code>unsigned int</code> in the code.</li>\n",
    "    <li>Set <code>uint_a</code> to a positive number</li>\n",
    "</ul>\n",
    "\n",
    "To compile, run, and then delete the executable, perform the following commands in Tabby:\n",
    "\n",
    "    gcc -Wall -std=c11 -Werror uint_print.c -o uint_print\n",
    "    ./uint_print\n",
    "    rm uint_print\n",
    "    \n",
    "After you get it working, change the positive number to a negative number and run it, and see what the outputs are, specifically with respect to the hexadecimal representation.\n",
    "\n",
    "> You will see the importance of keeping track of data types. We will discuss the new Production Quality Compilation flag <code>-Wconversion</code>\n",
    "\n",
    "With the same code, try this compilation.\n",
    "\n",
    "    gcc -Wall -std=c11 -Wconversion -Werror uint_print.c -o uint_print\n",
    "    \n",
    "You will get the following\n",
    "\n",
    "    error: negative integer implicitly converted to unsigned int [-Wsign-conversion]\n",
    "    \n",
    "This is a good thing! It keeps track of your use of data types to ensure your program is safe! We will use <code>-Wconversion</code> from now on."
   ]
  },
  {
   "cell_type": "markdown",
   "id": "6d708548",
   "metadata": {},
   "source": [
    "Next, I want you to build your own file called <code>int_print.c</code>. Be sure you have the following:\n",
    "\n",
    "<ul>\n",
    "    <li>The standard input-output library</li>\n",
    "    <li>The proper main function call, with return 0 included</li>\n",
    "    <li>Three integers <code>int_a</code>, <code>int_b</code>, and <code>int_sum</code></li>\n",
    "    <li>Set <code>int_a</code> and <code>int_b</code> equal to any integer you want</li>\n",
    "    <li>Set <code>int_sum</code> to <code>int_a</code> plus <code>int_b</code></li>\n",
    "    <li>Using <code>fprintf</code>, print the decimal and hexadecimal versions of each value, as well as the <i>address</i> of that register</li>\n",
    "</ul>\n",
    "\n",
    "To compile, run, and then delete the executable, perform the following commands in Tabby:\n",
    "\n",
    "    gcc -Wall -std=c11 -Wconversion -Werror int_sum.c -o int_sum\n",
    "    ./int_sum\n",
    "    rm int_sum"
   ]
  },
  {
   "cell_type": "markdown",
   "id": "c8f3c152",
   "metadata": {},
   "source": [
    "Now, we will do the same thing, but with division.\n",
    "\n",
    "    cp int_print.c int_div.c\n",
    "    \n",
    "<ul>\n",
    "    <li>Change <code>int_sum</code> to <code>int_div</code> in the code.</li>\n",
    "    <li>Set <code>int_div</code> to <code>int_a</code> divided by <code>int_b</code></li>\n",
    "</ul>\n",
    "\n",
    "To compile, run, and then delete the executable, perform the following commands in Tabby:\n",
    "\n",
    "    gcc -Wall -std=c11 -Wconversion -Werror int_div.c -o int_div\n",
    "    ./int_div\n",
    "    rm int_div"
   ]
  },
  {
   "cell_type": "markdown",
   "id": "c54d122f",
   "metadata": {},
   "source": [
    "## Mod and Div\n",
    "\n",
    "There is an issue that came up when you tried to perform the <code>int_div.c</code> program.\n",
    "\n",
    "    cp int_div.c fixed_div.c\n",
    "    \n",
    "To improve the accuracy, we will perform the following tasks\n",
    "    \n",
    "<ul>\n",
    "    <li>Change the <code>int_div</code> variable name to <code>quotient</code></li>\n",
    "    <li>Create a variable called <code>remainder</code> that uses modulo (<code>%</code>) to get the reminder of int_a and int_b</li>\n",
    "    <li>Print the decimal representations of <code>quotient</code> and <code>remainder</code> to get the accurate representation of the division</li>\n",
    "</ul>\n",
    "\n",
    "To compile, run, and then delete the executable, perform the following commands in Tabby:\n",
    "\n",
    "    gcc -Wall -std=c11 -Wconversion -Werror fixed_div.c -o fixed_div\n",
    "    ./fixed_div\n",
    "    rm fixed_div"
   ]
  },
  {
   "cell_type": "markdown",
   "id": "bc0b804a",
   "metadata": {},
   "source": [
    "## Reviewing the Gangnam Style Overflow and the benefits of Production Quality Compilation Flags\n",
    "\n",
    "Perform the command:\n",
    "\n",
    "    wget https://raw.githubusercontent.com/mmorri22/su23-cse20332/main/inclass/lec03/gangnam.c\n",
    "    \n",
    "We will review the code to see the importance if understanding data types, even when we compile <i>with</i> PQC flags.\n",
    "\n",
    "    gcc -Wall -std=c11 -Wconversion gangnam.c -o gangnam\n",
    "    ./gangnam\n",
    "    rm gangnam\n",
    "    \n",
    "Next, perform the command:\n",
    "\n",
    "    wget https://raw.githubusercontent.com/mmorri22/su23-cse20332/main/inclass/lec03/gangnam_long.c\n",
    "    \n",
    "We will look at the type, and then what happens when we run that code:\n",
    "\n",
    "    gcc -Wall -std=c11 -Wconversion gangnam_long.c -o gangnam_long\n",
    "    ./gangnam_long\n",
    "    rm gangnam_long"
   ]
  },
  {
   "cell_type": "markdown",
   "id": "7f24ae0d",
   "metadata": {},
   "source": [
    "## A Quirk with Floats and Double\n",
    "\n",
    "Perform the command:\n",
    "\n",
    "    wget https://raw.githubusercontent.com/mmorri22/su23-cse20332/main/inclass/lec03/float_no_compile.c\n",
    "    \n",
    "Now, we \n",
    "    \n",
    "Next, compile using the following commands:\n",
    "\n",
    "    gcc -Wall -std=c11 -Wconversion -Werror float_no_compile.c -o float_no_compile\n",
    "    \n",
    "We get a compiler error! Any theories as to why?\n",
    "\n",
    "To fix it, we will <b>cast</b> the 3.1 to ensure the compiler sets it as a float first\n",
    "\n",
    "    cp float_no_compile.c float_compile.c\n",
    "    vim float_compile.c\n",
    "    \n",
    "Change the line of code to:\n",
    "\n",
    "<code>float the_float = <font color = \"red\">(float)</font>3.1;</code>\n",
    "\n",
    "Next, compile using the following commands:\n",
    "\n",
    "    gcc -Wall -std=c11 -Wconversion -Werror float_compile.c -o float_compile\n",
    "    ./float_compile\n",
    "    rm float_compile\n",
    "\n",
    "> Moral of the Story: When in doubt, use a double!"
   ]
  },
  {
   "cell_type": "markdown",
   "id": "27235229",
   "metadata": {},
   "source": [
    "## Float Division\n",
    "\n",
    "To see the difference between accurate and precision, perform the following:\n",
    "\n",
    "    cp int_div.c double_div.c\n",
    "    \n",
    "To improve the precision, we will perform the following tasks\n",
    "<ul>\n",
    "    <li>Change <code>int_a</code> and <code>int_b</code> variable names to <code>double_a</code> and <code>double_b</code>, and change their variable type from <code>int</code> to <code>double</code></li>\n",
    "    <li>Change the <code>int_div</code> variable name to <code>double_div</code></li>\n",
    "    <li>Print the double representations of <code>double_div</code> using the <code>%lf</code> output specifier.</li>\n",
    "</ul>\n",
    "\n",
    "To compile, run, and then delete the executable, perform the following commands in Tabby:\n",
    "\n",
    "    gcc -Wall -std=c11 -Wconversion -Werror double_div.c -o double_div\n",
    "    ./double_div\n",
    "    rm double_div\n",
    "    \n",
    "Our next step will be to print the IEEE754 format using the <code>%la</code> specifier"
   ]
  },
  {
   "cell_type": "markdown",
   "id": "2e05ec76",
   "metadata": {},
   "source": [
    "#### In the next part, we are going to create a Makefile to improve our compilation efficiency!"
   ]
  }
 ],
 "metadata": {
  "kernelspec": {
   "display_name": "Python 3 (ipykernel)",
   "language": "python",
   "name": "python3"
  },
  "language_info": {
   "codemirror_mode": {
    "name": "ipython",
    "version": 3
   },
   "file_extension": ".py",
   "mimetype": "text/x-python",
   "name": "python",
   "nbconvert_exporter": "python",
   "pygments_lexer": "ipython3",
   "version": "3.9.13"
  }
 },
 "nbformat": 4,
 "nbformat_minor": 5
}
