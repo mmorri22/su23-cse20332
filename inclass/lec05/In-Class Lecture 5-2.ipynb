{
 "cells": [
  {
   "cell_type": "markdown",
   "id": "7275299a",
   "metadata": {},
   "source": [
    "## In-Class Lecture 5-2 - Pointers Example"
   ]
  },
  {
   "cell_type": "markdown",
   "id": "89b66116",
   "metadata": {},
   "source": [
    "### Trace Example\n",
    "\n",
    "You have been provided with an advanced file <code><a href=\"https://raw.githubusercontent.com/mmorri22/su23-cse20332/main/inclass/lec05/ptr_trace.c\">ptr_trace.c</a></code>. Open and take a look.\n",
    "\n",
    "The commands to run the code are\n",
    "\n",
    "    make ptr_trace\n",
    "    make clean\n",
    "\n",
    "### Step 1 - We will trace the operations and determine what we believe will happen\n",
    "\n",
    "### Step 2 - We need to address and value of b (and how it relates to the variables) in the function"
   ]
  },
  {
   "cell_type": "code",
   "execution_count": null,
   "id": "13d33f27",
   "metadata": {},
   "outputs": [],
   "source": []
  }
 ],
 "metadata": {
  "kernelspec": {
   "display_name": "Python 3 (ipykernel)",
   "language": "python",
   "name": "python3"
  },
  "language_info": {
   "codemirror_mode": {
    "name": "ipython",
    "version": 3
   },
   "file_extension": ".py",
   "mimetype": "text/x-python",
   "name": "python",
   "nbconvert_exporter": "python",
   "pygments_lexer": "ipython3",
   "version": "3.9.13"
  }
 },
 "nbformat": 4,
 "nbformat_minor": 5
}
