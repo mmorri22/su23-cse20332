{
 "cells": [
  {
   "cell_type": "markdown",
   "id": "379704f7",
   "metadata": {},
   "source": [
    "## In-Class Lecture 5-3 - fscanf Example"
   ]
  },
  {
   "cell_type": "markdown",
   "id": "155a488c",
   "metadata": {},
   "source": [
    "You have been provided with an advanced file <code><a href=\"https://raw.githubusercontent.com/mmorri22/su23-cse20332/main/inclass/lec05/fscanf.c\">fscanf.c</a></code>. Open and take a look.\n",
    "\n",
    "The commands to run the code are\n",
    "\n",
    "    make fscanf\n",
    "    make clean"
   ]
  },
  {
   "cell_type": "markdown",
   "id": "07f63a81",
   "metadata": {},
   "source": [
    "### fscanf and char arrays\n",
    "\n",
    "First, we will learn about how fscanf works in the slides.\n",
    "\n",
    "Then, we will learn about allocating static character arrays"
   ]
  },
  {
   "cell_type": "markdown",
   "id": "c7197041",
   "metadata": {},
   "source": [
    "### Calling fscanf in main\n",
    "\n",
    "Step 1 - Write fscanf to read in the values in main\n",
    "\n",
    "Step 2 - Write fprintf to print all the values"
   ]
  },
  {
   "cell_type": "markdown",
   "id": "707ab82d",
   "metadata": {},
   "source": [
    "### Calling fscanf and fprintf in a function\n",
    "\n",
    "Step 3 - Write a function declaration and definition for <code>fscanf_pbr</code> that passes an integer, a float, a double, and a character string by reference, and then calls <code>fscanf</code> in that function\n",
    "\n",
    "> <b>Objective</b> - This can be a bit tricky, but if you can write this function correctly, you have a strong understanding of how pass by reference for variables and arrays works!\n",
    "\n",
    "Step 4 - Write a function declaration and definition for <code>fprintf_pbv</code> that passes an integer, a float, a double, and a character string by reference, and then calls <code>fprintf</code> in that function\n",
    "\n",
    "Step 5 - Call them both in main"
   ]
  },
  {
   "cell_type": "code",
   "execution_count": null,
   "id": "61584f6a",
   "metadata": {},
   "outputs": [],
   "source": []
  }
 ],
 "metadata": {
  "kernelspec": {
   "display_name": "Python 3 (ipykernel)",
   "language": "python",
   "name": "python3"
  },
  "language_info": {
   "codemirror_mode": {
    "name": "ipython",
    "version": 3
   },
   "file_extension": ".py",
   "mimetype": "text/x-python",
   "name": "python",
   "nbconvert_exporter": "python",
   "pygments_lexer": "ipython3",
   "version": "3.9.13"
  }
 },
 "nbformat": 4,
 "nbformat_minor": 5
}
