{
 "cells": [
  {
   "cell_type": "markdown",
   "id": "23fe09e0",
   "metadata": {},
   "source": [
    "## In-Class Lecture 5-1 - Pass By Reference Example"
   ]
  },
  {
   "cell_type": "markdown",
   "id": "4a5bc566",
   "metadata": {},
   "source": [
    "To setup for today's in-class coding opportunity:\n",
    "\n",
    "<ol>\n",
    "    <li>Go to your dropbox: <code>cd esc-courses/su23-cse-20232.01/dropbox</code></li>\n",
    "    <li><code>mkdir lec05</code></li>\n",
    "</ol>\n",
    "\n",
    "To obtain the code for today's lecture, perform the following commands:\n",
    "\n",
    "    wget https://raw.githubusercontent.com/mmorri22/su23-cse20332/main/inclass/lec05/setup.sh\n",
    "    chmod a+rx setup.sh\n",
    "    ./setup.sh\n",
    "    \n",
    "To confirm, perform the <code>ls</code> command. You will see the following:\n",
    "\n",
    "    Makefile fscanf.c hours.c insert_sort.c ptr_trace.c"
   ]
  },
  {
   "cell_type": "markdown",
   "id": "3a1af539",
   "metadata": {},
   "source": [
    "### Hours Example\n",
    "\n",
    "In this example, you will: \n",
    "<ul>\n",
    "    <li>get experience programming with pass by reference</li> \n",
    "    <li>understand the benefit of using pointers and functions</li>\n",
    "    <li>Compiler Directives</li>\n",
    "    <li>learn about how to read in information from the terminal.</li>\n",
    "</ul>\n",
    "\n",
    "You will write a program where the user will read in an unsigned integer representing the number of minutes, and you will convert to hours and minutes.\n",
    "\n",
    "Example Output:\n",
    "\n",
    "    Test program to convert time values\n",
    "    Enter a time duration in minutes: 157\n",
    "    Number of minutes entered: 157\n",
    "    HH:MM format: 2:37"
   ]
  },
  {
   "cell_type": "markdown",
   "id": "f3ef24b2",
   "metadata": {},
   "source": [
    "### Compiler Directives\n",
    "\n",
    "We will learn about compiler directives in the slides\n",
    "\n",
    "#### Step 1 - Write a compiler directive for MINUTES that sets it to 60"
   ]
  },
  {
   "cell_type": "markdown",
   "id": "62dbe9a6",
   "metadata": {},
   "source": [
    "### fscanf\n",
    "\n",
    "We will learn about fscanf, and how to pass by reference to get values from the terminal\n",
    "\n",
    "#### Step 2 - Use <code>fscanf</code> to save a value for time\n",
    "\n",
    "#### Step 2b - Use <code>fprintf</code> to print the result to the terminal"
   ]
  },
  {
   "cell_type": "markdown",
   "id": "921301a7",
   "metadata": {},
   "source": [
    "### Functions using Pass By Reference\n",
    "\n",
    "#### Step 3 - Write a function declaration for <code>convert_time_to_hm</code>\n",
    "<ul><li>Passes time by value, and hours and minutes by reference</li></ul>\n",
    "\n",
    "#### Step 4 - Write a function definition for <code>convert_time_to_hm</code>\n",
    "<ul>\n",
    "    <li>Calculate the hours and save in the reference variable</li>\n",
    "    <li>Calculate the minutes and save in the reference variable</li>\n",
    "</ul>\n",
    "\n",
    "#### Step 5 - Call <code>convert_time_to_hm</code> in main"
   ]
  },
  {
   "cell_type": "markdown",
   "id": "dc045563",
   "metadata": {},
   "source": [
    "### Compile and Run\n",
    "\n",
    "Using the provided Makefile, run the following command:\n",
    "\n",
    "    > make hours\n",
    "    gcc -std=c11 -O2 -g -Wall -Wextra -Wconversion -Wshadow -Werror -lm -c hours.c\n",
    "    gcc -std=c11 -O2 -g -Wall -Wextra -Wconversion -Wshadow -Werror -lm -o hours hours.o\n",
    "    ./hours\n",
    "    Test program to convert time values\n",
    "    Enter a time duration in minutes: 192\n",
    "    Number of minutes entered: 192\n",
    "    HH:MM format: 3:12\n",
    "    > make clean\n",
    "    rm -rf *.o *.swp hours"
   ]
  }
 ],
 "metadata": {
  "kernelspec": {
   "display_name": "Python 3 (ipykernel)",
   "language": "python",
   "name": "python3"
  },
  "language_info": {
   "codemirror_mode": {
    "name": "ipython",
    "version": 3
   },
   "file_extension": ".py",
   "mimetype": "text/x-python",
   "name": "python",
   "nbconvert_exporter": "python",
   "pygments_lexer": "ipython3",
   "version": "3.9.13"
  }
 },
 "nbformat": 4,
 "nbformat_minor": 5
}
