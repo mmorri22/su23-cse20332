{
 "cells": [
  {
   "cell_type": "markdown",
   "id": "4eee3a4f",
   "metadata": {},
   "source": [
    "## In-Class Lecture 5-4 - Combining Concepts: Insertion Sort"
   ]
  },
  {
   "cell_type": "markdown",
   "id": "9b81d69e",
   "metadata": {},
   "source": [
    "You have been provided with an advanced file <code><a href=\"https://raw.githubusercontent.com/mmorri22/su23-cse20332/main/inclass/lec05/insert_sort.c\">insert_sort.c</a></code>. Open and take a look.\n",
    "\n",
    "The commands to run the code are\n",
    "\n",
    "    make insert_sort\n",
    "    make clean"
   ]
  },
  {
   "cell_type": "markdown",
   "id": "9dd11c5e",
   "metadata": {},
   "source": [
    "### How Insert Sort Works\n",
    "\n",
    "We select a location and then move the data at that location to the left until it is no longer smaller than the data at the previous array location.\n",
    "\n",
    "<ul>\n",
    "    <li>We split the array into a sorted part and an unsorted part.</li>\n",
    "    <ul><li>So initially, the value is unsorted, so you begin at array element 0.</li></ul>\n",
    "    <li>The sorted part will go from the beginning of the array to some index, and the rest of the array will form the unsorted part.</li>\n",
    "    <li>We start by saying that only the first element forms the sorted part.</li>\n",
    "    <li>In each step, we take away one element of the unsorted portion of the array and insert it in its place in the sorted part of the array. This increases the length of the sorted part of the array by one.</li>\n",
    "    <li>We are done after n - 1 steps because we increase the length of the sorted part of the array by 1</li>\n",
    "    <li>Once the length of the sorted part of the array is n, we know that the array is sorted.</li>\n",
    "</ul>"
   ]
  },
  {
   "cell_type": "markdown",
   "id": "bbf76616",
   "metadata": {},
   "source": [
    "### Example Sort\n",
    "\n",
    "Consider the integer array: {22 17 10 84 99 7 36 8 15}. The sort will go like this:\n",
    "\n",
    "<code>22 17 10 84 99 7 36 8 15</code>\n",
    "\n",
    "Start at 17, move it until it is no longer smaller.\n",
    "\n",
    "<code>17 22 10 84 99 7 36 8 15</code>\n",
    "\n",
    "Start at 10, move it until it is no longer smaller.\n",
    "\n",
    "<code>10 17 22 84 99 7 36 8 15</code>\n",
    "\n",
    "84 cannot be moved.\n",
    "99 cannot be moved.\n",
    "\n",
    "Start at 7, move it until it is no longer smaller.\n",
    "\n",
    "<code>7 10 17 22 84 99 36 8 15</code>\n",
    "\n",
    "Start at 36, move it until it is no longer smaller.\n",
    "\n",
    "<code>7 10 17 22 36 84 99 8 15</code>\n",
    "\n",
    "Start at 8, move it until it is no longer smaller.\n",
    "\n",
    "<code>7 8 10 17 22 36 84 99 15</code>\n",
    "\n",
    "Start at 15, move it until it is no longer smaller.\n",
    "\n",
    "<code>7 8 10 15 17 22 36 84 99</code>"
   ]
  },
  {
   "cell_type": "markdown",
   "id": "eb01e55c",
   "metadata": {},
   "source": [
    "### Work Together on Sort\n",
    "\n",
    "We will work together to fill out the <code>insertion_sort(int int_array[], long unsigned int length)</code>"
   ]
  }
 ],
 "metadata": {
  "kernelspec": {
   "display_name": "Python 3 (ipykernel)",
   "language": "python",
   "name": "python3"
  },
  "language_info": {
   "codemirror_mode": {
    "name": "ipython",
    "version": 3
   },
   "file_extension": ".py",
   "mimetype": "text/x-python",
   "name": "python",
   "nbconvert_exporter": "python",
   "pygments_lexer": "ipython3",
   "version": "3.9.13"
  }
 },
 "nbformat": 4,
 "nbformat_minor": 5
}
