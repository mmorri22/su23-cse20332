{
 "cells": [
  {
   "cell_type": "markdown",
   "id": "5897123b",
   "metadata": {},
   "source": [
    "## In-Class Lecture 5-4 - Header Files"
   ]
  },
  {
   "cell_type": "markdown",
   "id": "e4ddd1c9",
   "metadata": {},
   "source": [
    "### Create a Header File\n",
    "\n",
    "We will create two files: util.c and util.h\n",
    "\n",
    "Put the following at the top of util.h:\n",
    "\n",
    "<code>#ifndef UTIL_H</code>\n",
    "<code>#define UTIL_H</code>\n",
    "\n",
    "And put the following at the bottom:\n",
    "\n",
    "<code>#endif</code>\n",
    "\n",
    "Put all the function declarations in util.h"
   ]
  },
  {
   "cell_type": "markdown",
   "id": "6b3320d2",
   "metadata": {},
   "source": [
    "### util.c\n",
    "\n",
    "At the top of <code>util.c</code>, put the following:\n",
    "\n",
    "<code>#include \"util.h\"</code>\n",
    "\n",
    "Put all the function definitions after <code>#include \"util.h\"</code>"
   ]
  },
  {
   "cell_type": "markdown",
   "id": "4fec9490",
   "metadata": {},
   "source": [
    "### Function Declarations in util.h\n",
    "\n",
    "Move the function declarations from <code>hours.c</code>, <code>fscanf.c</code>, and <code>ptr_trace.c</code> into <code>util.h</code>\n",
    "\n",
    "Put <code>#include \"util.h\"</code> at the top of <code>hours.c</code>, <code>fscanf.c</code>, and <code>ptr_trace.c</code>"
   ]
  },
  {
   "cell_type": "markdown",
   "id": "fc163cc9",
   "metadata": {},
   "source": [
    "### Function Definitions in util.c\n",
    "\n",
    "Move the function declarations from <code>hours.c</code>, <code>fscanf.c</code>, and <code>ptr_trace.c</code> into <code>util.h</code>"
   ]
  },
  {
   "cell_type": "markdown",
   "id": "595a5e8f",
   "metadata": {},
   "source": [
    "### Modifying the Makefile to compile\n",
    "\n",
    "Next, we will create an object file <code>util.o</code> in order to compile our library with the main functions.\n",
    "\n",
    "    util.o: util.c\n",
    "        $(CC) $(CFLAGS) -c util.c\n",
    "        \n",
    "Now, you can add the <code>util.o</code> to any objects line, and you will be able to compile your code. For example:\n",
    "\n",
    "    hours_objs: hours.o util.o"
   ]
  },
  {
   "cell_type": "code",
   "execution_count": null,
   "id": "b41594de",
   "metadata": {},
   "outputs": [],
   "source": []
  }
 ],
 "metadata": {
  "kernelspec": {
   "display_name": "Python 3 (ipykernel)",
   "language": "python",
   "name": "python3"
  },
  "language_info": {
   "codemirror_mode": {
    "name": "ipython",
    "version": 3
   },
   "file_extension": ".py",
   "mimetype": "text/x-python",
   "name": "python",
   "nbconvert_exporter": "python",
   "pygments_lexer": "ipython3",
   "version": "3.9.13"
  }
 },
 "nbformat": 4,
 "nbformat_minor": 5
}
