{
 "cells": [
  {
   "cell_type": "markdown",
   "id": "7093c588",
   "metadata": {},
   "source": [
    "## In-Class Lecture 5-5 - Header Files"
   ]
  },
  {
   "cell_type": "markdown",
   "id": "61c38f46",
   "metadata": {},
   "source": [
    "### Create a Header File\n",
    "\n",
    "We will create two files: util.c and util.h\n",
    "\n",
    "Put the following at the top of util.h:\n",
    "\n",
    "<code>#ifndef UTIL_H</code>\n",
    "<code>#define UTIL_H</code>\n",
    "\n",
    "And put the following at the bottom:\n",
    "\n",
    "<code>#endif</code>\n",
    "\n",
    "Put all the function declarations in util.h"
   ]
  },
  {
   "cell_type": "markdown",
   "id": "6ef15329",
   "metadata": {},
   "source": [
    "### util.c\n",
    "\n",
    "At the top of <code>util.c</code>, put the following:\n",
    "\n",
    "<code>#include \"util.h\"</code>\n",
    "\n",
    "Put all the function definitions after"
   ]
  },
  {
   "cell_type": "code",
   "execution_count": null,
   "id": "aa002ee8",
   "metadata": {},
   "outputs": [],
   "source": []
  }
 ],
 "metadata": {
  "kernelspec": {
   "display_name": "Python 3 (ipykernel)",
   "language": "python",
   "name": "python3"
  },
  "language_info": {
   "codemirror_mode": {
    "name": "ipython",
    "version": 3
   },
   "file_extension": ".py",
   "mimetype": "text/x-python",
   "name": "python",
   "nbconvert_exporter": "python",
   "pygments_lexer": "ipython3",
   "version": "3.9.13"
  }
 },
 "nbformat": 4,
 "nbformat_minor": 5
}
