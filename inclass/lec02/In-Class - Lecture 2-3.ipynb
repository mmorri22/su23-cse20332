{
 "cells": [
  {
   "cell_type": "markdown",
   "id": "e8dd70a4",
   "metadata": {},
   "source": [
    "# In-Class - Lecture 2-3 - IEEE 754 Format"
   ]
  },
  {
   "attachments": {},
   "cell_type": "markdown",
   "id": "c51f0ad7",
   "metadata": {},
   "source": [
    "ICQ 1-13: Convert the following IEEE 754 Single Precision Format to decimal\n",
    "\n",
    "    0 10001010 10110000000000000000000\n",
    "\n",
    "ICQ 1-14: Convert the following from IEEE 754 Single Precision Format to decimal\n",
    "\n",
    "    1 01110111 01100000000000000000000"
   ]
  },
  {
   "cell_type": "markdown",
   "id": "082fb3b6",
   "metadata": {},
   "source": [
    "ICQ 1-15: Convert the following IEEE 754 Double Precision Format to decimal\n",
    "\n",
    "    0 10000000101 1010000000000000000000000000000000000000000000000000\n",
    "\n",
    "ICQ 1-16: If we took the first 32 bits of the previous problem, what would be the decimal result in IEEE 754 Single Prevision Format?\n"
   ]
  }
 ],
 "metadata": {
  "kernelspec": {
   "display_name": "Python 3 (ipykernel)",
   "language": "python",
   "name": "python3"
  },
  "language_info": {
   "codemirror_mode": {
    "name": "ipython",
    "version": 3
   },
   "file_extension": ".py",
   "mimetype": "text/x-python",
   "name": "python",
   "nbconvert_exporter": "python",
   "pygments_lexer": "ipython3",
   "version": "3.9.13"
  }
 },
 "nbformat": 4,
 "nbformat_minor": 5
}
