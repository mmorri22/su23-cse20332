{
 "cells": [
  {
   "cell_type": "markdown",
   "id": "576e13b4",
   "metadata": {},
   "source": [
    "## In-Class Lecture 7-4 - Register, Static, and Dynamic Memory Comparisons"
   ]
  },
  {
   "cell_type": "markdown",
   "id": "a8bdab30",
   "metadata": {},
   "source": [
    "In this in-class coding opportunity, we will compare the performance of the same program using iterations of dynamic, static, and registers."
   ]
  },
  {
   "cell_type": "markdown",
   "id": "da2fc469",
   "metadata": {},
   "source": [
    "### Dynamic Memory Allocation\n",
    "\n",
    "First, we will open the code <code>dyn_array_time.c</code>. You will see we have added C code segments that we will use to compare the runtime of the program.\n",
    "\n",
    "In the Tabby terminal, run the following two commands where we remove all PQC flags:\n",
    "\n",
    "    > gcc dyn_array_time.c -o dyn_array_time\n",
    "    > ./dyn_array_time\n",
    "    \n",
    "Make a note of the time it took to run the program."
   ]
  },
  {
   "cell_type": "markdown",
   "id": "2bc62865",
   "metadata": {},
   "source": [
    "### Compiler Optimization\n",
    "\n",
    "Next, run the command:\n",
    "\n",
    "    make dyn_array_time\n",
    "    \n",
    "What do you observe about the run time? This will give us an opportunity to discuss the <code>-O2</code> Production Quality Compilation Flag."
   ]
  },
  {
   "cell_type": "markdown",
   "id": "1c8cc486",
   "metadata": {},
   "source": [
    "### Modifying with static memory\n",
    "\n",
    "Next, perform the following command:\n",
    "\n",
    "    cp dyn_array_time.c stat_array_time.c\n",
    "    \n",
    "We will modify the fibonacci function to perform the following tasks:\n",
    "\n",
    "1 - Change from static to dynamic memory\n",
    "\n",
    "2 - Remove the free at the end of the function\n",
    "\n",
    "\n",
    "In the Tabby terminal, run the following two commands where we remove all PQC flags:\n",
    "\n",
    "    > gcc stat_array_time.c -o stat_array_time\n",
    "    > ./stat_array_time\n",
    "    \n",
    "Make a note of the time it took to run the program. Let's compare the run time of the static and dynamic memory run times."
   ]
  },
  {
   "cell_type": "markdown",
   "id": "ce964c21",
   "metadata": {},
   "source": [
    "### Improving with registers\n",
    "\n",
    "We now know that, in order to allocate memory in an array, we need a base address and then perform array arithmetic to find the location. Consider the issue with this line of code in <code>stat_array_time.c</code>\n",
    "\n",
    "    results_buffer[ iter ] = results_buffer[ iter-2 ] + results_buffer[ iter - 1 ];\n",
    "    \n",
    "For <code>results_buffer[ iter-2 ]</code> and <code>results_buffer[ iter-1 ]</code>, we are performing this underlying arithmetic every time.\n",
    "\n",
    "### We can do better!\n",
    "\n",
    "In that fibonacci function, we were able to store the first two values in the array automatically. What if we could store those as integer registers?\n",
    "\n",
    "Perform the following command:\n",
    "\n",
    "    cp stat_array_time.c stat_reg_time.c\n",
    "    \n",
    "Set the <code>first_val</code> and <code>second_val</code> equal to 1\n",
    "\n",
    "Then, in the loop, create a <code>third_val</code> equal to the sum. This is the only value you need to save to the array.\n",
    "\n",
    "Finally, set <code>first_val</code> equal to <code>second_val</code>, and <code>second_val</code> equal to <code>third_val</code>"
   ]
  },
  {
   "cell_type": "markdown",
   "id": "004b7e45",
   "metadata": {},
   "source": [
    "### Comparison Run in the Makefile\n",
    "\n",
    "Once you have them all done, you can compare the times using the command:\n",
    "\n",
    "    make time_comp\n",
    "    \n",
    "In the Makefile, you will see that the compilations I use are <i>without</i> PQC or <code>valgrind</code> in order to show the computer running at its most basic form:\n",
    "\n",
    "    # Inefficient Dynamic Array Compilation\n",
    "    dyn_array_time_ineff:\n",
    "        gcc dyn_array_time.c -o dyn_array_time\n",
    "        ./dyn_array_time\n",
    "\n",
    "    # Simple Stat Array Compiler that is *not* optimized\n",
    "    stat_array_time:\n",
    "        gcc stat_array_time.c -o stat_array_time\n",
    "        ./stat_array_time\n",
    "\n",
    "    # Simple Stat Array Compiler that is *not* optimized\n",
    "    stat_reg_time:\n",
    "        gcc stat_reg_time.c -o stat_reg_time\n",
    "        ./stat_reg_time\n",
    "\n",
    "    # Make all\n",
    "    time_comp: clean dyn_array_time_ineff stat_array_time stat_reg_time"
   ]
  },
  {
   "cell_type": "markdown",
   "id": "279b6e00",
   "metadata": {},
   "source": [
    "### Comparison Run Result\n",
    "\n",
    "Here is an expected outcome of the <code>make time_comp</code> command:\n",
    "\n",
    "    > make time_comp\n",
    "    rm -rf *.o *.swp stat_dyn_addr stat_dyn_func dyn_array_time stat_array_time stat_reg_time\n",
    "    gcc dyn_array_time.c -o dyn_array_time\n",
    "    ./dyn_array_time\n",
    "    Start time : 0\n",
    "    Finish time: 5530000      \n",
    "    Clocks per second: 1000000\n",
    "    Average Clocks: 5.530s    \n",
    "    gcc stat_array_time.c -o stat_array_time\n",
    "    ./stat_array_time\n",
    "    Start time : 0\n",
    "    Finish time: 3800000      \n",
    "    Clocks per second: 1000000\n",
    "    Average Clocks: 3.800s    \n",
    "    gcc stat_reg_time.c -o stat_reg_time\n",
    "    ./stat_reg_time\n",
    "    Start time : 0\n",
    "    Finish time: 2980000\n",
    "    Clocks per second: 1000000\n",
    "    Average Clocks: 2.980s"
   ]
  },
  {
   "cell_type": "code",
   "execution_count": null,
   "id": "61b88b68",
   "metadata": {},
   "outputs": [],
   "source": []
  }
 ],
 "metadata": {
  "kernelspec": {
   "display_name": "Python 3 (ipykernel)",
   "language": "python",
   "name": "python3"
  },
  "language_info": {
   "codemirror_mode": {
    "name": "ipython",
    "version": 3
   },
   "file_extension": ".py",
   "mimetype": "text/x-python",
   "name": "python",
   "nbconvert_exporter": "python",
   "pygments_lexer": "ipython3",
   "version": "3.9.13"
  }
 },
 "nbformat": 4,
 "nbformat_minor": 5
}
