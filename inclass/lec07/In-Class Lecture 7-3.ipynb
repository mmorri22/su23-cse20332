{
 "cells": [
  {
   "cell_type": "markdown",
   "id": "5ea0730a",
   "metadata": {},
   "source": [
    "## In-Class Lecture 7-3 - Pass by Reference and Memory Draw Problem 2"
   ]
  },
  {
   "cell_type": "markdown",
   "id": "785820e1",
   "metadata": {},
   "source": [
    "Copy the code you wrote in <code>stat_dyn_addr.c</code> into <code>stat_dyn_func.c</code>\n",
    "\n",
    "    cp stat_dyn_addr.c stat_dyn_func.c"
   ]
  },
  {
   "cell_type": "markdown",
   "id": "7f1a451a",
   "metadata": {},
   "source": [
    "We will modify the code where the static and dynamic arrays are passed by reference to functions. We will print addresses in <code>main</code> as well as the functions we pass the arrays to.\n",
    "\n",
    "You will be able to use the command <code>make stat_dyn_func</code> to compile this code."
   ]
  },
  {
   "cell_type": "markdown",
   "id": "76a05980",
   "metadata": {},
   "source": [
    "Run your program, and based on the printed addresses, we will draw the location and value of the data in:\n",
    "<ul>\n",
    "    <li>Registers</li>\n",
    "    <li>Stack</li>\n",
    "    <li>Heap</li>\n",
    "</ul>"
   ]
  }
 ],
 "metadata": {
  "kernelspec": {
   "display_name": "Python 3 (ipykernel)",
   "language": "python",
   "name": "python3"
  },
  "language_info": {
   "codemirror_mode": {
    "name": "ipython",
    "version": 3
   },
   "file_extension": ".py",
   "mimetype": "text/x-python",
   "name": "python",
   "nbconvert_exporter": "python",
   "pygments_lexer": "ipython3",
   "version": "3.9.13"
  }
 },
 "nbformat": 4,
 "nbformat_minor": 5
}
