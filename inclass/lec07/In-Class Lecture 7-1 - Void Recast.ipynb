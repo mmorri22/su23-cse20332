{
 "cells": [
  {
   "cell_type": "markdown",
   "id": "510b67e6",
   "metadata": {},
   "source": [
    "## In-Class Lecture 7-1 - Void Recast"
   ]
  },
  {
   "cell_type": "markdown",
   "id": "e82706b7",
   "metadata": {},
   "source": [
    "To setup for today's in-class coding opportunity:\n",
    "\n",
    "<ol>\n",
    "    <li>Go to your dropbox: <code>cd esc-courses/su23-cse-20232.01/dropbox</code></li>\n",
    "    <li><code>mkdir lec07</code></li>\n",
    "</ol>\n",
    "\n",
    "To obtain the code for today's lecture, perform the following commands:\n",
    "\n",
    "    wget https://raw.githubusercontent.com/mmorri22/su23-cse20332/main/inclass/lec08/setup.sh\n",
    "    chmod a+rx setup.sh\n",
    "    ./setup.sh\n",
    "    \n",
    "To confirm, perform the <code>ls</code> command. You will see the following:\n",
    "\n",
    "    Makefile dyn_array_time.c  stat_dyn_comp.c void_recast.c"
   ]
  },
  {
   "cell_type": "markdown",
   "id": "8b41956b",
   "metadata": {},
   "source": [
    "### Casting Void Pointers\n",
    "\n",
    "Open the file <code>void_recast.c</code>. This code is mostly blank. In these steps, we will work together on allocating dynamic memory, and learn the importance of casting memory.\n",
    "\n",
    "Finding the location of the comments in <code>void_recast.c</code> corresponding to the action, you will:\n",
    "\n",
    "1 - Allocate and Free memory\n",
    "\n",
    "    Step 1a - Allocate a length of four\n",
    "    Step 1b - Allocate a void pointer array\n",
    "    Step 1c - Free the void array\n",
    "\n",
    "2 - Using pointer arithmetic and ASCII hex, save values A, B, C, D\n",
    "\n",
    "\n",
    "3 - Loop through and print addresses\n",
    "\n",
    "\n",
    "4 - Loop through and print addresses \n"
   ]
  },
  {
   "cell_type": "markdown",
   "id": "1bd8a0ec",
   "metadata": {},
   "source": [
    "### Casting to int\n",
    "\n",
    "Step 6 - Cast the address to int and print the result as an integer and in hexadecimal\n",
    "\n",
    "What prints out?"
   ]
  },
  {
   "cell_type": "markdown",
   "id": "b1999cbd",
   "metadata": {},
   "source": [
    "### Update to Makefile using <code>valgrind</code>\n",
    "\n",
    "Open the Makefile. You will see we have modified the compilation for programs using dynamic memory. The <code>valgrind</code> tool can automatically detect many memory management and threading bugs, and profile your programs in detail, as we discussed in the reading assignment.\n",
    "\n",
    "> For Homework 4, you will be expected to include this <code><font color=\"red\">valgrind --leak-check=full</font></code> in your executable.\n",
    "\n",
    "<code># Create the Void Recast Address Object</code><br>\n",
    "<code>void_recast.o: void_recast.c</code><br>\n",
    "<code>\t$(CC) $(CFLAGS) -c void_recast.c</code><br>\n",
    "<code></code><br>\n",
    "<code># Void Recasy Address Objects</code><br>\n",
    "<code>void_recast_objs := void_recast.o</code><br>\n",
    "<code></code><br>\n",
    "<code># Void Recast Address Executable</code><br>\n",
    "<code>void_recast: $( void_recast_objs )\n",
    "     $(CC) $(CFLAGS) -o void_recast $(void_recast_objs)</code><br>\n",
    "<code>\t<font color=\"red\">valgrind --leak-check=full</font> ./void_recast</code><br>\n",
    "\n",
    "And our anticipated output will look like this:\n",
    "\n",
    "    > make void_recast\n",
    "    gcc -std=c11 -O2 -g -Wall -Wextra -Wconversion -Wshadow -Werror -lm -c void_recast.c\n",
    "    gcc -std=c11 -O2 -g -Wall -Wextra -Wconversion -Wshadow -Werror -lm -o void_recast void_recast.o\n",
    "    valgrind --leak-check=full ./void_recast\n",
    "    ==14302== Memcheck, a memory error detector\n",
    "    ==14302== Copyright (C) 2002-2017, and GNU GPL'd, by Julian Seward et al.\n",
    "    ==14302== Using Valgrind-3.14.0 and LibVEX; rerun with -h for copyright info\n",
    "    ==14302== Command: ./void_recast\n",
    "    ==14302==\n",
    "    address of void_array[0] = 0x5507040\n",
    "    address of void_array[1] = 0x5507041\n",
    "    address of void_array[2] = 0x5507042\n",
    "    address of void_array[3] = 0x5507043\n",
    "    value of void_array[0] = A\n",
    "    value of void_array[1] = B\n",
    "    value of void_array[2] = C\n",
    "    value of void_array[3] = D\n",
    "    1145258561 44434241\n",
    "    ==14302== \n",
    "    ==14302== HEAP SUMMARY:\n",
    "    ==14302==     in use at exit: 0 bytes in 0 blocks\n",
    "    ==14302==   total heap usage: 1 allocs, 1 frees, 4 bytes allocated\n",
    "    ==14302==\n",
    "    ==14302== All heap blocks were freed -- no leaks are possible\n",
    "    ==14302==\n",
    "    ==14302== For counts of detected and suppressed errors, rerun with: -v\n",
    "    ==14302== ERROR SUMMARY: 0 errors from 0 contexts (suppressed: 0 from 0)"
   ]
  }
 ],
 "metadata": {
  "kernelspec": {
   "display_name": "Python 3 (ipykernel)",
   "language": "python",
   "name": "python3"
  },
  "language_info": {
   "codemirror_mode": {
    "name": "ipython",
    "version": 3
   },
   "file_extension": ".py",
   "mimetype": "text/x-python",
   "name": "python",
   "nbconvert_exporter": "python",
   "pygments_lexer": "ipython3",
   "version": "3.9.13"
  }
 },
 "nbformat": 4,
 "nbformat_minor": 5
}
