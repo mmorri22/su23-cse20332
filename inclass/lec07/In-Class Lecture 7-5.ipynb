{
 "cells": [
  {
   "cell_type": "markdown",
   "id": "c0779adb",
   "metadata": {},
   "source": [
    "## In-Class Lecture 7-5 - Levels of Abstraction Haiku"
   ]
  },
  {
   "cell_type": "markdown",
   "id": "8153bd83",
   "metadata": {},
   "source": [
    "Time Permitting, you will develop a Haiku using three different \"levels of abstraction\".\n",
    "\n",
    "I have provided an example solution in the files <code>line1_ex.c</code>, <code>line2_ex.c</code>, and <code>line3_ex.c</code>\n",
    "\n",
    "I have provided an example solution in the files <code>line1.c</code>, <code>line2.c</code>, and <code>line3.c</code>\n",
    "\n",
    "> <b>Note:</b> You do not need to do the \"levels\" in the same order. Typically, students pick the shortest line to do the dynamic array and pointer arithmetic, and the longest line for the character array"
   ]
  },
  {
   "cell_type": "markdown",
   "id": "9e3c552f",
   "metadata": {},
   "source": [
    "### Character Array\n",
    "\n",
    "Similar to <code>line2_ex.c</code>, you will define a string, and then print using the <code>%s</code>."
   ]
  },
  {
   "cell_type": "markdown",
   "id": "f8478029",
   "metadata": {},
   "source": [
    "### Static Array and [] operator\n",
    "\n",
    "Similar to <code>line1_ex.c</code>, you will statically allocate an array and then use the [] array operator and the '' character notations to save the characters. Then, you will iterate through and print the results."
   ]
  },
  {
   "cell_type": "markdown",
   "id": "9e06174f",
   "metadata": {},
   "source": [
    "### Dynamic Array and Pointer Arithmetic\n",
    "\n",
    "Similar to <code>line3_ex.c</code>, you will dynamically allocate a <code>void*</code> array, perform pointer arithmetic and <code>char</code> casting, as well as hexademical ASCII characters.\n",
    "\n",
    "<ul><li><a href = \"https://www.asciitable.com/\">ASCII Table</a>"
   ]
  },
  {
   "cell_type": "markdown",
   "id": "97c71d3f",
   "metadata": {},
   "source": [
    "### Compilations\n",
    "\n",
    "For my example, run the following:\n",
    "\n",
    "    make haiku_ex\n",
    "    make clean\n",
    "    \n",
    "For you solution, run the following:\n",
    "\n",
    "    make haiku\n",
    "    make clean"
   ]
  },
  {
   "cell_type": "code",
   "execution_count": null,
   "id": "1edbede9",
   "metadata": {},
   "outputs": [],
   "source": []
  }
 ],
 "metadata": {
  "kernelspec": {
   "display_name": "Python 3 (ipykernel)",
   "language": "python",
   "name": "python3"
  },
  "language_info": {
   "codemirror_mode": {
    "name": "ipython",
    "version": 3
   },
   "file_extension": ".py",
   "mimetype": "text/x-python",
   "name": "python",
   "nbconvert_exporter": "python",
   "pygments_lexer": "ipython3",
   "version": "3.9.13"
  }
 },
 "nbformat": 4,
 "nbformat_minor": 5
}
