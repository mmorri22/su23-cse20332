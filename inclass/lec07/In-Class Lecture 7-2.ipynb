{
 "cells": [
  {
   "cell_type": "markdown",
   "id": "11e76e74",
   "metadata": {},
   "source": [
    "## In-Class Lecture 7-2 - Memory Draw Problem 1"
   ]
  },
  {
   "cell_type": "markdown",
   "id": "8950626b",
   "metadata": {},
   "source": [
    "### Drawing the memory layout\n",
    "\n",
    "Given your working <code>stat_dyn_addr.c</code>, you can design your own practice problems to draw a memory layout.\n",
    "\n",
    "Run your program, and based on the printed addresses, we will draw the location and value of the data in:\n",
    "<ul>\n",
    "    <li>Registers</li>\n",
    "    <li>Stack</li>\n",
    "    <li>Heap</li>\n",
    "</ul>"
   ]
  }
 ],
 "metadata": {
  "kernelspec": {
   "display_name": "Python 3 (ipykernel)",
   "language": "python",
   "name": "python3"
  },
  "language_info": {
   "codemirror_mode": {
    "name": "ipython",
    "version": 3
   },
   "file_extension": ".py",
   "mimetype": "text/x-python",
   "name": "python",
   "nbconvert_exporter": "python",
   "pygments_lexer": "ipython3",
   "version": "3.9.13"
  }
 },
 "nbformat": 4,
 "nbformat_minor": 5
}
