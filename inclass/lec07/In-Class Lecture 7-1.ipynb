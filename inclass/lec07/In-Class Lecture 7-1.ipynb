{
 "cells": [
  {
   "cell_type": "markdown",
   "id": "510b67e6",
   "metadata": {},
   "source": [
    "## In-Class Lecture 7-1 - Static and Dynamic Memory Allocation"
   ]
  },
  {
   "cell_type": "markdown",
   "id": "e82706b7",
   "metadata": {},
   "source": [
    "To setup for today's in-class coding opportunity:\n",
    "\n",
    "<ol>\n",
    "    <li>Go to your dropbox: <code>cd esc-courses/su23-cse-20232.01/dropbox</code></li>\n",
    "    <li><code>mkdir lec07</code></li>\n",
    "</ol>\n",
    "\n",
    "To obtain the code for today's lecture, perform the following commands:\n",
    "\n",
    "    wget https://raw.githubusercontent.com/mmorri22/su23-cse20332/main/inclass/lec07/setup.sh\n",
    "    chmod a+rx setup.sh\n",
    "    ./setup.sh\n",
    "    \n",
    "To confirm, perform the <code>ls</code> command. You will see the following:\n",
    "\n",
    "    dyn_array_time.c  line1_ex.c  line2_ex.c  line3_ex.c  stat_dyn_comp.c\n",
    "    line1.c           line2.c     line3.c     Makefile"
   ]
  },
  {
   "cell_type": "markdown",
   "id": "8b41956b",
   "metadata": {},
   "source": [
    "### Performing Static and Dynamic Memory Allocation\n",
    "\n",
    "Open the file <code>stat_dyn_addr.c</code>. This code is mostly blank. In these steps, we will work together on allocating static and dynamic memory, and then comparing address locations. \n",
    "\n",
    "Finding the location of the comments in <code>stat_dyn_addr.c</code> corresponding to the action, you will:\n",
    "\n",
    "Step 1 - Write the required libraries for printing and dynamic malloc\n",
    "\n",
    "Step 2 - Create a compiler directive for a size of five elements\n",
    "\n",
    "Step 3 - Now that we have <code>#include< stdlib.h > </code>, use compiler directive <code>EXIT_SUCCESS</code> for return\n",
    "\n",
    "Step 4 - Create a static integer array with five elements\n",
    "\n",
    "Step 5 - Creating a dynamic array of integers:\n",
    "\n",
    "    Step 5a - Create a variable for the size of the dynamic array\n",
    "    \n",
    "    Step 5b - Read in a size using fscanf\n",
    "    \n",
    "    Step 5c - Print the location and value of this variable\n",
    "    \n",
    "    Step 5d - Dynamically allocate an int array using the size\n",
    "    \n",
    "Step 6 - Read in the number of values using fscanf into the dynamic array\n",
    "\n",
    "Step 7 - Print the address and values of each location in the dynamic array\n",
    "\n",
    "    7.1 - Location and value of the register containing the base address\n",
    "    \n",
    "    7.2 - Location and value of each element in the dynamic array\n",
    "    \n",
    "Step 8 - Free the Dynamic Array"
   ]
  },
  {
   "cell_type": "markdown",
   "id": "b1999cbd",
   "metadata": {},
   "source": [
    "### Update to Makefile using <code>valgrind</code>\n",
    "\n",
    "Open the Makefile. You will see we have modified the compilation for programs using dynamic memory. The <code>valgrind</code> tool can automatically detect many memory management and threading bugs, and profile your programs in detail, as we discussed in the reading assignment.\n",
    "\n",
    "> For Homework 4, you will be expected to include this <code><font color=\"red\">valgrind --leak-check=full</font></code> in your executable.\n",
    "\n",
    "<code># Create the Static Dynamic Address Object</code><br>\n",
    "<code>stat_dyn_addr.o: stat_dyn_addr.c</code><br>\n",
    "<code>\t$(CC) $(CFLAGS) -c stat_dyn_addr.c</code><br>\n",
    "<code></code><br>\n",
    "<code># Static Dynamic Address Objects</code><br>\n",
    "<code>stat_dyn_addr_objs := stat_dyn_addr.o</code><br>\n",
    "<code></code><br>\n",
    "<code># Static Dynamic Address Executable</code><br>\n",
    "<code>stat_dyn_addr: $( stat_dyn_addr_objs )\n",
    "     $(CC) $(CFLAGS) -o stat_dyn_addr $(stat_dyn_addr_objs)</code><br>\n",
    "<code>\t<font color=\"red\">valgrind --leak-check=full</font> ./stat_dyn_addr</code><br>"
   ]
  }
 ],
 "metadata": {
  "kernelspec": {
   "display_name": "Python 3 (ipykernel)",
   "language": "python",
   "name": "python3"
  },
  "language_info": {
   "codemirror_mode": {
    "name": "ipython",
    "version": 3
   },
   "file_extension": ".py",
   "mimetype": "text/x-python",
   "name": "python",
   "nbconvert_exporter": "python",
   "pygments_lexer": "ipython3",
   "version": "3.9.13"
  }
 },
 "nbformat": 4,
 "nbformat_minor": 5
}
