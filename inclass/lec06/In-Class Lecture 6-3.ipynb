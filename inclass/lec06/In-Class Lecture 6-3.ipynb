{
 "cells": [
  {
   "cell_type": "markdown",
   "id": "b9a2d832",
   "metadata": {},
   "source": [
    "## In-Class Lecture 6-3 - Combining Concepts: Depth-First Search"
   ]
  },
  {
   "cell_type": "markdown",
   "id": "d1cbd67d",
   "metadata": {},
   "source": [
    "In this example, we will use recursion and multi-dimensional arrays to perform a \"depth-first search\"\n",
    "\n",
    "The main idea behind depth-first search is that we check the first element, then go down the path and recursively check the element. Consider the example below:\n",
    "\n",
    "<center><code>        1        </code></center>\n",
    "<center><code>        |        </code></center>\n",
    "<center><code> +------+------+ </code></center>\n",
    "<center><code> |      |      | </code></center>\n",
    "<center><code> 2      3      4 </code></center>\n",
    "<center><code>/ \\    /|\\     | </code></center>\n",
    "<center><code>5 6   8 9 10   11</code></center>\n",
    "<center><code>        |      | </code></center>\n",
    "<center><code>        12     13</code></center>\n",
    "\n",
    "Depth-first search result: <code>1 2 5 6 3 8 9 12 10 4 11 13</code>"
   ]
  },
  {
   "cell_type": "markdown",
   "id": "4e29037f",
   "metadata": {},
   "source": [
    "Run the command <code>make maze</code>\n",
    "\n",
    "    > make maze\n",
    "    gcc -std=c11 -O2 -g -Wall -Wextra -Wconversion -Wshadow -Werror -lm -c maze.c\n",
    "    gcc -std=c11 -O2 -g -Wall -Wextra -Wconversion -Wshadow -Werror -lm -o maze maze.o\n",
    "    ./maze\n",
    "     |  -  -  -  -  -  -  -  -  -  | \n",
    "     |                             |\n",
    "     |     -  -  -  -  -  -  -     |\n",
    "     |     |           |           |\n",
    "     |           |     |     -  -  |\n",
    "     |  -  -     |     |           |\n",
    "     |           |     |  -  -     |\n",
    "     |     -  -  -        F  |     |\n",
    "     |     |     |  -  -  -  -     |\n",
    "     |           |                 |\n",
    "     |  -  -  -  -  -  -  -  -  -  |\n",
    "\n",
    "    The maze was not solvable from (1, 1)\n",
    "    > make clean\n",
    "    rm -rf *.o *.swp trace trace_ptr fib fib_memo maze"
   ]
  },
  {
   "cell_type": "markdown",
   "id": "0bac1a23",
   "metadata": {},
   "source": [
    "### Steps we will perform in class\n",
    "\n",
    "1 - Write the recursive function declaration\n",
    "\n",
    "2 - Write the recursive function definition\n",
    "\n",
    "3 - Call the depth_first_search function in main"
   ]
  },
  {
   "cell_type": "markdown",
   "id": "687746b8",
   "metadata": {},
   "source": [
    "### Final Demo\n",
    "\n",
    "Time Permitting - Print each step to show the procedure of the recursive call\n",
    "\n",
    "<code>make maze_demo</code>"
   ]
  }
 ],
 "metadata": {
  "kernelspec": {
   "display_name": "Python 3 (ipykernel)",
   "language": "python",
   "name": "python3"
  },
  "language_info": {
   "codemirror_mode": {
    "name": "ipython",
    "version": 3
   },
   "file_extension": ".py",
   "mimetype": "text/x-python",
   "name": "python",
   "nbconvert_exporter": "python",
   "pygments_lexer": "ipython3",
   "version": "3.9.13"
  }
 },
 "nbformat": 4,
 "nbformat_minor": 5
}
