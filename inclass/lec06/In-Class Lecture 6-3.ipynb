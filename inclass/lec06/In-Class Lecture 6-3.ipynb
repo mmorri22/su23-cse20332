{
 "cells": [
  {
   "cell_type": "markdown",
   "id": "33fb2654",
   "metadata": {},
   "source": [
    "## In-Class Lecture 6-3 - Combining Concepts: Depth-First Search"
   ]
  },
  {
   "cell_type": "markdown",
   "id": "7652cfa8",
   "metadata": {},
   "source": [
    "In this example, we will use recursion and multi-dimensional arrays to perform a \"depth-first search\"\n",
    "\n",
    "The main idea behind depth-first search is that we check the first element, then go down the path and recursively check the element. Consider the example below:\n",
    "\n",
    "<center><code>        1        </code></center>\n",
    "<center><code>        |        </code></center>\n",
    "<center><code> +------+------+ </code></center>\n",
    "<center><code> |      |      | </code></center>\n",
    "<center><code> 2      3      4 </code></center>\n",
    "<center><code>/ \\    /|\\     | </code></center>\n",
    "<center><code>5 6   8 9 10   11</code></center>\n",
    "<center><code>        |      | </code></center>\n",
    "<center><code>        12     13</code></center>\n",
    "\n",
    "Depth-first search result: <code>1 2 5 6 3 8 9 12 10 4 11 13</code>"
   ]
  },
  {
   "cell_type": "markdown",
   "id": "b80ac3c2",
   "metadata": {},
   "source": [
    "Run the command <code>make maze</code>\n",
    "\n",
    "Compile and run to see what's going on. Well, nothing really. You should get something like what's displayed below. This is expected, and we will fix everything during this in-class programming opportunity."
   ]
  }
 ],
 "metadata": {
  "kernelspec": {
   "display_name": "Python 3 (ipykernel)",
   "language": "python",
   "name": "python3"
  },
  "language_info": {
   "codemirror_mode": {
    "name": "ipython",
    "version": 3
   },
   "file_extension": ".py",
   "mimetype": "text/x-python",
   "name": "python",
   "nbconvert_exporter": "python",
   "pygments_lexer": "ipython3",
   "version": "3.9.13"
  }
 },
 "nbformat": 4,
 "nbformat_minor": 5
}
