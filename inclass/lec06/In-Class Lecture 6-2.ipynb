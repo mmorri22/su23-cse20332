{
 "cells": [
  {
   "cell_type": "markdown",
   "id": "1da57ace",
   "metadata": {},
   "source": [
    "## In-Class Lecture 6-2 - Combining Concepts: Memoization"
   ]
  },
  {
   "cell_type": "markdown",
   "id": "97b647da",
   "metadata": {},
   "source": [
    "### Improving Recursion Efficiency\n",
    "\n",
    "Open the file <code>fib.c</code> and run the command <code>make fib</code>. You will get the following result:\n",
    "\n",
    "    gcc -std=c11 -O2 -g -Wall -Wextra -Wconversion -Wshadow -Werror -lm -c fib.c\n",
    "    gcc -std=c11 -O2 -g -Wall -Wextra -Wconversion -Wshadow -Werror -lm -o fib fib.o\n",
    "    ./fib\n",
    "    The 6 Fib Number is = 8\n",
    "    \n",
    "This is what we expect, since the first 6 numbers of the fibonacci sequence are: \n",
    "\n",
    "    1 1 2 3 5 8\n",
    "    \n",
    "Now, go into <code>fib.c</code> and on line 9, change fib_num from 6 to 42, and then run it again.\n",
    "\n",
    "> <b>Thought Question:</b> Why do you think this happened?"
   ]
  },
  {
   "cell_type": "markdown",
   "id": "2980711c",
   "metadata": {},
   "source": [
    "### Improving Efficiency Using Memoization\n",
    "\n",
    "We will use arrays to store intermediate steps to improve the efficiency. Here are the steps we will use:\n",
    "\n",
    "0. Open the file <code>fib.c</code>\n",
    "\n",
    "1. Initialize a static array of fib_num size\n",
    "\n",
    "2. Modify the function declaration and definition to take in the array\n",
    "\n",
    "3. Check the array value to see if it is not 0\n",
    "\n",
    "4. Set the array value to 1 if fib_num is 0 or 1\n",
    "\n",
    "5. Update the array with the binary conversion\n",
    "\n",
    "6. Return the array value\n",
    "\n",
    "And now run <code>make fib_num</code>\n",
    "\n",
    "> <b>Thought Question:</b> Why do you think this happened?"
   ]
  },
  {
   "cell_type": "markdown",
   "id": "71cbcbd4",
   "metadata": {},
   "source": [
    "### Arrays and Computers\n",
    "\n",
    "7. Now you will fix the array to account for the unexpected behavior."
   ]
  },
  {
   "cell_type": "code",
   "execution_count": null,
   "id": "92b6f506",
   "metadata": {},
   "outputs": [],
   "source": []
  }
 ],
 "metadata": {
  "kernelspec": {
   "display_name": "Python 3 (ipykernel)",
   "language": "python",
   "name": "python3"
  },
  "language_info": {
   "codemirror_mode": {
    "name": "ipython",
    "version": 3
   },
   "file_extension": ".py",
   "mimetype": "text/x-python",
   "name": "python",
   "nbconvert_exporter": "python",
   "pygments_lexer": "ipython3",
   "version": "3.9.13"
  }
 },
 "nbformat": 4,
 "nbformat_minor": 5
}
