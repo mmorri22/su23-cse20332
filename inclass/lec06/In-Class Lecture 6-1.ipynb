{
 "cells": [
  {
   "cell_type": "markdown",
   "id": "5f2493dc",
   "metadata": {},
   "source": [
    "## In-Class Lecture 6-1 - Recursive Tracing"
   ]
  },
  {
   "cell_type": "markdown",
   "id": "98880460",
   "metadata": {},
   "source": [
    "To setup for today's in-class coding opportunity:\n",
    "\n",
    "<ol>\n",
    "    <li>Go to your dropbox: <code>cd esc-courses/su23-cse-20232.01/dropbox</code></li>\n",
    "    <li><code>mkdir lec06</code></li>\n",
    "</ol>\n",
    "\n",
    "To obtain the code for today's lecture, perform the following commands:\n",
    "\n",
    "    wget https://raw.githubusercontent.com/mmorri22/su23-cse20332/main/inclass/lec06/setup.sh\n",
    "    chmod a+rx setup.sh\n",
    "    ./setup.sh\n",
    "    \n",
    "To confirm, perform the <code>ls</code> command. You will see the following:\n",
    "\n",
    "    Makefile fib.c fib_memo.c trace.c trace_ptr.c"
   ]
  },
  {
   "cell_type": "markdown",
   "id": "68e29fea",
   "metadata": {},
   "source": [
    "### Basic Recursive Tracing\n",
    "\n",
    "Open the file <code>trace.c</code> and view its contents.\n",
    "\n",
    "On the overhead, we will \"trace\" out the recursion the way the machine performs the operation\n",
    "\n",
    "    > make trace\n",
    "    gcc -std=c11 -O2 -g -Wall -Wextra -Wconversion -Wshadow -Werror -lm -c trace.c\n",
    "    gcc -std=c11 -O2 -g -Wall -Wextra -Wconversion -Wshadow -Werror -lm -o trace trace.o\n",
    "    ./trace\n",
    "    In foo: x = 10\n",
    "    Foo Case 2!\n",
    "    In bar: y = 9\n",
    "    Bar Case 3!\n",
    "    In bar: y = 6\n",
    "    Bar Case 2!\n",
    "    In foo: x = 4\n",
    "    Foo Case 2!\n",
    "    In bar: y = 3\n",
    "    Bar Case 3!\n",
    "    In bar: y = 0\n",
    "    Bar base case!\n",
    "    34\n",
    "    > make clean\n",
    "    rm -rf *.o *.swp trace trace_ptr fib fib_memo"
   ]
  },
  {
   "cell_type": "markdown",
   "id": "6ee12384",
   "metadata": {},
   "source": [
    "### Practice on your Own\n",
    "\n",
    "The Word Documents I used to represent recursion on the instruction stack are available if you wish to practice on your own:\n",
    "<ul>\n",
    "    <li><a href = \"\">Trace - Main</a></li>\n",
    "    <li><a href = \"\">Trace - foo</a></li>\n",
    "    <li><a href = \"\">Trace - bar</a></li>\n",
    "</ul>"
   ]
  },
  {
   "cell_type": "markdown",
   "id": "04e5e724",
   "metadata": {},
   "source": [
    "### Recursive Tracing with Pointers\n",
    "\n",
    "Open the file <code>trace_ptr.c</code> and view its contents.\n",
    "\n",
    "On the overhead, we will \"trace\" out the recursion the way the machine performs the operation\n",
    "\n",
    "    > make trace_ptr\n",
    "    gcc -std=c11 -O2 -g -Wall -Wextra -Wconversion -Wshadow -Werror -lm -c trace_ptr.c\n",
    "    gcc -std=c11 -O2 -g -Wall -Wextra -Wconversion -Wshadow -Werror -lm -o trace_ptr trace_ptr.o\n",
    "    ./trace_ptr\n",
    "    In foo: x = 10\n",
    "    Foo Case 2!\n",
    "    In bar: y = 9\n",
    "    Bar Case 3!\n",
    "    In bar: y = 6\n",
    "    Bar Case 2!\n",
    "    In foo: x = 4\n",
    "    Foo Case 2!\n",
    "    In bar: y = 3\n",
    "    Bar Case 3!\n",
    "    In bar: y = 0\n",
    "    Bar base case!\n",
    "    34\n",
    "    > make clean\n",
    "    rm -rf *.o *.swp trace trace_ptr fib fib_memo"
   ]
  }
 ],
 "metadata": {
  "kernelspec": {
   "display_name": "Python 3 (ipykernel)",
   "language": "python",
   "name": "python3"
  },
  "language_info": {
   "codemirror_mode": {
    "name": "ipython",
    "version": 3
   },
   "file_extension": ".py",
   "mimetype": "text/x-python",
   "name": "python",
   "nbconvert_exporter": "python",
   "pygments_lexer": "ipython3",
   "version": "3.9.13"
  }
 },
 "nbformat": 4,
 "nbformat_minor": 5
}
