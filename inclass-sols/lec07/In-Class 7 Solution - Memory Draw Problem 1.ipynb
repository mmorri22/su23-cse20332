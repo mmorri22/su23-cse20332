{
 "cells": [
  {
   "cell_type": "markdown",
   "id": "532f332b",
   "metadata": {},
   "source": [
    "## In-Class 7 Solution: Memory Draw Problem 1"
   ]
  },
  {
   "cell_type": "markdown",
   "id": "45eeb4ce",
   "metadata": {},
   "source": [
    "Consider the code at <a href = \"https://github.com/mmorri22/su23-cse20332/blob/main/inclass-sols/lec07/stat_dyn_addr.c\">stat_dyn_addr.c</a> that we designed in class."
   ]
  },
  {
   "cell_type": "markdown",
   "id": "730f54d9",
   "metadata": {},
   "source": [
    "And consider the sample output generated in class, where the <font color=\"white\" style=\"background-color:black;\">black</font> is the output, and the <font color=\"gold\" style=\"background-color:blue;\">blue</font> is the user input:\n",
    "\n",
    "<code><font color=\"gold\" style=\"background-color:blue;\">7</font></code><br>\n",
    "<code><font color=\"white\" style=\"background-color:black;\">7 at 0x1ffeffff30</font></code><br>\n",
    "<code><font color=\"gold\" style=\"background-color:blue;\">10</font></code><br>\n",
    "<code><font color=\"gold\" style=\"background-color:blue;\">31</font></code><br>\n",
    "<code><font color=\"gold\" style=\"background-color:blue;\">-22</font></code><br>\n",
    "<code><font color=\"gold\" style=\"background-color:blue;\">104</font></code><br>\n",
    "<code><font color=\"gold\" style=\"background-color:blue;\">96</font></code><br>\n",
    "<code><font color=\"gold\" style=\"background-color:blue;\">-1</font></code><br>\n",
    "<code><font color=\"gold\" style=\"background-color:blue;\">0</font></code><br>\n",
    "<code><font color=\"white\" style=\"background-color:black;\">dyn_int_array = 0x5507040 at 0x1ffeffff38</font></code><br>\n",
    "<code><font color=\"white\" style=\"background-color:black;\">dyn_int_array[0] = 10 at 0x5507040</font></code><br>\n",
    "<code><font color=\"white\" style=\"background-color:black;\">dyn_int_array[1] = 31 at 0x5507044</font></code><br>\n",
    "<code><font color=\"white\" style=\"background-color:black;\">dyn_int_array[2] = -22 at 0x5507048</font></code><br>\n",
    "<code><font color=\"white\" style=\"background-color:black;\">dyn_int_array[3] = 104 at 0x550704c</font></code><br>\n",
    "<code><font color=\"white\" style=\"background-color:black;\">dyn_int_array[4] = 96 at 0x5507050</font></code><br>\n",
    "<code><font color=\"white\" style=\"background-color:black;\">dyn_int_array[5] = -1 at 0x5507054</font></code><br>\n",
    "<code><font color=\"white\" style=\"background-color:black;\">dyn_int_array[6] = 0 at 0x5507058</font></code><br>\n",
    "<code><font color=\"white\" style=\"background-color:black;\">stat_int_array[0] = 10 at 0x1ffeffff40</font></code><br>\n",
    "<code><font color=\"white\" style=\"background-color:black;\">stat_int_array[1] = 15 at 0x1ffeffff44</font></code><br>\n",
    "<code><font color=\"white\" style=\"background-color:black;\">stat_int_array[2] = -7 at 0x1ffeffff48</font></code><br>\n",
    "<code><font color=\"white\" style=\"background-color:black;\">stat_int_array[3] = 22 at 0x1ffeffff4c</font></code><br>\n",
    "<code><font color=\"white\" style=\"background-color:black;\">stat_int_array[4] = 6 at 0x1ffeffff50</font></code><br>"
   ]
  },
  {
   "cell_type": "markdown",
   "id": "5be562f6",
   "metadata": {},
   "source": [
    "Here is the solution Memory Drawing:\n",
    "\n",
    "![Memory Drawing 1](https://github.com/mmorri22/su23-cse20332/blob/main/inclass-sols/lec07/Memory%20Draw%201.png?raw=true)"
   ]
  }
 ],
 "metadata": {
  "kernelspec": {
   "display_name": "Python 3 (ipykernel)",
   "language": "python",
   "name": "python3"
  },
  "language_info": {
   "codemirror_mode": {
    "name": "ipython",
    "version": 3
   },
   "file_extension": ".py",
   "mimetype": "text/x-python",
   "name": "python",
   "nbconvert_exporter": "python",
   "pygments_lexer": "ipython3",
   "version": "3.9.13"
  }
 },
 "nbformat": 4,
 "nbformat_minor": 5
}
