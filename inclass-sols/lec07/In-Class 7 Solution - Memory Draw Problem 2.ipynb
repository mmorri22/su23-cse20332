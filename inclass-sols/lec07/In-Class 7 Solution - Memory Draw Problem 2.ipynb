{
 "cells": [
  {
   "cell_type": "markdown",
   "id": "640674e4",
   "metadata": {},
   "source": [
    "## In-Class 7 Solution: Memory Draw Problem 2"
   ]
  },
  {
   "cell_type": "markdown",
   "id": "7a768174",
   "metadata": {},
   "source": [
    "Consider the code at <a href = \"https://github.com/mmorri22/su23-cse20332/blob/main/inclass-sols/lec07/stat_dyn_func.c\">stat_dyn_func.c</a> that we designed in class."
   ]
  },
  {
   "cell_type": "markdown",
   "id": "283c7f52",
   "metadata": {},
   "source": [
    "And consider the sample output generated in class, where the <font color=\"white\" style=\"background-color:black;\">black</font> is the output, and the <font color=\"gold\" style=\"background-color:blue;\">blue</font> is the user input:\n",
    "\n",
    "\n",
    "<code><font color=\"gold\" style=\"background-color:blue;\">5</font></code><br>\n",
    "<code><font color=\"white\" style=\"background-color:black;\">5 at 0x1ffeffff40</font></code><br>\n",
    "<code><font color=\"gold\" style=\"background-color:blue;\">5</font></code><br>\n",
    "<code><font color=\"gold\" style=\"background-color:blue;\">4</font></code><br>\n",
    "<code><font color=\"gold\" style=\"background-color:blue;\">3</font></code><br>\n",
    "<code><font color=\"gold\" style=\"background-color:blue;\">2</font></code><br>\n",
    "<code><font color=\"gold\" style=\"background-color:blue;\">1</font></code><br>\n",
    "<code><font color=\"white\" style=\"background-color:black;\">In main dyn_int_array = 0x5507040 at 0x1ffeffff48</font></code><br>\n",
    "<code><font color=\"white\" style=\"background-color:black;\">In func dyn_int_array = 0x5507040 at 0x1ffeffff08</font></code><br>\n",
    "<code><font color=\"white\" style=\"background-color:black;\">dyn_int_array[0] = 5 at 0x5507040</font></code><br>\n",
    "<code><font color=\"white\" style=\"background-color:black;\">dyn_int_array[1] = 4 at 0x5507044</font></code><br>\n",
    "<code><font color=\"white\" style=\"background-color:black;\">dyn_int_array[2] = 3 at 0x5507048</font></code><br>\n",
    "<code><font color=\"white\" style=\"background-color:black;\">dyn_int_array[3] = 2 at 0x550704c</font></code><br>\n",
    "<code><font color=\"white\" style=\"background-color:black;\">dyn_int_array[4] = 1 at 0x5507050</font></code><br>\n",
    "<code><font color=\"white\" style=\"background-color:black;\">In func stat_int_array = 0x1ffeffff50 at 0x1ffeffff18</font></code><br>\n",
    "<code><font color=\"white\" style=\"background-color:black;\">stat_int_array[0] = 10 at 0x1ffeffff50</font></code><br>\n",
    "<code><font color=\"white\" style=\"background-color:black;\">stat_int_array[1] = 15 at 0x1ffeffff54</font></code><br>\n",
    "<code><font color=\"white\" style=\"background-color:black;\">stat_int_array[2] = -7 at 0x1ffeffff58</font></code><br>\n",
    "<code><font color=\"white\" style=\"background-color:black;\">stat_int_array[3] = 22 at 0x1ffeffff5c</font></code><br>\n",
    "<code><font color=\"white\" style=\"background-color:black;\">stat_int_array[4] = 6 at 0x1ffeffff60</font></code><br>"
   ]
  },
  {
   "cell_type": "markdown",
   "id": "79905dfa",
   "metadata": {},
   "source": [
    "Here is the solution Memory Drawing:\n",
    "\n",
    "![Memory Drawing 2](https://github.com/mmorri22/su23-cse20332/blob/main/inclass-sols/lec07/Memory%20Draw%202.png?raw=true)"
   ]
  }
 ],
 "metadata": {
  "kernelspec": {
   "display_name": "Python 3 (ipykernel)",
   "language": "python",
   "name": "python3"
  },
  "language_info": {
   "codemirror_mode": {
    "name": "ipython",
    "version": 3
   },
   "file_extension": ".py",
   "mimetype": "text/x-python",
   "name": "python",
   "nbconvert_exporter": "python",
   "pygments_lexer": "ipython3",
   "version": "3.9.13"
  }
 },
 "nbformat": 4,
 "nbformat_minor": 5
}
