{
 "cells": [
  {
   "cell_type": "markdown",
   "id": "55f11c97",
   "metadata": {},
   "source": [
    "## Reading 4-2 - De-Referencing Pointers"
   ]
  },
  {
   "attachments": {},
   "cell_type": "markdown",
   "id": "df54ba57",
   "metadata": {},
   "source": [
    "### De-Referencing - Getting information from a pointer\n",
    "\n",
    "Later this semester, we will learn that a pointer can point to very large allocated pieces of memory. Therefore, we need to learn how to obtain the data <i>from the location the pointer is pointing to.</i> This process is known as <b>de-referencing</b> a pointer."
   ]
  },
  {
   "cell_type": "markdown",
   "id": "74e0238d",
   "metadata": {},
   "source": [
    "### Initial De-referencing example.\n",
    "\n",
    "In order to <b>de-reference</b> a pointer, you must use <code>*</code> in front of a pointer variable. Consider the following code segment:\n",
    "\n",
    "    int x = 10;\n",
    "    int* int_ptr = &x;\n",
    "    int y = *int_ptr;\n",
    "    \n",
    "What this means in English:\n",
    "\n",
    "    1 - Set x equal to 10\n",
    "    2 - Set int_ptr to the address of x\n",
    "    3 - Copy the value at int_ptr is pointing at to another register notated as y\n",
    "    \n",
    "To show how this works, let's take a look at some sample code runs. First, <a href=\"https://raw.githubusercontent.com/mmorri22/su23-cse20332/main/readings/reading04/deref1.c\">deref1.c</a> performs dereferencing in the output specifier as <code>*int_ptr</code>. That output specifier maps to <code>%d</code> because <code>*int_ptr</code> tells us the <b>data</b> that the pointer is pointing to. Therefore, <code>*int_ptr</code> is giving us a copy of the data in that register!\n",
    "\n",
    "> <b>Note</b>: If you recall from Lecture 1, I made a big deal of pointing out that programming languages are, in fact, languages and that there are syntatic challenges to understanding these languages. I was planting the seed for <i>this concept in particular</i> since it commonly trips up students. If the multi-purpose use of <code>*</code> in pointers is confusing, be sure to watch the <b>Visualize It!</b> videos and ask questions in class if you are still confused.\n",
    "\n",
    "    #include <stdio.h>\n",
    "\n",
    "    int main(){\n",
    "\n",
    "        int x = 10;\n",
    "        int* int_ptr = &x;\n",
    "\n",
    "        /* Basic register information for x */\n",
    "        fprintf( stdout, \"x = %d, located at %p\\n\", x, &x);\n",
    "\n",
    "        /* All the reference and de-referencing */\n",
    "        /* Notice the last output specifier (%d) maps to *int_ptr */\n",
    "        fprintf( stdout, \"&int_ptr = %p, int_ptr: %p, *int_ptr = %d\\n\\n\",\n",
    "                &int_ptr, int_ptr, *int_ptr );\n",
    "\n",
    "        return 0;\n",
    "    }\n",
    "\n",
    "And here is the expected output.\n",
    "\n",
    "    > gcc -std=c11 -Wall -Wextra -Wconversion -Werror deref1.c -o deref1\n",
    "    > ./deref1\n",
    "    x = 10, located at 0x7ffea5acbc3c\n",
    "    &int_ptr = 0x7ffea5acbc30, int_ptr: 0x7ffea5acbc3c, *int_ptr = 10"
   ]
  },
  {
   "cell_type": "markdown",
   "id": "b0c0b490",
   "metadata": {},
   "source": [
    "### Using de-refernce to copy data\n",
    "\n",
    "Next, we will copy the value of <code>int x</code> into a new register <code>int y</code> by using <code>*int_ptr</code>. You can see this new code in <a href=\"https://raw.githubusercontent.com/mmorri22/su23-cse20332/main/readings/reading04/deref2.c\">deref2.c</a>\n",
    "\n",
    "\t/* Set y to *int_ptr */\n",
    "\tint y = *int_ptr;\n",
    "\t\n",
    "\t/* Basic register information for y */\n",
    "\tfprintf( stdout, \"y = %d, located at %p\\n\", y, &y);\n",
    "    \n",
    "And here is the output of <a href=\"https://raw.githubusercontent.com/mmorri22/su23-cse20332/main/readings/reading04/deref2.c\">deref2.c</a>. Notice that <code>y</code> is a copy of <code>x</code>, and that <code>y</code> is at a different physical location than <code>x</code>\n",
    "\n",
    "    > gcc -std=c11 -Wall -Wextra -Wconversion -Werror deref2.c -o deref2\n",
    "    > ./deref2\n",
    "    x = 10, located at 0x7ffc009efd1c\n",
    "    &int_ptr = 0x7ffc009efd10, int_ptr: 0x7ffc009efd1c, *int_ptr = 10\n",
    "    y = 10, located at 0x7ffc009efd0c"
   ]
  },
  {
   "cell_type": "markdown",
   "id": "9f7a1c4a",
   "metadata": {},
   "source": [
    "### Updating Pointer Variables\n",
    "\n",
    "You can both <b>update variable pointers</b> and <b>update data using pointers</b>. \n",
    "\n",
    "Consider the code segment <a href=\"https://raw.githubusercontent.com/mmorri22/su23-cse20332/main/readings/reading04/deref3.c\">deref3.c</a>. In this file, we use and update pointers to swap two variables.\n",
    "\n",
    "    include <stdio.h>\n",
    "\n",
    "    int main(){\n",
    "\n",
    "        int x = 10;\n",
    "        int y = 25;\n",
    "        int* int_ptr = &x;\n",
    "\n",
    "        fprintf( stdout, \"x = %d, y = %d\\n\", x, y );\n",
    "\n",
    "      /* Copy x into a swap variable */\n",
    "        int swap = *int_ptr;\n",
    "\n",
    "        /* Change int_ptr to point at y */\n",
    "        int_ptr = &y;\n",
    "\n",
    "        /* Set x to y's value using int_ptr */\n",
    "        x = *int_ptr;\n",
    "\n",
    "        /* Set y to swap value using the pointer */\n",
    "        *int_ptr = swap;\n",
    "\n",
    "        fprintf( stdout, \"x = %d, y = %d\\n\", x, y );\n",
    "\n",
    "        return 0;\n",
    "    }\n",
    "    \n",
    "And here is the output:\n",
    "\n",
    "    > gcc -std=c11 -Wall -Wextra -Wconversion -Werror deref3.c -o deref3\n",
    "    > -bash-4.2$ ./deref3\n",
    "    x = 10, y = 25\n",
    "    x = 25, y = 10\n",
    "    \n",
    "<b>Visualize It!</b> - In this example, we will discuss how deref3.c works, including drawing how the code implements the swap:\n",
    "\n",
    "<center><a href=\"http://www.youtube.com/watch?feature=player_embedded&v=VgxwYXsc_I0\" target=\"_blank\">\n",
    " <img src=\"http://img.youtube.com/vi/VgxwYXsc_I0/mqdefault.jpg\" target=\"_blank\" width=\"240\" height=\"180\" border=\"10\" />\n",
    "</a></center><p></p>"
   ]
  },
  {
   "cell_type": "markdown",
   "id": "8b6accc3",
   "metadata": {},
   "source": [
    "### <font color = \"red\">Class Introduction Question #2 - What is pointer de-referencing and how do we perform this task in C?</a>"
   ]
  },
  {
   "cell_type": "markdown",
   "id": "5a694895",
   "metadata": {},
   "source": [
    "### The next reading for this lecture is <a href = \"https://github.com/mmorri22/su23-cse20332/blob/main/readings/Reading%204-3.ipynb\">Reading 4.3 - Pass by Value vs. Pass by Reference</a>"
   ]
  }
 ],
 "metadata": {
  "kernelspec": {
   "display_name": "Python 3 (ipykernel)",
   "language": "python",
   "name": "python3"
  },
  "language_info": {
   "codemirror_mode": {
    "name": "ipython",
    "version": 3
   },
   "file_extension": ".py",
   "mimetype": "text/x-python",
   "name": "python",
   "nbconvert_exporter": "python",
   "pygments_lexer": "ipython3",
   "version": "3.9.13"
  }
 },
 "nbformat": 4,
 "nbformat_minor": 5
}
