{
 "cells": [
  {
   "cell_type": "markdown",
   "id": "60d03a91",
   "metadata": {},
   "source": [
    "# Reading 1-3 - Hexadecimal and ASCII"
   ]
  },
  {
   "cell_type": "markdown",
   "id": "02b3590e",
   "metadata": {},
   "source": [
    "### What happens when there are <i>a lot</i> of binary bits?\n",
    "\n",
    "In the computers we will use to program in this course, we will observe that there may be up to 64 bits in a computer! Imagine trying to translate this 32-bit number on your own:<p></p>\n",
    "\n",
    "<center><code>00110101110111100001101011110110</code></center>"
   ]
  },
  {
   "cell_type": "markdown",
   "id": "a31b812f",
   "metadata": {},
   "source": [
    "### Breaking it down using <i>hexadecimal</i>\n",
    "\n",
    "Let's review this number again, except let's break it down into 4-bit chunks, which we will now call <b>bytes</b>. You can see that there are 8 bytes in a 32-bit value:<p></p>\n",
    "\n",
    "<center><code>0011 0101 1101 1110 0001 1010 1111 0110</code></center>\n",
    "\n",
    "While this makes <i>reading</i> the bits easier, it doesn't necessarily make the <i>calulations</i> easier. The computer will still perform all the tasks in binary, but we can have the computer render larger calculations on the screen for us in <b>base 16</b>, which we will also call <b>hexadecimal</b>.\n",
    "\n",
    "The goal of hexadecimal is to translate a 4-bit value into a single character representation.\n",
    "\n",
    "><b>Thought Question:</b> Since we call only represent 0-9 in decimal using one character - i.e. 10 and above require two or more characters - how can we represent 10-15 using one character while still using the normal 0-9?\n",
    "\n",
    "<b>Solution:</b> We can use the characters a-f to represent 10-15, as shown in the table below:\n",
    "\n",
    "|Decimal|0|1|2|3|4|5|6|7|8|9|10|11|12|13|14|15|\n",
    "|----|----|----|----|----|----|----|----|----|----|----|----|----|----|----|----|----|\n",
    "|<b>Binary</b>|0000|0001|0010|0011|0100|0101|0110|0111|1000|1001|1010|1011|1100|1101|1110|1111|\n",
    "|<b>Hexadecimal</b>|0|1|2|3|4|5|6|7|8|9|a|b|c|d|e|f|\n",
    "\n",
    "Now let's compare the original 32-bit binary with the hexadecimal. You can see that the value is easier to read:\n",
    "\n",
    "<b>Binary:</b> <code>00110101110111100001101011110110</code><br>\n",
    "<b>Hex   :</b> <code>3 5 d e 1 a f 6</code><p></p>\n",
    "\n",
    "We can represent hexadecimal in two ways:\n",
    "<ul>\n",
    "    <li>With base 16: <code>35de1af6<sub>16</sub></code></li>\n",
    "    <li>Leading with <code>0x</code>: <code>0x35de1af6</code></li>\n",
    "</ul>"
   ]
  },
  {
   "cell_type": "markdown",
   "id": "82ddc48d",
   "metadata": {},
   "source": [
    "### Hexadecimal to Decimal Conversion\n",
    "\n",
    "In order to convert from Hexademical to Decimal, you multiply the bit value by increasing powers of 16, start with the rightmost bit and 16<sup>0</sup> power, and then sum the results. Consider the following the example <code>0x1af6</code>:<br>\n",
    "\n",
    "| Hexadecimal | 1 | a | f | 6 |\n",
    "|----|----|----|----|----|\n",
    "| <b>Decimal</b>  | 1 | 10 | 15 | 6 |\n",
    "|<b>Multiplier</b>|16<sup>3</sup>|16<sup>2</sup>|16<sup>1</sup>|16<sup>0</sup>|\n",
    "|<b>Result</b>|4096|2560|240|6|<p></p>\n",
    "    \n",
    "Therefore, <code>0x1af6 = 6,902<sub>10</sub></code><p></p>\n",
    "\n",
    "><b>Test Yourself</b>: What is the decimal value of 0xc7fe?"
   ]
  },
  {
   "cell_type": "markdown",
   "id": "1b025b81",
   "metadata": {},
   "source": [
    "### ASCII Representation\n",
    "\n",
    "In the UNIX operating system, we will use the American Standard Code for Information Interchange (ASCII) standard values to represent characters on a screen. These are <b>characters</b>, which are interpreted in the operating system we will use as <i>8-bit signed integers</i>.\n",
    "\n",
    "><b>Thought question:</b> If a character is an 8-bit signed integer, how many characters can be represented in ASCII standard?\n",
    "<p></p> The answer is 128, since we use one bit as a sign, and then allow 2<sup>7</sup> bits to be able to represent those values. A table representing the ASCII standard is shown below. (Notice how there are both decimal and hexadecimal representations!)\n",
    "\n",
    "![ASCII Table](https://www.asciitable.com/asciifull.gif)"
   ]
  },
  {
   "cell_type": "markdown",
   "id": "0b3ed885",
   "metadata": {},
   "source": [
    "### ASCII to Char Translation\n",
    "\n",
    "Let's translate the following to ASCII: <code>Let's Go Irish!</code> Notice the difference between upper and lowercase letters (for example, I is 0x49 and i is 0x69). Also, notice that a space has an ASCII value of 0x20:<p></p>\n",
    "\n",
    "|Char|L|e|t|'|s| |G|o| |I|r|i|s|h|!|\n",
    "|----|----|----|----|----|----|----|----|----|----|----|----|----|----|----|----|\n",
    "|<b>Decimal</b>|56|101|115|39|115|32|71|111|32|73|114|105|115|114|33|\n",
    "|<b>Hex</b>|0x46|0x65|0x74|0x27|0x73|0x20|0x47|0x6f|0x20|0x49|0x72|0x69|0x73|0x68|0x21|\n",
    "|<b>Binary</b>|01000110|01100101|01110100|00010111|01110011|00100000|01000111|01101111|00100000|01001001|01110010|01101001|01110011|01101000|00100001|\n"
   ]
  },
  {
   "cell_type": "markdown",
   "id": "9722e3c0",
   "metadata": {},
   "source": [
    "### <font color = \"red\">Class Introduction Question #5 - What is the benefit of hexademical, and how do we convert from decimal to hexadecimal?</font>\n",
    "\n",
    "### <font color = \"red\">Class Introduction Question #6 - What is the purpose of ASCII?</font>"
   ]
  },
  {
   "cell_type": "markdown",
   "id": "5a9fdffd",
   "metadata": {},
   "source": [
    "### The final reading for this lecture is <a href = \"https://github.com/mmorri22/su23-cse20332/blob/main/readings/Reading%201-4.ipynb\">Reading 1-4 - IEEE 754 Format</a>"
   ]
  },
  {
   "cell_type": "code",
   "execution_count": null,
   "id": "4ac6b3b1",
   "metadata": {},
   "outputs": [],
   "source": []
  }
 ],
 "metadata": {
  "kernelspec": {
   "display_name": "Python 3 (ipykernel)",
   "language": "python",
   "name": "python3"
  },
  "language_info": {
   "codemirror_mode": {
    "name": "ipython",
    "version": 3
   },
   "file_extension": ".py",
   "mimetype": "text/x-python",
   "name": "python",
   "nbconvert_exporter": "python",
   "pygments_lexer": "ipython3",
   "version": "3.9.13"
  }
 },
 "nbformat": 4,
 "nbformat_minor": 5
}
