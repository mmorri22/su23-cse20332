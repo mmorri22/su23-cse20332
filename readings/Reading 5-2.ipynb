{
 "cells": [
  {
   "cell_type": "markdown",
   "id": "6cd63995",
   "metadata": {},
   "source": [
    "## Reading 5-2 - Recursive Tracing and Binary Recursion"
   ]
  },
  {
   "cell_type": "markdown",
   "id": "91bcc89d",
   "metadata": {},
   "source": [
    "## Recursive Tracing\n",
    "\n",
    "<b>Visualize It!</b> In this example, we will walk through the code at <a href = \"https://raw.githubusercontent.com/mmorri22/su23-cse20332/main/readings/reading05/trace1.c\">trace1.c</a> and <a href = \"https://raw.githubusercontent.com/mmorri22/su23-cse20332/main/readings/reading05/trace1.c\">trace2.c</a> to help you visualize tracking steps in recursive functions. There is one line of code that is different, but this difference is an example of how to trace recursive functions properly. Click on the image below to see the video:<p></p>\n",
    "\n",
    "<center><a href=\"http://www.youtube.com/watch?feature=player_embedded&v=jdhE5FaT1Nk\" target=\"_blank\">\n",
    " <img src=\"http://img.youtube.com/vi/jdhE5FaT1Nk/mqdefault.jpg\" target=\"_blank\" width=\"240\" height=\"180\" border=\"10\" />\n",
    "</a></center><p></p>"
   ]
  },
  {
   "cell_type": "markdown",
   "id": "7a260a74",
   "metadata": {},
   "source": [
    "We define <b>binary recursion</b> as a recursive function that calls a recursive function twice in each function call. \n",
    "\n",
    "> There are several problems where making precisely two calls to the recursive function is advantageous, such as the divide-and-conquer techniques we will encounter in searching algorithms."
   ]
  },
  {
   "cell_type": "markdown",
   "id": "5ae6b6f4",
   "metadata": {},
   "source": [
    "## Fibonacci Sequence as an Example\n",
    "\n",
    "Consider as an example the Fibonacci sequence, which may be found at <a href = \"https://raw.githubusercontent.com/mmorri22/su23-cse20332/main/readings/reading05/fib.c\">fib.c</a>:\n",
    "\n",
    "Recursive Case: <code>Fib(n) = Fib(n-1) + Fib(n-2)</code>\n",
    "Base cases: <code>Fib(0) = 1, Fib(1) = 1</code>\n",
    "\n",
    "    #include <stdio.h>\n",
    "\n",
    "    int Fibonacci( int fib_num );\n",
    "\n",
    "    int main( const int argc, const char* argv[] ){\n",
    "\n",
    "        int fib_num = 5;\n",
    "\n",
    "        fprintf( stdout, \"The %d Fib Number is = %d\\n\", fib_num, Fibonacci( fib_num - 1 ) );\n",
    "\n",
    "        return EXIT_SUCCESS;\n",
    "\n",
    "    }\n",
    "\n",
    "    int Fibonacci( int fib_num ){\n",
    "\n",
    "        if( fib_num == 0 )\n",
    "            return 1;\n",
    "\n",
    "        if( fib_num == 1 )\n",
    "            return 1;\n",
    "\n",
    "        return Fibonacci( fib_num - 1 ) + Fibonacci( fib_num - 2 );\n",
    "\n",
    "    }\n",
    "\n",
    "<b>Visualize it!</b> - Here is an example of the Fibonacci Sequence as a recursive trace. Click on the image below to see the video.<p></p>\n",
    "\n",
    "<center><a href=\"http://www.youtube.com/watch?feature=player_embedded&v=ssew2K8rfa8\" target=\"_blank\">\n",
    " <img src=\"http://img.youtube.com/vi/ssew2K8rfa8/mqdefault.jpg\" target=\"_blank\" width=\"240\" height=\"180\" border=\"10\" />\n",
    "</a></center><p></p>"
   ]
  },
  {
   "cell_type": "markdown",
   "id": "18f2db12",
   "metadata": {},
   "source": [
    "### <font color = \"red\">Class Introduction Question #2 - Given the \"advanced tracing\" I showed in the video above, what are some good pieces of advice you might give to a classmate who is struggling to understand recursive traces in order to help them better understand how to successfully trace recursion?</a>\n",
    "\n",
    "### <font color = \"red\">Class Introduction Question #3 - What is binary recursion and how do we implement it in C programming?</a>\n",
    "\n",
    "### The next reading for this lecture is <a href = \"https://github.com/mmorri22/su23-cse20332/blob/main/readings/Reading%205-3.ipynb\">Reading 5-3 - Two-Dimensional Static Arrays</a>"
   ]
  }
 ],
 "metadata": {
  "kernelspec": {
   "display_name": "Python 3 (ipykernel)",
   "language": "python",
   "name": "python3"
  },
  "language_info": {
   "codemirror_mode": {
    "name": "ipython",
    "version": 3
   },
   "file_extension": ".py",
   "mimetype": "text/x-python",
   "name": "python",
   "nbconvert_exporter": "python",
   "pygments_lexer": "ipython3",
   "version": "3.9.13"
  }
 },
 "nbformat": 4,
 "nbformat_minor": 5
}
