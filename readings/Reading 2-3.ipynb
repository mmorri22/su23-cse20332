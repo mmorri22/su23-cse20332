{
 "cells": [
  {
   "cell_type": "markdown",
   "id": "edbd5c2b",
   "metadata": {},
   "source": [
    "## Reading 2-3 - Variables and Output Specifiers"
   ]
  },
  {
   "cell_type": "markdown",
   "id": "26d7de09",
   "metadata": {},
   "source": [
    "In the C programming language, we use variable types to <i>specify</i> between different types of values that we use in programs. We learned about the underlying concepts in Reading 1, where you differentiated between signed integers, unsigned integers, characters, and floating point values. In the table below, the <b>reserved keyword</b> for variable types, what the type represents, and the <b>output specifier</b>.\n",
    "\n",
    "><b>Output Specifier</b>: We will use output specifiers to indicate what the variable type is, so we can convert the result of a character representation that we will write to the <code>stdout</code> file. For example, the computer does not print the actual characters \"Hello, World\" to <code>stdout</code>, it prints the ASCII representations that you learned in Reading 1.\n",
    "<p></p>\n",
    "\n",
    "|Keyword|Data Representation|Output Specifier|\n",
    "|----|----|----|\n",
    "|<code>char</code>|character, 8-bit signed integer|<code>%c</code>|\n",
    "|<code>int</code>|32-bit signed integer|<code>%d</code>|\n",
    "|<code>unsigned int</code>|32-bit unsigned integer|<code>%u</code>|\n",
    "|<code>long int</code>|64-bit signed integer|<code>%ld</code>|\n",
    "|<code>long unsigned int</code>|64-bit unsigned integer|<code>%lu</code>|\n",
    "|<code>float</code>|32-bit floating pointing|<code>%f</code>|\n",
    "|<code>double</code>|64-bit floating pointing|<code>%lf</code>|\n",
    "|<code>string</code>|array of characters, like a word|<code>%s</code>|\n",
    "|<code>pointer</code>|memory location|<code>%p</code>|\n",
    "|<code>hexadecimal</code>|represent data using hexadecimal|<code>%x</code>|"
   ]
  },
  {
   "cell_type": "markdown",
   "id": "65b547f3",
   "metadata": {},
   "source": [
    "### The difference between data and location in a program\n",
    "\n",
    "Let's consider the C program <a href=\"https://raw.githubusercontent.com/mmorri22/su23-cse20332/main/readings/reading02/fprintf_1.c\">fprintf_1.c</a>, which creates an int and then prints its value and location.\n",
    "\n",
    "C provides the ampersand operator (<code>&</code>) to get the address of any variable. In other words, if you have a variable <code>print_int</code>, writing <code>&print_int</code> gives you the address of the memory boxes that store <code>print_int</code>.<p></p>\n",
    "\n",
    "<code>#include < stdio.h ></code><br>\n",
    "<code></code><br>\n",
    "<code>int main(void){</code><br>\n",
    "<code></code><br>\n",
    "<code>        int print_int = 5;</code><br>\n",
    "<code></code><br>\n",
    "<code>        fprintf( stdout, \"%d %p\\n\", print_int, &print_int );</code><br>\n",
    "<code></code><br>\n",
    "<code>        return 0;</code><br>\n",
    "<code>}</code><p></p>\n",
    "    \n",
    "Running the compilation gives the result shown below. Note how the address of <code>print_int</code> is represented in hexadecimal!<p></p>\n",
    "    \n",
    "<code>-bash-4.2$ gcc -Wall fprintf_1.c -o fprintf_1\n",
    "-bash-4.2$ ./fprintf_1\n",
    "5 0x7fff38b02b5c<br></code>\n"
   ]
  },
  {
   "cell_type": "markdown",
   "id": "c1bb1922",
   "metadata": {},
   "source": [
    "### Combining Concepts: Data Representation and Memory Location Representation\n",
    "\n",
    "Let's combine the concepts of converting data to hexadecimal, as well as printing the variable's locations. \n",
    "\n",
    "<code>%x</code> is used to print the physical representation of the data in hexadecimal. For example, an unsigned integer equal to 23 is <code>0x17</code> in hexadecimal.\n",
    "\n",
    "In the code <a href =\"https://raw.githubusercontent.com/mmorri22/su23-cse20332/main/readings/reading02/int_specifiers.c\">int_specifiers.c</a>, we print the data for a signed int and unsigned int using <code>%d</code> and <code>%u</code>, respectively. To represent the hexadecimal value, we use <code>%x</code>, and the we use <code>%p</code> to print the physical location of the value in the computer. \n",
    "\n",
    "\n",
    "<code>#include < stdio.h ></code><br>\n",
    "<code></code><br>\n",
    "<code>int main(void){</code><br>\n",
    "<code></code><br>\n",
    "<code>\tint the_int = -6;</code><br>\n",
    "<code>\tunsigned int the_uint = 23;</code><br>\n",
    "<code></code><br>\n",
    "<code>\tfprintf( stdout, \"%u %x %p\\n\", the_uint, the_uint, &the_uint );</code><br>\n",
    "<code></code><br>\n",
    "<code>\tfprintf( stdout, \"%d %x %p\\n\", the_int, the_int, &the_int );</code><br>\n",
    "<code></code><br>\n",
    "<code>\treturn 0;</code><br>\n",
    "    <code>}</code><p></p>\n",
    "    \n",
    "And here is a sample output:<br>\n",
    "<code>-bash-4.2$ gcc -Wall int_specifiers.c -o int_specifiers\n",
    "-bash-4.2$ ./int_specifiers\n",
    "23 17 0x7fff79254048\n",
    "-6 fffffffa 0x7fff7925404c\n",
    "-bash-4.2$ rm int_specifiers</code>\n",
    "\n",
    "\n",
    "><b>Visualize It!</b> I have included a video where I wrote and explain <code>int_specifiers.c</code>. Click on the image below to view the video.\n",
    "\n",
    "<center><a href=\"http://www.youtube.com/watch?feature=player_embedded&v=jQGPtoamCoc\" target=\"_blank\">\n",
    " <img src=\"http://img.youtube.com/vi/jQGPtoamCoc/mqdefault.jpg\" target=\"_blank\" width=\"240\" height=\"180\" border=\"10\" />\n",
    "</a></center><p></p>"
   ]
  },
  {
   "cell_type": "markdown",
   "id": "1439e078",
   "metadata": {},
   "source": [
    "### <font color = \"red\">Question 3 - What are the output specifiers used in C to print the values to the output?</font>"
   ]
  },
  {
   "cell_type": "markdown",
   "id": "7ecbe763",
   "metadata": {},
   "source": [
    "### The next reading is <a href = \"https://github.com/mmorri22/su23-cse20332/blob/main/readings/Reading%202-4.ipynb\">Reading 2-4 - Arithmetic and Assignment Operators</a>"
   ]
  }
 ],
 "metadata": {
  "kernelspec": {
   "display_name": "Python 3 (ipykernel)",
   "language": "python",
   "name": "python3"
  },
  "language_info": {
   "codemirror_mode": {
    "name": "ipython",
    "version": 3
   },
   "file_extension": ".py",
   "mimetype": "text/x-python",
   "name": "python",
   "nbconvert_exporter": "python",
   "pygments_lexer": "ipython3",
   "version": "3.9.13"
  }
 },
 "nbformat": 4,
 "nbformat_minor": 5
}
