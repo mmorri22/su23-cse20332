{
 "cells": [
  {
   "cell_type": "markdown",
   "id": "92bed291",
   "metadata": {},
   "source": [
    "## Reading 2-3 - Variables and Output Specifiers"
   ]
  },
  {
   "cell_type": "markdown",
   "id": "f08dee3a",
   "metadata": {},
   "source": [
    "In the C programming language, we use variable types to <i>specify</i> between different types of values that we use in programs. We learned about the underlying concepts in Reading 1, where you differentiated between signed integers, unsigned integers, characters, and floating point values. In the table below, the <b>reserved keyword</b> for variable types, what the type represents, and the <b>output specifier</b>.\n",
    "\n",
    "><b>Output Specifier</b>: We will use output specifiers to indicate what the variable type is, so we can convert the result of a character representation that we will write to the <code>stdout</code> file. For example, the computer does not print the actual characters \"Hello, World\" to <code>stdout</code>, it prints the ASCII representations that you learned in Reading 1.\n",
    "<p></p>\n",
    "\n",
    "|Keyword|Data Representation|Output Specifier|\n",
    "|----|----|----|\n",
    "|<code>char</code>|character, 8-bit signed integer|<code>%c</code>|\n",
    "|<code>int</code>|32-bit signed integer|<code>%d</code>|\n",
    "|<code>unsigned int</code>|32-bit unsigned integer|<code>%u</code>|\n",
    "|<code>long int</code>|64-bit signed integer|<code>%ld</code>|\n",
    "|<code>long unsigned int</code>|64-bit unsigned integer|<code>%lu</code>|\n",
    "|<code>float</code>|32-bit floating pointing|<code>%f</code>|\n",
    "|<code>double</code>|64-bit floating pointing|<code>%lf</code>|\n",
    "|<code>string</code>|array of characters, like a word|<code>%s</code>|"
   ]
  },
  {
   "cell_type": "code",
   "execution_count": null,
   "id": "9b3f1101",
   "metadata": {},
   "outputs": [],
   "source": []
  }
 ],
 "metadata": {
  "kernelspec": {
   "display_name": "Python 3 (ipykernel)",
   "language": "python",
   "name": "python3"
  },
  "language_info": {
   "codemirror_mode": {
    "name": "ipython",
    "version": 3
   },
   "file_extension": ".py",
   "mimetype": "text/x-python",
   "name": "python",
   "nbconvert_exporter": "python",
   "pygments_lexer": "ipython3",
   "version": "3.9.13"
  }
 },
 "nbformat": 4,
 "nbformat_minor": 5
}
