{
 "cells": [
  {
   "cell_type": "markdown",
   "id": "f5ac35dc",
   "metadata": {},
   "source": [
    "## Reading 7-4 - C Structs - Dynamic"
   ]
  },
  {
   "cell_type": "markdown",
   "id": "3f44b932",
   "metadata": {},
   "source": [
    "### C Structs Allocated on the Heap\n",
    "\n",
    "In order to allocate a C struct on the Heap, we need to create a pointer, just like we've done with dynamic arrays. \n",
    "\n",
    "If we want to allocate a struct on the Heap, we would perform the following task:\n",
    "\n",
    "    simple* dynamic_struct = (simple *)malloc( sizeof(simple) );\n",
    "\n",
    "<ul>\n",
    "    <li>The <code>(simple *)</code> in front of malloc gave <b>context</b> to the void pointer that this is a pointer to a struct on the Heap</li>\n",
    "<li>The <code>sizeof(simple)</code> indicates we need to allocate 128 bits ( 4 + 8 + 4 bytes ) of memory times for the int, float, and double on the Heap</li>\n",
    "    <li>The <code>simple*</code> dynamic_struct is the <b>register</b> containing the base address of the array of integers</li>.\n",
    "\n",
    "</ul>"
   ]
  },
  {
   "cell_type": "markdown",
   "id": "70f53c82",
   "metadata": {},
   "source": [
    "### Accessing Dynamically Allocated Data in a C Struct\n",
    "\n",
    "In order to access a struct pointer, we use <code>-></code> in the place where we would use a <code>.</code> in a statically allocated struct\n",
    "\n",
    "    dynamic_struct->the_int = 45;  // Sets the_int to 45\n",
    "    \n",
    "    // Print the value and the address\n",
    "    fprintf( stdout, \"%d %p\\n\", dynamic_struct->the_int, &(dynamic_struct->the_int));\n"
   ]
  },
  {
   "cell_type": "markdown",
   "id": "ff4b3ebd",
   "metadata": {},
   "source": [
    "### C-Structs passed by reference\n",
    "\n",
    "By default, dynamic C structs are passed by reference, provided you have defined the struct name before the function declaration:\n",
    "\n",
    "    void print_dynamic_struct( simple* dynamic_struct );\n",
    "    \n",
    "This means that the register pointing to the struct is different than the one in main, since the memory is dynamic:\n",
    "\n",
    "    void print_dynamic_struct( simple* dynamic_struct ){\n",
    "\n",
    "        fprintf( stdout, \"In print_dynamic_struct: %p %p\\n\", &dynamic_struct, dynamic_struct);\n",
    "        fprintf( stdout, \"%d %p\\n\", dynamic_struct->the_int, &(dynamic_struct->the_int));\n",
    "        fprintf( stdout, \"%f %p\\n\", dynamic_struct->the_float, &(dynamic_struct->the_float));\n",
    "        fprintf( stdout, \"%lf %p\\n\", dynamic_struct->the_double, &(dynamic_struct->the_double));\n",
    "\n",
    "    }"
   ]
  },
  {
   "cell_type": "markdown",
   "id": "bc626b88",
   "metadata": {},
   "source": [
    "###  Sample Run\n",
    "\n",
    "The code segments are put together in <a href = \"https://github.com/mmorri22/su23-cse20332/blob/main/readings/reading07/static_str.c\">struct_dynamic.c</a>.\n",
    "\n",
    "> <b>Note:</b> Since we have dynamically allocated memory, we will use valgrind to verify all mallocs and frees are performed.\n",
    "\n",
    "Here is a sample output run:\n",
    "\n",
    "<code><font color=\"white\" style=\"background-color:blue;\">> gcc -std=c11 -Wall -Wextra -Wconversion -Werror struct_dynamic.c -o struct_dynamic </font></code><br>\n",
    "<code><font color=\"white\" style=\"background-color:blue;\">> valgrind --leak-check=full ./struct_dynamic</font></code><br>\n",
    "<code><font color=\"white\" style=\"background-color:black;\">==11134== Memcheck, a memory error detector</font></code><br>\n",
    "<code><font color=\"white\" style=\"background-color:black;\">==11134== Copyright (C) 2002-2017, and GNU GPL'd, by Julian Seward et al.</font></code><br>\n",
    "<code><font color=\"white\" style=\"background-color:black;\">==11134== Using Valgrind-3.14.0 and LibVEX; rerun with -h for copyright info</font></code><br>\n",
    "<code><font color=\"white\" style=\"background-color:black;\">==11134== Command: ./struct_dynamic</font></code><br>\n",
    "<code><font color=\"white\" style=\"background-color:black;\">==11134==</font></code><br>\n",
    "<code><font color=\"gold\" style=\"background-color:navy;\">In main: 0x1ffeffffa8 0x5205040</font></code><br>\n",
    "<code><font color=\"gold\" style=\"background-color:navy;\">In print_dynamic_struct: 0x1ffeffff88 0x5205040</font></code><br>\n",
    "<code><font color=\"gold\" style=\"background-color:navy;\">45 0x5205040</font></code><br>\n",
    "<code><font color=\"gold\" style=\"background-color:navy;\">-1.100000 0x5205050</font></code><br>\n",
    "<code><font color=\"gold\" style=\"background-color:navy;\">45.100000 0x5205048</font></code><br>\n",
    "<code><font color=\"white\" style=\"background-color:black;\">==11134== </font></code><br>\n",
    "<code><font color=\"white\" style=\"background-color:black;\">==11134== HEAP SUMMARY:</font></code><br>\n",
    "<code><font color=\"white\" style=\"background-color:black;\">==11134==     in use at exit: 0 bytes in 0 blocks</font></code><br>\n",
    "<code><font color=\"white\" style=\"background-color:green;\">==11134==   total heap usage: 1 allocs, 1 frees, 24 bytes allocated</font></code><br>\n",
    "<code><font color=\"white\" style=\"background-color:black;\">==11134==</font></code><br>\n",
    "<code><font color=\"white\" style=\"background-color:green;\">==11134== All heap blocks were freed -- no leaks are possible</font></code><br>\n",
    "<code><font color=\"white\" style=\"background-color:black;\">==11134==</font></code><br>\n",
    "<code><font color=\"white\" style=\"background-color:black;\">==11134== For counts of detected and suppressed errors, rerun with: -v</font></code><br>\n",
    "<code><font color=\"white\" style=\"background-color:green;\">==11134== ERROR SUMMARY: 0 errors from 0 contexts (suppressed: 0 from 0)</font></code><br>\n",
    "<code><font color=\"white\" style=\"background-color:blue;\">> rm struct_dynamic </font></code><br>\n",
    "    \n",
    "<b>Visualize It!</b> - In the video below, I construct and draw the layout of the static struct memory. Click on the image below to view the view:\n",
    "\n",
    "<center><a href=\"http://www.youtube.com/watch?feature=player_embedded&v=ihJdBYC4XFU\" target=\"_blank\">\n",
    " <img src=\"http://img.youtube.com/vi/ihJdBYC4XFU/mqdefault.jpg\" target=\"_blank\" width=\"240\" height=\"180\" border=\"10\" />\n",
    "</a></center><p></p>"
   ]
  },
  {
   "cell_type": "markdown",
   "id": "6fc635be",
   "metadata": {},
   "source": [
    "### <font color = \"red\">Class Introduction Question #4 - What are the major differences between static and dynamic allocation of C structs on the Stack vs the Heap? </a>"
   ]
  }
 ],
 "metadata": {
  "kernelspec": {
   "display_name": "Python 3 (ipykernel)",
   "language": "python",
   "name": "python3"
  },
  "language_info": {
   "codemirror_mode": {
    "name": "ipython",
    "version": 3
   },
   "file_extension": ".py",
   "mimetype": "text/x-python",
   "name": "python",
   "nbconvert_exporter": "python",
   "pygments_lexer": "ipython3",
   "version": "3.9.13"
  }
 },
 "nbformat": 4,
 "nbformat_minor": 5
}
