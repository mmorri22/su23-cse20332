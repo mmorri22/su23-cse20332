{
 "cells": [
  {
   "cell_type": "markdown",
   "id": "d9e3042b",
   "metadata": {},
   "source": [
    "## Reading 2-4 - Arithmetic and Assignment Operators"
   ]
  },
  {
   "cell_type": "markdown",
   "id": "c9b9ca67",
   "metadata": {},
   "source": [
    "### Arithmetic Operators\n",
    "\n",
    "|Operator|Arithmetic Operation|\n",
    "|----|----|\n",
    "|+|addition|\n",
    "|-|subtraction|\n",
    "| * |multiplication|\n",
    "| / |division|\n",
    "| % |modulus (only for integers)|\n",
    "\n",
    "<b>modulus</b> gives the remainder after division.\n",
    "\n",
    "<b>Examples using modulus</b>\n",
    "\n",
    "<code>    15 % 2  is  1</code><p></p>\n",
    "\n",
    "<code>    15 % 3  is  0</code><p></p>\n",
    "\n",
    "<code>    5 % 7  is  5</code><p></p>"
   ]
  },
  {
   "cell_type": "markdown",
   "id": "97e1e1f4",
   "metadata": {},
   "source": [
    "### Relational Operators"
   ]
  },
  {
   "cell_type": "markdown",
   "id": "612c3e21",
   "metadata": {},
   "source": [
    "<code>    ==    equality     Usage:  x == y  evaluates to false, 0, or true, non 0</code><p></p>\n",
    "\n",
    "<code>    !=    inequality   Usage:  x != y  evaluates to false, 0, or true, non 0</code><p></p>\n",
    "\n",
    "<code>    >     greater than</code><p></p>\n",
    "\n",
    "<code>    <     less than</code><p></p>\n",
    "\n",
    "<code>    >=    greater than or equal to</code><p></p>\n",
    "\n",
    "<code>    <=    less than or equal to</code><p></p>"
   ]
  },
  {
   "cell_type": "markdown",
   "id": "537f362c",
   "metadata": {},
   "source": [
    "### Operator precedence and associativity\n",
    "\n",
    "|operator|associativity|\n",
    "|----|----|\n",
    "|<code>( )</code>|left to right|\n",
    "|<code>*  /  %</code>|left to right|\n",
    "|<code> +  - </code>|left to right|\n",
    "|<code> <  <=  >  >= </code>|left to right|\n",
    "|<code> ==  != </code>|left to right|\n",
    "|<code> = </code>|right to left|\n",
    "\n",
    "> <b>Important Note:</b> Note that multiplication and division have higher precedence than addition and subtraction. These four operators also associate left to right. The assignment (=) is an operator too; it associates right to left.\n",
    "\n"
   ]
  },
  {
   "cell_type": "markdown",
   "id": "6964c510",
   "metadata": {},
   "source": [
    "### C Shorthand Assignment Operators\n",
    "\n",
    "C shorthand operators are used to simplify code segments.\n",
    "\n",
    "|shorthand operator|C code example | Equivalent C longhand code|\n",
    "|----|----|----|\n",
    "|<code> += </code>|<code> X += Y </code>|<code> X = X + Y </code>|\n",
    "|<code> -= </code>|<code> X -= Y </code>|<code> X = X - Y </code>|\n",
    "|<code> *= </code>|<code> X *= Y </code>|<code> X = X * Y </code>|\n",
    "|<code> /= </code>|<code> X /= Y </code>|<code> X = X / Y </code>|\n",
    "|<code> %= </code>|<code> X %= Y </code>|<code> X = X % Y </code>|"
   ]
  },
  {
   "cell_type": "markdown",
   "id": "7fab8025",
   "metadata": {},
   "source": [
    "### Increment and Decrement Operators\n",
    "\n",
    "It is so common to write code like:\n",
    "\n",
    "<code>  total = total + 1;     /* increment total */</code>\n",
    "  \n",
    "that C provides a \"shorthand\" way of doing it:\n",
    "\n",
    "<code>  total++;              /* increment total */</code>\n",
    "\n",
    "### Pre-increment vs. Post-increment (or ++X vs. X++)\n",
    "\n",
    "<code>++X</code> adds 1 to X.<br>\n",
    "<code>X++</code> adds 1 to X.<br>\n",
    "\n",
    "The difference is in <font color = \"red\">WHEN</font> the 1 is added.\n",
    "\n",
    "If the <b>pre-increment</b> operator is being used, as in <code>++X</code>, X is incremented first and then that new value of X is used in any expression that may be evaluated.<p></p>\n",
    "\n",
    "If the post-increment operator is being used, as in <code>X++</code>, then the expression is evaluated first (using the value of X), and then X is incremented.<p></p>\n",
    "\n",
    "<code>--X</code> and <code>X--</code> work the same way, except 1 is being subtracted from X.\n",
    "\n",
    "><b>Test Yourself:</b> Based on the code example <a href = \"https://raw.githubusercontent.com/mmorri22/su23-cse20332/main/readings/reading02/inc_dec_operators.c\">inc_dec_operators.c</a>, what do you expect the output to be?\n",
    "><p></p>\n",
    "><code>#include < stdio.h ></code><br>\n",
    "><code></code><br>\n",
    "><code>int main(void){</code><br>\n",
    "><code></code><br>\n",
    "><code>\tint x = 5;</code><br>\n",
    "><code></code><br>\n",
    "><code>\tfprintf( stdout, \"Initial x is %d\\n\", x );</code><br>\n",
    "><code>\tfprintf( stdout, \"After ++x, the value is %d\\n\", ++x);</code><br>\n",
    "><code>\tfprintf( stdout, \"After x++, the value is %d\\n\", x++);</code><br>\n",
    "><code>\tfprintf( stdout, \"The current value of x is now %d\\n\", x);</code><br>\n",
    "><code>\tfprintf( stdout, \"After --x, the value is %d\\n\", --x);</code><br>\n",
    "><code>\tfprintf( stdout, \"After x--, the value is %d\\n\", x--);</code><br>\n",
    "><code>\tfprintf( stdout, \"The current value of x is not %d\\n\", x);</code><br>\n",
    "><code></code><br>\n",
    "><code>\treturn 0;</code><br>\n",
    "><code>}</code>\n",
    "<p></p>\n",
    "\n",
    "<b>Visualize It!</b> This video shown an example of increment and decrement operators in action.\n",
    "<center><a href=\"http://www.youtube.com/watch?feature=player_embedded&v=YwXNhqA-eiA\" target=\"_blank\">\n",
    " <img src=\"http://img.youtube.com/vi/YwXNhqA-eiA/mqdefault.jpg\" target=\"_blank\" width=\"240\" height=\"180\" border=\"10\" />\n",
    "</a></center><p></p>"
   ]
  },
  {
   "cell_type": "markdown",
   "id": "6ce80710",
   "metadata": {},
   "source": [
    "### <font color = \"red\">Question 4: Why is it important to understand order of operations in a computing device?</font>"
   ]
  }
 ],
 "metadata": {
  "kernelspec": {
   "display_name": "Python 3 (ipykernel)",
   "language": "python",
   "name": "python3"
  },
  "language_info": {
   "codemirror_mode": {
    "name": "ipython",
    "version": 3
   },
   "file_extension": ".py",
   "mimetype": "text/x-python",
   "name": "python",
   "nbconvert_exporter": "python",
   "pygments_lexer": "ipython3",
   "version": "3.9.13"
  }
 },
 "nbformat": 4,
 "nbformat_minor": 5
}
