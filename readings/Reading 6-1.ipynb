{
 "cells": [
  {
   "cell_type": "markdown",
   "id": "bd3eb499",
   "metadata": {},
   "source": [
    "## Reading 6-1 - Void Pointers"
   ]
  },
  {
   "cell_type": "markdown",
   "id": "2b53c90e",
   "metadata": {},
   "source": [
    "### Revisiting our Memory Metaphor\n",
    "\n",
    "Up to this point in the course, everything you have done has been <b>static</b>, meaning that you have known the exact size of data elements when you began the program.\n",
    "\n",
    "Since we've only used our working memory (registers) and static memory (hippocampus), we've only been able to \"cram\" information. \n",
    "\n",
    "<center><img src=\"https://github.com/mmorri22/su23-cse20332/blob/main/readings/reading02/Parable%20of%20the%20Choir.jpg?raw=true\" alt=\"Memory Metaphor\" width=\"500\" height=\"600\"></center>\n",
    "\n",
    "<p> </p>\n",
    "This approach has significant limitations, as we need to be able to store information <b>in real time</b>. Recall that - once you had \"trained\" yourself to remember large pieces of information - you could perform that task efficiently and reliably. You were actually using a different part of the brain, your neocortex.<p> </p>\n",
    "\n",
    "We will call memory that we have to \"train\" - which is stored as we run the program - <b>dynamic memory</b>. And the computer's equivalent to the neocortex is called the <b>data heap</b>."
   ]
  },
  {
   "cell_type": "markdown",
   "id": "9a90a953",
   "metadata": {},
   "source": [
    "### Expanding our Memory Metaphor - Void Pointers\n",
    "\n",
    "Remember that we remember by building links of brain neurons. But we can remember almost anything! Words, images, sounds, smells, tastes! Our neurons can be trained to remember any type of information we can remember. But they are <b>neurons first</b>.\n",
    "\n",
    "Likewise, a computer can be trained to dynamically store any type of information it can store, but the memory is <b>binary bits first</b>.\n",
    "\n",
    "Consider the movie <a href=\"https://www.netflix.com/title/80196789\">Bird Box</a>. For those of you who have never seen Birdbox, the premise is that Earth has been invaded and that if a person sees the creatures, they will be lulled to their deaths. As a result, survivors learn how to navigate the world with blind folds, and have to make guesses as to what they are encountering. \n",
    "\n",
    "<center><img src=\"https://github.com/mmorri22/su23-cse20332/blob/main/readings/reading06/Reading%206-1.png?raw=true\" alt=\"Bird Box\" width=\"250\" height=\"300\"></center>\n",
    "\n",
    "A <b>void pointer</b> is like programming with a blind fold: You are just allocating and pointing to memory. You have not yet defined the structure's data type.\n",
    "\n",
    "We will use <b>void pointers</b> to point to chunks of binary memory that we allocate on the <b>Data Heap</b> "
   ]
  },
  {
   "cell_type": "markdown",
   "id": "6aab49fe",
   "metadata": {},
   "source": [
    "### Creating a Void Pointer \n",
    "\n",
    "First, we need to use a new library, the C Standard Library Header File (<code>stdlib.h</code>). This library contains the functions we will need to write memory to the heap.\n",
    "\n",
    "    #include <stdio.h>\n",
    "    #include <stdlib.h>\n",
    "    \n",
    "In <code>main</code>, we will use a <code>long unsigned int</code> to store the number of <b>bytes</b> we plan to store.\n",
    "\n",
    "    long unsigned int array_len = 13;\n",
    "    \n",
    "We will allocate memory of the number of bytes with a void pointer using a function called <code>malloc</code>, which takes in the number of bytes and returns a <code>void *</code>\n",
    "\n",
    "    void* hello = malloc( array_len );\n",
    "\n",
    "The <code>-Wconversion</code> Production Quality Compilation flag will strictly enforce that inputs to <code>malloc</code> are of type <code>long unsigned int</code>.\n",
    "    \n",
    "> <b>Test Yourself!</b> - Based on your understand of the values of signed and unsigned ints, why would we prefer to use an unsigned integer to represent the amount of memory we plan to allocate, as opposed to a signed int? And why would we prefer to use a <code>long unsigned int</code> as opposed to an <code>unsigned int</code>?\n",
    "\n",
    "Now, we will print out the locations of every memory element we know. <code>void *</code> is just like the <code>int *</code> we learned about earlier. Recall that a pointer has three main elements:\n",
    "<ul>\n",
    "    <li>An initial location (origin)</li>\n",
    "        <ul><li>Typically the address of a register</li></ul>\n",
    "    <li>A destination</li>\n",
    "        <ul><li>Stored in the origin register</li></ul>\n",
    "    <li>A value</li>\n",
    "        <ul><li>Information at that destination</li></ul>\n",
    "</ul>\n",
    "\n",
    "The difference is that void pointers do not have a value at the destination yet. We will cover how to store information at the destination in Reading 6.2.\n",
    "\n",
    "    fprintf( stdout, \"Location of array_len is %p\\n\", &array_len );\n",
    "    fprintf( stdout, \"Location of &hello is %p\\n\", &hello );\n",
    "    fprintf( stdout, \"Location of hello is %p\\n\", hello );\n",
    "    \n",
    "Based on the code at <a href = \"\">void_1.c</a>, here is a sample output run.\n",
    "\n",
    "    > gcc -std=c11 -Wall -Wextra -Wconversion -Werror void_1.c -o void_1\n",
    "    > ./void_1\n",
    "    Location of array_len is 0x7ffc1c7a2088\n",
    "    Location of &hello is 0x7ffc1c7a2080\n",
    "    Location of hello is 0x1408010\n",
    "\n",
    "> <b>Test Yourself!</b> - Why do you think the hexadecimal address for <code>hello</code> is so much shorter than <code>&array_len</code> or <code>&hello</code>?\n",
    "\n",
    "It turns out that the address is <i>not</i> shorter at all. The actual address is <code>0x000001408010</code>!\n",
    "\n",
    "The reason is that the memory addresses are commonly arranged such that Data Heap is closer to address 0x0, and the Stack and Registers are closer to the end of the memory, as shown below.\n",
    "\n",
    "<center><img src=\"https://github.com/mmorri22/su23-cse20332/blob/main/readings/reading06/Reading%206-2.png?raw=true\" alt=\"First Memory Allocation\" width=\"500\" height=\"500\"></center>\n"
   ]
  },
  {
   "cell_type": "markdown",
   "id": "104d74ac",
   "metadata": {},
   "source": [
    "### Freeing Dynamically Allocated Memory\n",
    "\n"
   ]
  }
 ],
 "metadata": {
  "kernelspec": {
   "display_name": "Python 3 (ipykernel)",
   "language": "python",
   "name": "python3"
  },
  "language_info": {
   "codemirror_mode": {
    "name": "ipython",
    "version": 3
   },
   "file_extension": ".py",
   "mimetype": "text/x-python",
   "name": "python",
   "nbconvert_exporter": "python",
   "pygments_lexer": "ipython3",
   "version": "3.9.13"
  }
 },
 "nbformat": 4,
 "nbformat_minor": 5
}
