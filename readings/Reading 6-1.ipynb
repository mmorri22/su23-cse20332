{
 "cells": [
  {
   "cell_type": "markdown",
   "id": "3cef15e2",
   "metadata": {},
   "source": [
    "## Reading 6-1 - Void Pointers"
   ]
  },
  {
   "cell_type": "markdown",
   "id": "755be5aa",
   "metadata": {},
   "source": [
    "### Revisiting our Memory Metaphor\n",
    "\n",
    "Up to this point in the course, everything you have done has been <b>static</b>, meaning that you have known the exact size of data elements when you began the program.\n",
    "\n",
    "Since we've only used our working memory (registers) and static memory (hippocampus), we've only been able to \"cram\" information. \n",
    "\n",
    "![Memory Metaphor](https://github.com/mmorri22/su23-cse20332/blob/main/readings/reading02/Parable%20of%20the%20Choir.jpg?raw=true)\n",
    "\n",
    "<p> </p>\n",
    "This approach has significant limitations, as we need to be able to store information <b>in real time</b>. Recall that - once you had \"trained\" yourself to remember large pieces of information - you could perform that task efficiently and reliably. You were actually using a different part of the brain, your neocortex.\n",
    "\n",
    "We will call memory that we have to \"train\" - which is stored as we run the program - <b>dynamic memory</b>. And the computer's equivalent to the neocortex is called the <b>data heap</b>."
   ]
  },
  {
   "cell_type": "markdown",
   "id": "dfdcb772",
   "metadata": {},
   "source": [
    "### Expanding our Memory Metaphor - Void Pointers\n",
    "\n",
    "Remember that we remember by building links of brain neurons. But we can remember almost anything! Words, images, sounds, smells, tastes! Our neurons can be trained to remember any type of information we can remember. But they are <b>neurons first</b>.\n",
    "\n",
    "Likewise, a computer can be trained to dynamically store any type of information it can store, but the memory is <b>binary bits first</b>.\n",
    "\n",
    "Consider the movie <a href=\"https://www.netflix.com/title/80196789\">Bird Box</a>. For those of you who have never seen Birdbox, the premise is that Earth has been invaded and that if a person sees the creatures, they will be lulled to their deaths. As a result, survivors learn how to navigate the world with blind folds, and have to make guesses as to what they are encountering. \n",
    "\n",
    "\n",
    "\n",
    "A void pointer is like programming with a blind fold: You are just allocating and pointing to memory. You have not yet defined the structure's data type."
   ]
  },
  {
   "cell_type": "code",
   "execution_count": null,
   "id": "5602064c",
   "metadata": {},
   "outputs": [],
   "source": []
  }
 ],
 "metadata": {
  "kernelspec": {
   "display_name": "Python 3 (ipykernel)",
   "language": "python",
   "name": "python3"
  },
  "language_info": {
   "codemirror_mode": {
    "name": "ipython",
    "version": 3
   },
   "file_extension": ".py",
   "mimetype": "text/x-python",
   "name": "python",
   "nbconvert_exporter": "python",
   "pygments_lexer": "ipython3",
   "version": "3.9.13"
  }
 },
 "nbformat": 4,
 "nbformat_minor": 5
}
