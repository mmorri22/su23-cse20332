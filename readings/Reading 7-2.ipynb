{
 "cells": [
  {
   "cell_type": "markdown",
   "id": "e84c3899",
   "metadata": {},
   "source": [
    "## Reading 7-2 - Allocating and Freeing Memory for Pointers to Pointers"
   ]
  },
  {
   "cell_type": "markdown",
   "id": "36c534be",
   "metadata": {},
   "source": [
    "### Allocating Memory to Pointers of Pointers\n",
    "\n",
    "The next step is to allocate memory to each individual pointers. \n",
    "\n",
    "To demonstrate this, I will pass the int** pascal to a function in order to demonstrate the effectiveness of pass by reference, and to promote modularity in programming.\n",
    "\n",
    "> <b>Review:</b> Modularity is breaking down programs into the smallest possible tasks. Using functions to promote modularity is a sign of a strong programmer.\n",
    "\n",
    "I will also pass the size of the array <code>long unsigned int pascal_size</code> with the <code>int**</code> array. Notice in the loop that I allocate <code>iter + 1</code> since the size at that specific array with be one integer larger than the iterator\n",
    "\n",
    "> <b>Example:</b> When <code>iter = 0</code>, <code>pascal[iter] = (int * )malloc( (iter + 1) * sizeof(int)</code> will allocate an integer array of size 1. Likewise, when <code>iter = 3</code>, <code>pascal[iter] = (int * )malloc( (iter + 1) * sizeof(int)</code> will allocate an integer array of size 4.\n",
    "\n",
    "\n",
    "    void alloc_mem( int** pascal, long unsigned int pascal_size ){\n",
    "\n",
    "        long unsigned int iter;\n",
    "\n",
    "        for( iter = 0; iter < pascal_size; ++iter ){\n",
    "\n",
    "            pascal[iter] = (int *)malloc( (iter + 1) * sizeof(int) );\n",
    "        }\n",
    "    }\n"
   ]
  },
  {
   "cell_type": "markdown",
   "id": "1e39717c",
   "metadata": {},
   "source": [
    "### Freeing Memory to Pointers of Pointers\n",
    "\n",
    "In the same vein, I will write another function where I free all the memory allocated to those pointers. \n",
    "\n",
    "> This approach ensures we pass valgrind and successfully free all the memory in the computing device.\n",
    "\n",
    "    void free_mem( int** pascal, long unsigned int pascal_size  ){\n",
    "\n",
    "        long unsigned int iter;\n",
    "\n",
    "        for( iter = 0; iter < pascal_size; ++iter ){\n",
    "\n",
    "            free ( pascal[iter] );\n",
    "        }    \n",
    "    }\n",
    "    \n",
    "<b>Visualize It!</b> - In the video below, I write the code and draw the memory layout of the computing system. I also point out in the video that, whenever I am writing code to structure data with pointers, I ensure I've properly made the malloc and free work properly (i.e. set up the structure) before I design the algorithm (i.e. perform data operations).\n",
    "\n",
    "Click on the image below to see the video:<p></p>\n",
    "\n",
    "<center><a href=\"http://www.youtube.com/watch?feature=player_embedded&v=9NdWfmooi58\" target=\"_blank\">\n",
    " <img src=\"http://img.youtube.com/vi/9NdWfmooi58/mqdefault.jpg\" target=\"_blank\" width=\"240\" height=\"180\" border=\"10\" />\n",
    "</a></center><p></p>"
   ]
  },
  {
   "cell_type": "markdown",
   "id": "2a510dab",
   "metadata": {},
   "source": [
    "### Final Run, Output, and Valgrind verification\n",
    "\n",
    "I have included the final solution to setting up and printing the Pascal triangle in the code pascal.c. \n",
    "\n",
    "><b>Thought Question:</b> I want you to notice the highlighted <font color=\"white\" style=\"background-color:green;\">green</font> line in the valgrind statement. I have asked for 5 lines of Pascal, and the valgrind says I have 6 allocs and 6 frees. Why do you think that is?\n",
    "\n",
    "<code><font color=\"white\" style=\"background-color:blue;\">> gcc -std=c11 -Wall -Wextra -Wconversion -Werror pascal.c -o pascal</font></code><br>\n",
    "<code><font color=\"white\" style=\"background-color:blue;\">> valgrind --leak-check=full ./pascal</font></code><br>\n",
    "<code><font color=\"white\" style=\"background-color:black;\">==3950== Memcheck, a memory error detector</font></code><br>\n",
    "<code><font color=\"white\" style=\"background-color:black;\">==3950== Copyright (C) 2002-2017, and GNU GPL'd, by Julian Seward et al.</font></code><br>\n",
    "<code><font color=\"white\" style=\"background-color:black;\">==3950== Using Valgrind-3.14.0 and LibVEX; rerun with -h for copyright info</font></code><br>\n",
    "<code><font color=\"white\" style=\"background-color:black;\">==3950== Command: ./pascal</font></code><br>\n",
    "<code><font color=\"white\" style=\"background-color:black;\">==3950==</font></code><br>\n",
    "<code><font color=\"gold\" style=\"background-color:navy;\">Enter the size of the Pascal Triangle: 5</font></code><br>\n",
    "<code><font color=\"gold\" style=\"background-color:navy;\">1 </font></code><br>\n",
    "<code><font color=\"gold\" style=\"background-color:navy;\">1 1 </font></code><br>\n",
    "<code><font color=\"gold\" style=\"background-color:navy;\">1 2 1</font></code><br>\n",
    "<code><font color=\"gold\" style=\"background-color:navy;\">1 3 3 1</font></code><br>\n",
    "<code><font color=\"gold\" style=\"background-color:navy;\">1 4 6 4 1</font></code><br>\n",
    "<code><font color=\"white\" style=\"background-color:black;\">==3950== </font></code><br>\n",
    "<code><font color=\"white\" style=\"background-color:black;\">==3950== HEAP SUMMARY:</font></code><br>\n",
    "<code><font color=\"white\" style=\"background-color:black;\">==3950==     in use at exit: 0 bytes in 0 blocks</font></code><br>\n",
    "<code><font color=\"white\" style=\"background-color:green;\">==3950==   total heap usage: 6 allocs, 6 frees, 100 bytes allocated</font></code><br>\n",
    "<code><font color=\"white\" style=\"background-color:black;\">==3950==</font></code><br>\n",
    "<code><font color=\"white\" style=\"background-color:black;\">==3950== All heap blocks were freed -- no leaks are possible</font></code><br>\n",
    "<code><font color=\"white\" style=\"background-color:black;\">==3950==</font></code><br>\n",
    "<code><font color=\"white\" style=\"background-color:black;\">==3950== For counts of detected and suppressed errors, rerun with: -v</font></code><br>\n",
    "<code><font color=\"white\" style=\"background-color:black;\">==3950== ERROR SUMMARY: 0 errors from 0 contexts (suppressed: 0 from 0)</font></code><br>"
   ]
  },
  {
   "cell_type": "markdown",
   "id": "400e0eef",
   "metadata": {},
   "source": [
    "### Amount of memory allocated and freed\n",
    "\n",
    "The reason is because we allocate the pointer to the pointers (<b>1 alloc</b>) in <code>main</code>, and then allocate 5 pointer arrays (<b>5 allocs</b>) in <code>alloc_mem</code>, which gives us 6 frees.\n",
    "\n",
    "Likewise, we free the 5 pointer arrays (<b>5 frees</b>) in <code>free_mem</code>, and then free the the pointer to the pointers (<b>1 free</b>) in <code>main</code>, which gives us 6 frees.\n",
    "\n",
    "Furthermore, each pointer in the int* array is 64 bits (8 bytes), so the pointer to pointers array takes up 5 * 8 bytes = 40 bytes. Then, here is how much memory each array contains:\n",
    "\n",
    "    pascal[0] = 1 integer = 4 bytes\n",
    "    pascal[1] = 2 integers = 8 bytes\n",
    "    pascal[2] = 3 integers = 12 bytes\n",
    "    pascal[3] = 4 integers = 16 bytes\n",
    "    pascal[4] = 5 integers = 20 bytes\n",
    "\n",
    "Summing the memory together, we get 40 + 4 + 8 + 12 + 16 + 20, which is 100 bytes, precisely the number that valgrind gave us.\n",
    "\n",
    "<b>Visualize It!</b> - The compilation run and valgrind is reviewed and visualized in the video below. Click on the image below to see the video:<p></p>\n",
    "\n",
    "<center><a href=\"http://www.youtube.com/watch?feature=player_embedded&v=CdLHXDKjB9U\" target=\"_blank\">\n",
    " <img src=\"http://img.youtube.com/vi/CdLHXDKjB9U/mqdefault.jpg\" target=\"_blank\" width=\"240\" height=\"180\" border=\"10\" />\n",
    "</a></center><p></p>"
   ]
  },
  {
   "cell_type": "markdown",
   "id": "12c9fae5",
   "metadata": {},
   "source": [
    "### <font color = \"red\">Class Introduction Question #2 - Hwhy is it important for you to understand allocating and freeing memory to pointers to pointers?</a>"
   ]
  },
  {
   "cell_type": "markdown",
   "id": "725bf627",
   "metadata": {},
   "source": [
    "### The next reading for this lecture is <a href = \"https://github.com/mmorri22/su23-cse20332/blob/main/readings/Reading%207-3.ipynb\">Reading 7-3 - C Structs - Static</a>"
   ]
  }
 ],
 "metadata": {
  "kernelspec": {
   "display_name": "Python 3 (ipykernel)",
   "language": "python",
   "name": "python3"
  },
  "language_info": {
   "codemirror_mode": {
    "name": "ipython",
    "version": 3
   },
   "file_extension": ".py",
   "mimetype": "text/x-python",
   "name": "python",
   "nbconvert_exporter": "python",
   "pygments_lexer": "ipython3",
   "version": "3.9.13"
  }
 },
 "nbformat": 4,
 "nbformat_minor": 5
}
