{
 "cells": [
  {
   "cell_type": "markdown",
   "id": "eebd5727",
   "metadata": {},
   "source": [
    "## Reading 7-3 - C Structs - Static"
   ]
  },
  {
   "cell_type": "markdown",
   "id": "6d686ff9",
   "metadata": {},
   "source": [
    "Up to this point, we have allocated memory for homogeneous structures of data (such as integer arrays). But that is not how life works. Consider information for a student:\n",
    "<ul>\n",
    "    <li>Name</li>\n",
    "    <li>Age</li>\n",
    "    <li>GPA</li>\n",
    "    <li>Dorm Room</li>\n",
    "    <li>Address</li>\n",
    "    <li>Courses</li>\n",
    "</ul>\n",
    "\n",
    "All of this information is conveyed in different ways, meaning we need different types of data to represent one student! We can represent a data structure using a <b>struct</b><p></p>\n",
    "\n",
    "<center><img src=\"https://github.com/mmorri22/su23-cse20332/blob/main/readings/reading07/Thinking%20Man.gif?raw=true\" alt=\"Static Memory Locations\" width=\"500\" height=\"350\"></center>\n",
    "\n",
    "<center>When you call the container for data structures in C a \"struct\"</center>"
   ]
  },
  {
   "cell_type": "markdown",
   "id": "3098b882",
   "metadata": {},
   "source": [
    "### C Structs\n",
    "\n",
    "<b>Struct</b>: derived data type composed of members that are each fundamental or derived data types\n",
    "<ul>\n",
    "    <li>Helpful for clusters of information</li>\n",
    "    <li>Struct address is the same as the address of the first variable in the struct, next variables are consecutive in memory</li>\n",
    "</ul>\n",
    "\n",
    "<code>typedef</code>: keyword that allows you to define your own data type (only needed in C)\n",
    "\n",
    "### C Struct\n",
    "\n",
    "The main format for a C Struct we will use in this course is:\n",
    "\n",
    "    typedef struct struct_name{\n",
    "    \n",
    "         variable_1;\n",
    "         variable_2;\n",
    "         ....\n",
    "         variable_n\n",
    "         \n",
    "    } struct_name;\n",
    "\n",
    "Notice how I have defined the struct as <code>simple</code> both before <i>and</i> after the braces. This approach ensures we can allocate space whenever we define the struct. Furthermore, I have put the keyword <code>typedef</code> so we do not need to use the struct keyword in main.\n",
    "\n",
    "> Simply put: if you define your C structs in this format, this approach will make your program process much simpler when you implement them.\n",
    "\n",
    "\n",
    "    typedef struct simple{\n",
    "\n",
    "         int the_int;\n",
    "         double the_double;\n",
    "         float the_float;\n",
    "\n",
    "    } simple;\n"
   ]
  },
  {
   "cell_type": "markdown",
   "id": "f5a09fc7",
   "metadata": {},
   "source": [
    "### Static C Structs\n",
    "\n",
    "We will now build a C struct on the stack. Recall that when we build data on the stack, that we can access the data in real time akin to how we access registers.\n",
    "\n",
    "First, we will create a static C Struct just like we created a static array where we know the values.\n",
    "\n",
    "    //create a struct on the stack\n",
    "    simple static_str = {-14, 22.7, (float)9.2 };\n",
    "\n",
    "> <b>Recall:</b> When using the <code>-Wconversion</code> Production Quality Compilation flag on the ND machines, we have to case floats since the machine is, by default, 64 bits.\n",
    "\n",
    "In order to access a static C struct element (for example, <code>the_int</code>), you should use the following format:\n",
    "    \n",
    "    struct_variable_name.element_name    // Data value\n",
    "    &(struct_variable_name.element_name) // Address on the stack\n",
    "    \n",
    "To access the simple_str's integer, and obtain the address on the stack, you would do the following:\n",
    "\n",
    "    fprintf( stdout, \"static_str.the_int = %d at %p\\n\", \n",
    "                        static_str.the_int, &(static_str.the_int));\n",
    "    \n",
    "Next, we will print out the values to the terminal using the following code segments:\n",
    "\n",
    "    fprintf( stdout, \"Base address of static_str = %p\\n\", &static_str);\n",
    "    \n",
    "    fprintf( stdout, \"static_str.the_int = %d at %p\\n\", \n",
    "                    static_str.the_int, &(static_str.the_int));\n",
    "                    \n",
    "    fprintf( stdout, \"static_str.the_double = %lf at %p\\n\", \n",
    "                    static_str.the_double, &(static_str.the_double));\n",
    "                    \n",
    "    fprintf( stdout, \"static_str.the_float = %f at %p\\n\", \n",
    "                    static_str.the_float, &(static_str.the_float));\n"
   ]
  },
  {
   "cell_type": "markdown",
   "id": "9fa35744",
   "metadata": {},
   "source": [
    "### C-Structs passed by reference\n",
    "\n",
    "By default, static C structs are passed by reference, provided you have defined the struct name before the function declaration:\n",
    "\n",
    "    void print_static_struct( simple static_str );"
   ]
  },
  {
   "cell_type": "markdown",
   "id": "c3756f5a",
   "metadata": {},
   "source": [
    "###  Sample Run\n",
    "\n",
    "The code segments are put together in <a href = \"https://github.com/mmorri22/su23-cse20332/blob/main/readings/reading07/static_str.c\">static_str.c</a>. Here is a sample output run:\n",
    "\n",
    "    > gcc -std=c11 -Wall -Wextra -Wconversion -Werror static_str.c -o static_str   \n",
    "    > ./static_str\n",
    "    Base address of static_str = 0x7ffe3c0a8a80\n",
    "    static_str.the_int = -14 at 0x7ffe3c0a8a80\n",
    "    static_str.the_double = 22.700000 at 0x7ffe3c0a8a84\n",
    "    static_str.the_float = 9.200000 at 0x7ffe3c0a8a8c\n",
    "    > rm static_str\n",
    "    \n",
    "<b>Visualize It!</b> - In the video below, I construct and draw the layout of the static struct memory. Click on the image below to view the video:\n",
    "\n",
    "<center><a href=\"http://www.youtube.com/watch?feature=player_embedded&v=spfZcDCP4m0\" target=\"_blank\">\n",
    " <img src=\"http://img.youtube.com/vi/spfZcDCP4m0/mqdefault.jpg\" target=\"_blank\" width=\"240\" height=\"180\" border=\"10\" />\n",
    "</a></center><p></p>"
   ]
  },
  {
   "cell_type": "markdown",
   "id": "e4bbbedc",
   "metadata": {},
   "source": [
    "### <font color = \"red\">Class Introduction Question #3 - What is a C Struct and how do we allocate a static struct on the stack?</a>"
   ]
  },
  {
   "cell_type": "markdown",
   "id": "b1382152",
   "metadata": {},
   "source": [
    "### The final reading for this lecture is <a href = \"https://github.com/mmorri22/su23-cse20332/blob/main/readings/Reading%207-4.ipynb\">Reading 7-4 - C Structs - Dynamic</a>"
   ]
  }
 ],
 "metadata": {
  "kernelspec": {
   "display_name": "Python 3 (ipykernel)",
   "language": "python",
   "name": "python3"
  },
  "language_info": {
   "codemirror_mode": {
    "name": "ipython",
    "version": 3
   },
   "file_extension": ".py",
   "mimetype": "text/x-python",
   "name": "python",
   "nbconvert_exporter": "python",
   "pygments_lexer": "ipython3",
   "version": "3.9.13"
  }
 },
 "nbformat": 4,
 "nbformat_minor": 5
}
