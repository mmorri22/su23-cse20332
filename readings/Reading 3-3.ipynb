{
 "cells": [
  {
   "cell_type": "markdown",
   "id": "7f5f4c5e",
   "metadata": {},
   "source": [
    "# Reading 3-3 - Functions"
   ]
  },
  {
   "cell_type": "markdown",
   "id": "952d7f0d",
   "metadata": {},
   "source": [
    "What is <b>Modularity</b>?\n",
    "<ul>\n",
    "    <li>Logical partitioning of the \"software design\"</li>\n",
    "    <li>Allows complex software to be manageable for the purpose of implementation and maintenance</li>\n",
    "</ul>\n",
    "    \n",
    "Objective\n",
    "<ul><li>Reduce code complexity by allowing for code reuse</ul></li>\n",
    "\n",
    "We perform these tasks with <i>functions</i>"
   ]
  },
  {
   "attachments": {},
   "cell_type": "markdown",
   "id": "a5feb055",
   "metadata": {},
   "source": [
    "## Functions\n",
    "\n",
    "Functions help <b>simplify</b> program structure\n",
    "<ul>\n",
    "    <li>create modules</li>\n",
    "    <li>hide details – Abstraction!</li>\n",
    "    <li>Brace Procedures!</li>\n",
    "</ul>\n",
    "\n",
    "Think of a function as a <b>sequence of statements</b>\n",
    "<ul>\n",
    "    <li>executed together </li>\n",
    "    <li>take a set of input arguments </li>\n",
    "    <li>return an output value</li>\n",
    "</ul>\n",
    "\n",
    "You are already familiar with one function... <code>main</code>!\n",
    "\n",
    "    int main( void ){\n",
    "    \n",
    "        return 0;\n",
    "    }\n",
    "\n",
    "<ul>\n",
    "    <li>Inputs: None!</li>\n",
    "    <li>Outputs: int</li>\n",
    "    <li>Function name: main</li>\n",
    "</ul>"
   ]
  },
  {
   "attachments": {},
   "cell_type": "markdown",
   "id": "a191d4f2",
   "metadata": {},
   "source": [
    "## Good Practices for designing Functions\n",
    "\n",
    "Good practice:\n",
    "<ul>\n",
    "    <li>Put a function <b>declaration</b> above main</li>\n",
    "    <ul>\n",
    "        <li><code>inputs, function name, and output</code></li> \n",
    "        <li>followed by a semicolon</li>\n",
    "    </ul>\n",
    "</ul>\n",
    "\n",
    "<ul>\n",
    "    <li>Put a function definition below main</li>\n",
    "    <ul>\n",
    "        <li><code>inputs, function name, and output </code></li> \n",
    "        <li>followed by a Code Block with a C procedure</li>\n",
    "    </ul>\n",
    "</ul>\n",
    "\n",
    "<b>Simple Example</b> - Consider the file printGreeting.c\n",
    "\n"
   ]
  },
  {
   "cell_type": "code",
   "execution_count": null,
   "id": "8633d336",
   "metadata": {},
   "outputs": [],
   "source": []
  }
 ],
 "metadata": {
  "kernelspec": {
   "display_name": "Python 3 (ipykernel)",
   "language": "python",
   "name": "python3"
  },
  "language_info": {
   "codemirror_mode": {
    "name": "ipython",
    "version": 3
   },
   "file_extension": ".py",
   "mimetype": "text/x-python",
   "name": "python",
   "nbconvert_exporter": "python",
   "pygments_lexer": "ipython3",
   "version": "3.9.13"
  }
 },
 "nbformat": 4,
 "nbformat_minor": 5
}
