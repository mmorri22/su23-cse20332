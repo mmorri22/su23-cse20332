{
 "cells": [
  {
   "cell_type": "markdown",
   "id": "5039858e",
   "metadata": {},
   "source": [
    "## Reading 5-1 - Introduction to Recursion"
   ]
  },
  {
   "cell_type": "markdown",
   "id": "088b0497",
   "metadata": {},
   "source": [
    "<b>What is Recursion?</b> - The use of a procedure, subroutine, function, or algorithm which:\n",
    "<ul>\n",
    "<li>calls itself one or more times</li>\n",
    "<li>until a specified condition is met</li>\n",
    "<li>the rest of each repetition is processed from last to first.</li>\n",
    "<li>It is useful to think of the solution to a recursive problem as the elements in a set of solutions.</li>\n",
    "</ul>\n",
    "    \n",
    "We will learn an application of recursion to improve computing performance called Dynamic Programming in section 5.2.\n"
   ]
  },
  {
   "cell_type": "markdown",
   "id": "b650849f",
   "metadata": {},
   "source": [
    "### Recursion in Art\n",
    "\n",
    "<b>Visualize It!</b> - Let's compare recursion with an art concept known as the Droste Effect. In this painting by MC Escher, \"Paint Gallery\", the painting depicts a man in a gallery viewing a print of a seaport, and among the buildings in the seaport is the very gallery in which he is standing, making use of the Droste effect with visual recursion. Click on the image to see the video:<p></p>\n",
    "\n",
    "<center><a href=\"http://www.youtube.com/watch?feature=player_embedded&v=ZMh347hPvzY\" target=\"_blank\">\n",
    " <img src=\"http://img.youtube.com/vi/ZMh347hPvzY/mqdefault.jpg\" target=\"_blank\" width=\"240\" height=\"180\" border=\"10\" />\n",
    "</a></center><p></p>"
   ]
  },
  {
   "cell_type": "markdown",
   "id": "cbcde46a",
   "metadata": {},
   "source": [
    "### Advantages and Disadvantages of Recursion\n",
    "\n",
    "<b>Main Advantage</b>:\n",
    "<ul>\n",
    "<li>For some problems, recursion is much simpler to program!</li>\n",
    "<li>Implementation and exploration of Linked Lists, Sorting algorithms</li>\n",
    "<li>Defining objects that have a repeated similar structural form in C++</li>\n",
    "</ul>\n",
    "\n",
    "<b>Main Disadvantage</b>:\n",
    "<ul>\n",
    "<li>Every recursive call is saved to the stack</li>\n",
    "<li>Potential for Stack Overflow</li>\n",
    "</ul>\n"
   ]
  },
  {
   "cell_type": "markdown",
   "id": "8480c382",
   "metadata": {},
   "source": [
    "### Factorial Example\n",
    "\n",
    "Consider solving for <b>factorials</b>. Similar to a summation, we can use repetitive multiplications to find a solution.<p></p>\n",
    "\n",
    "<center><code>5! = 5 * 4 * 3 * 2 * 1</code></center><p></p>\n",
    "\n",
    "Think about this problem as <code>f(n) = n * (n - 1)!</code>, and since <code>f(n - 1) = (n - 1)!</code>,\n",
    "\n",
    "> <b>Metaphor</b>: Think of recursive solutions as a Russian Nesting Doll. The doll is not complete without all the smaller dolls inside. Similarly, the answer to 5! is not possible without first finding the answer to 4!, 3!, 2!, 1! and 0!. Any computing problem with dependencies like these lend themselves well to recursion.\n",
    ">![Russian Nesting Dolls](https://github.com/mmorri22/su23-cse20332/blob/main/readings/reading05/Reading%205-1.png?raw=true)\n",
    "<p></p>\n",
    "\n",
    "> <b>Optional Math Review</b>: The proof below is a quick refresher on why we may claim that 0! is equal to 1. This is essential to understand for this problem, as we are able to design an efficient base case (which I will describe in a moment).\n",
    "> $$ n! = n * (n-1)! $$<br>\n",
    "> $$ { n! \\over n } = (n-1)! $$<br>\n",
    "> $$ { 1! \\over 1 } = (1-1)! $$<br>\n",
    "> $$ 1 = 0! $$\n",
    "<p></p>"
   ]
  },
  {
   "cell_type": "markdown",
   "id": "df98b752",
   "metadata": {},
   "source": [
    "### Base and Recursive Cases\n",
    "\n",
    "<b>Base Case</b>: Non-recursively defined values that limit or cut off recursion\n",
    "\n",
    "<b>Recursive Step</b>: Recursive definition or reapplication of function on new subset."
   ]
  },
  {
   "cell_type": "markdown",
   "id": "1e029270",
   "metadata": {},
   "source": [
    "### Factorial Example of Recurison\n",
    "\n",
    "Let's consider a code example (which may be found at <a href = \"https://raw.githubusercontent.com/mmorri22/su23-cse20332/main/readings/reading05/fact.c\">fact.c</a>.), which has the base and recursive cases for the Factorial. In this example, <code>fact_num == 0</code> is the base case, and the recursive case is return <code>fact_num * factorial(fact_num-1)</code>;\n",
    "\n",
    "    int factorial( int fact_num ){\n",
    "\n",
    "        /* Base Case */\n",
    "        if( fact_num == 0 )\n",
    "            return 1;\n",
    "\n",
    "        /* Recursive Case */\n",
    "        return fact_num * factorial( fact_num - 1 );\n",
    "\n",
    "    }"
   ]
  },
  {
   "cell_type": "markdown",
   "id": "2c40f187",
   "metadata": {},
   "source": [
    "### Simple Recursive Trace Example\n",
    "\n",
    "A simple way of determining the operation of a recursive function is tracing out its operation. In the video below, I show how the factorial operation works recursively. Click on the image to see the video:<p></p>\n",
    "\n",
    "<center><a href=\"http://www.youtube.com/watch?feature=player_embedded&v=zTDETugLCUc\" target=\"_blank\">\n",
    " <img src=\"http://img.youtube.com/vi/zTDETugLCUc/mqdefault.jpg\" target=\"_blank\" width=\"240\" height=\"180\" border=\"10\" />\n",
    "</a></center><p></p>\n"
   ]
  },
  {
   "cell_type": "markdown",
   "id": "6d40c42c",
   "metadata": {},
   "source": [
    "### Recursion on the Stack\n",
    "\n",
    "Let's revisit our metaphor of computing as the mechanization of thought in order to help you better picture recursion in your mind. Since recursive calls are function calls, each call gets its own set of registers. We see in the video that the recursive calls are allocated their own set of registers (octopus), and then when we are done with them, the memory in the registers and stack is freed.\n",
    "\n",
    "<center><a href=\"http://www.youtube.com/watch?feature=player_embedded&v=wkcxPKDKu7o\" target=\"_blank\">\n",
    " <img src=\"http://img.youtube.com/vi/wkcxPKDKu7o/mqdefault.jpg\" target=\"_blank\" width=\"240\" height=\"180\" border=\"10\" />\n",
    "</a></center><p></p>\n",
    "\n",
    "Now let's take that metaphor and correlate it to the actual physical device. We run the same recursive function, but now we see that the stack and registers correlates with C code.\n",
    "\n",
    "<center><a href=\"http://www.youtube.com/watch?feature=player_embedded&v=-gMCz5dt1ko\" target=\"_blank\">\n",
    " <img src=\"http://img.youtube.com/vi/-gMCz5dt1ko/mqdefault.jpg\" target=\"_blank\" width=\"240\" height=\"180\" border=\"10\" />\n",
    "</a></center><p></p>"
   ]
  },
  {
   "cell_type": "markdown",
   "id": "809cc47e",
   "metadata": {},
   "source": [
    "### <font color = \"red\">Class Introduction Question #1 - What are the major advantages and disadvantages of recursion?</a>\n",
    "\n",
    "### The next reading for this lecture is <a href = \"https://github.com/mmorri22/su23-cse20332/blob/main/readings/Reading%205-2.ipynb\">Reading 5-2 - Recursive Tracing and Binary Recursion</a>"
   ]
  }
 ],
 "metadata": {
  "kernelspec": {
   "display_name": "Python 3 (ipykernel)",
   "language": "python",
   "name": "python3"
  },
  "language_info": {
   "codemirror_mode": {
    "name": "ipython",
    "version": 3
   },
   "file_extension": ".py",
   "mimetype": "text/x-python",
   "name": "python",
   "nbconvert_exporter": "python",
   "pygments_lexer": "ipython3",
   "version": "3.9.13"
  }
 },
 "nbformat": 4,
 "nbformat_minor": 5
}
