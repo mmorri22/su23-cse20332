{
 "cells": [
  {
   "cell_type": "markdown",
   "id": "d0fd867c",
   "metadata": {},
   "source": [
    "# Reading 1-1 - Computational Thinking and Representation"
   ]
  },
  {
   "cell_type": "markdown",
   "id": "4ef018e8",
   "metadata": {},
   "source": [
    "### In this reading you will learn the following concepts:\n",
    "\n",
    "<ul>\n",
    "    <li>Binary Representation of Numbers</li>\n",
    "    <li>Two's Complement: Positive and Negative Binary Numbers</li>\n",
    "    <li>Basic Logic: NOT, AND, OR, XOR</li>\n",
    "    <li>Hexadecimal Representation of Numbers</li>\n",
    "    <li>IEEE 754 Single and Double Precision Format</li>\n",
    "    <li>ASCII Representation of characters</li>\n",
    "</ul>"
   ]
  },
  {
   "cell_type": "markdown",
   "id": "2eded1d2",
   "metadata": {},
   "source": [
    "### Review of Reading Expectations\n",
    "\n",
    "Since this is the first reading assignment, I will review the expectations that I presented in the introductory lecture. The readings are important because class time is used to <b>ask questions</b> and perform <b>hands-on activities</b> designed to strengthen your understanding, whether those activities are solving problems or writing code. There is no replacement for practicing writing code, troubleshooting errors, and working through code in class. Recall the <b>hands-on imperative</b>:<p>\n",
    "><code>>_ The Hands-on Imperative:</code><br>\n",
    "><code>To get the most out of your reading, you should be typing commands into a C interpreter and <i>playing around</i> with the things you are reading.</code><br>\n",
    "><code>Passively reading will not be as fruitful as actively reading and trying out things you are exploring.</code>\n",
    "<p>At regular intervals, I include a <b>Test Yourself</b> question to provide you an opportunity to see if you understand the material. If you can'tfigure out the answer, that is a good opportunity to ask a TA or professor, or talk to a classmate. If you are still struggling afterwards, bring your conceptual issue to class so we can discuss at the beginning of lecture.\n",
    "<p>I will also include occassional <b>Visualize It!</b> videos where I provide a visual demonstration of a concept I just described in the reading notes. These videos are included for <i>visual learners</i>, since some students understand the concepts better visually than simply reading text. If you feel confident in your understanding after the reading, the video is not required.</p>\n",
    "<p>At the end of each reading page, I will present the <b>lecture question</b> from this topic that will start the initial discussion in class. Each lecture will begin with me asking these lecture questions to the class, and providing opportunities for the students to <b>ask questions</b> about concepts they do not understand.</p>\n",
    "\n",
    "Therefore, in order to ensure you get the <b>best experience</b> in these crucial first two weeks as you are <b>developing fundamentals</b> and cultivating <b>professional programming habits</b>, it is crucial that you come to class having <b>performed the reading</b> and come prepared with questions. "
   ]
  },
  {
   "cell_type": "markdown",
   "id": "9f826d49",
   "metadata": {},
   "source": [
    "### Binary Logic\n",
    "\n",
    "The simplest unit of measurement in a computer is a bit, which represents a logic value '0' or '1'. Think of a bit like a light switch, where '0' is equivalent to 'off' and '1' is equivalent to 'on.' Computers are composed of billions of these switches, and the purpose of programming is to use these switches to represent information. Using binary bits has many advantages: for example, error correction is much easier if presence or absence of electric current just represents \"on\" or \"off\". This choice influences many layers of hardware and system design."
   ]
  },
  {
   "cell_type": "markdown",
   "id": "eb0267fd",
   "metadata": {},
   "source": [
    ">The two primary reasons for you to learn binary logic at these stage are:\n",
    ">\n",
    "><ol><li>to build a fundamental understanding that programming is used to <b>interpret</b> and <b>act upon</b> collections of bits, which will strengthen your comprehension of data types and casting later in the course, and</li>\n",
    "><li>to understand that hardware space in a computer is <b>finite</b>, and responsible programmers proactively design their code to ensure secure and reliable code.</li></ol>"
   ]
  },
  {
   "cell_type": "markdown",
   "id": "e704e61c",
   "metadata": {},
   "source": [
    "Counting in binary is similar to counting in decimal. When you count to 10 in decimal, you go from 0 to 9, and then carry the one and then count from 10 to 19. Every time you go from a 9 to a 0, you increment the next digit, and that process repeats.\n",
    "\n",
    "Similarly, you count in binary from 0 to 1, and then when you go back to 0, you carry the one and then count from 10 to 11 (for 2 and 3, respectively) and then carry the one again to get to 100 (which is 4 in decimal), 101 (5), 110 (6), and so on. We call this form of counting <b>base 2</b>, and conventional counting as <b>base 10</b>\n",
    "\n",
    "We notate numbers in base 2 with a 2 subscript. For example, 101<sub>2</sub> is 5<sub>10</sub>\n",
    "\n",
    "><b>Test Yourself</b>: Can you count from 0 to 16 in base 2?"
   ]
  },
  {
   "cell_type": "markdown",
   "id": "6c91336d",
   "metadata": {},
   "source": [
    "### Binary to Decimal Conversion\n",
    "\n",
    "In order to convert from Binary to Decimal, you multiply the bit value by increasing powers of 2, start with the rightmost bit and 2<sup>0</sup> power, and then sum the results. Since we do not have any negative values in this representation, we call this binary representation as <b>unsigned integer</b> Consider the following two examples, 6 (0110) and 13 (1101):<br>\n",
    "\n",
    "| Binary | 0 | 1 | 1 | 0 |\n",
    "|----|----|----|----|----|\n",
    "|<b>Multiplier</b>|2<sup>3</sup>|2<sup>2</sup>|2<sup>1</sup>|2<sup>0</sup>|\n",
    "|<b>Result</b>|0|4|2|0|<p>\n",
    "    \n",
    "| Binary | 1 | 1 | 0 | 1 |\n",
    "|----|----|----|----|----|\n",
    "|<b>Multiplier</b>|2<sup>3</sup>|2<sup>2</sup>|2<sup>1</sup>|2<sup>0</sup>|\n",
    "|<b>Result</b>|8|4|0|1|<p></p>\n",
    "\n",
    "<p><b>Visualize It!</b> In the video below, I go over the same problem where unsigned integers in binary 1101<sub>2</sub> and 0110<sub>2</sub> are converted to decimal</p>\n",
    "\n",
    "><b>Quick note:</b> In Jupyter Notebooks, the image is rendered, but the video itself cannot be directly embedded when rendered in GitHub. When you click on the image below, the video will open in a new browser window.\n",
    "\n",
    "<a href=\"http://www.youtube.com/watch?feature=player_embedded&v=rFqTHE-nWac\" target=\"_blank\">\n",
    " <img src=\"http://img.youtube.com/vi/rFqTHE-nWac/mqdefault.jpg\" alt=\"Visualize It - 1-1-1 - Decimal to Binary Example\" width=\"240\" height=\"180\" border=\"10\" />\n",
    "</a>\n",
    "    \n",
    "><b>Test Yourself</b>: Convert the following unsigned integer to decimal: 11010110<sub>2</sub>"
   ]
  },
  {
   "cell_type": "markdown",
   "id": "76e80c70",
   "metadata": {},
   "source": [
    "### Decimal to Binary Conversion\n",
    "\n",
    "In order to convert from Binary to Decimal, you start at the largest power of two that is less than the decimal number you are trying to convert. For example, if you are trying to convert 13 to decimal, you would start at 8 (which is 2<sup>3</sup>). \n",
    "\n",
    "This will be our first example of an <b>algorithm</b>, which is a precise set of steps required to solve a problem. For this algorithm, we start with the input number (<code>num</code>) and the current power (<code>pow</code>). For this example, <code>num = 13</code> and <code>pow = 3</code>.\n",
    "\n",
    "You then follow this algorithm:<br>\n",
    "><code>while pow is greater than or equal to 0:</code><br>\n",
    ">&ensp;&ensp;&ensp;&ensp;<code>if num is greater than 2<sup>pow</sup>:</code><br>\n",
    ">&ensp;&ensp;&ensp;&ensp;&ensp;&ensp;&ensp;&ensp;<code>Current bit is 1</code><br>\n",
    ">&ensp;&ensp;&ensp;&ensp;&ensp;&ensp;&ensp;&ensp;<code>num = num - 2<sup>pow</sup></code><br>\n",
    ">&ensp;&ensp;&ensp;&ensp;<code>else:</code><br>\n",
    ">&ensp;&ensp;&ensp;&ensp;&ensp;&ensp;&ensp;&ensp;<code>Current bit is 0</code><br>\n",
    ">&ensp;&ensp;&ensp;&ensp;&ensp;&ensp;&ensp;&ensp;<code>No subtraction from num</code><br>\n",
    ">&ensp;&ensp;&ensp;&ensp;<code>pow = pow - 1</code>\n",
    "    \n",
    "The table below shows each step of this algorithm:<br>\n",
    "\n",
    "| pow | num | subtract? | Bit | num at end of loop | pow at end of loop |\n",
    "|----|----|----|----|----|----|\n",
    "|3|13| Yes, since 13 >= 2<sup>3</sup> | 1 | 13 - 8 = 5 | 3 - 1 = 2 |\n",
    "|2|5| Yes, since 5 >= 2<sup>2</sup> | 1 | 5 - 4 = 1 | 1 - 1 = 1 |\n",
    "|1|1| No, since 1 < 2<sup>1</sup> | 0 | 1 | 1 - 1 = 0 |\n",
    "|0|1| Yes, since 1 >= 2<sup>0</sup> | 1 | 1 - 1 = 0 | 0 - 1 = -1 |\n",
    "    \n",
    "Therefore, the solution is <code>1101<sub>2</sub></code><p></p>\n",
    "\n",
    "<p><b>Visualize It!</b> In the video below, I go over the same problem where 13<sub>10</sub> is converted to binary</p>\n",
    "\n",
    "<a href=\"http://www.youtube.com/watch?feature=player_embedded&v=A0xjz_QmG6s\" target=\"_blank\">\n",
    " <img src=\"http://img.youtube.com/vi/A0xjz_QmG6s/mqdefault.jpg\" alt=\"Visualize It - 1-1-1 - Decimal to Binary Example\" width=\"240\" height=\"180\" border=\"10\" />\n",
    "</a>\n",
    "    \n",
    "><b>Test Yourself</b>: Convert the following decimal to binary unsigned integer: 35"
   ]
  },
  {
   "cell_type": "markdown",
   "id": "e5914b71",
   "metadata": {},
   "source": [
    "><b>Preview</b>: The \"<code>if</code>\" and \"<code>else</code>\" keywords indicate whether we will perform a task or not in the algorithm. In programming, we will refer to these as <b>conditional statement</b>. The \"<code>while</code>\" keyword, which indicated we repeat this task until we meet a conditional (<code>while pow is greater than or equal 0</code>). This is known as a <b>repetitive statement</b>."
   ]
  },
  {
   "cell_type": "markdown",
   "id": "603a0949",
   "metadata": {},
   "source": [
    "### Overflow\n",
    "\n",
    "<b>Thought Question</b>: Let's say we have four bits that we are using to represent an unsigned integer. What happens if we try to count to 18?<br>\n",
    "    \n",
    "<b>Answer</b>: We cannot count to 18, because we can only <i>physically</i> represent values from 0 to 15 with four bits.\n",
    "    \n",
    "This brings up an important question: What happens if we try to physically count to 18 using only four bits? Turns out, it's just like if your car mileage goes over 99,999 and your car cannot represent 100,000 miles: <i>it goes back to zero</i>. \n",
    "\n",
    "But <i>you</i> know the car isn't brand new because you <b>remember</b> the carry. And the computer knows that the number isn't zero because it accounts for <b>overflow</b>.\n",
    "\n",
    "Consider the scenario where we try to count up to 18 from 13 below. Notice how the computer uses <i>only</i> the bits to represent the values, and not the overflow.\n",
    "\n",
    "|Overflow||Bit 3|Bit 2|Bit 1|Bit 0||Computer Decimal Representation|\n",
    "|----||----|----|----|----||----|\n",
    "|0||1|1|0|1||13|\n",
    "|0||1|1|1|0||14|\n",
    "|0||1|1|1|1||15|\n",
    "|1||0|0|0|0||0|\n",
    "|1||0|0|0|1||1|\n",
    "|1||0|0|1|0||2|\n",
    "\n",
    "><b>Test Yourself</b>: Go back to your binary representation of 35 that you calculated eariler. What would the computer believe that number to be if you tried to store it as a 5 bit value?"
   ]
  },
  {
   "cell_type": "markdown",
   "id": "73746aa8",
   "metadata": {},
   "source": [
    "### <font color = \"red\">Class Introduction Question #1 - What is binary logic and how to we convert between decimal to binary?</font>\n",
    "\n",
    "### <font color = \"red\">Class Introduction Question #2 - What is overflow and how does this impact our ability to represent values using binary?</font>"
   ]
  },
  {
   "cell_type": "markdown",
   "id": "a602d149",
   "metadata": {},
   "source": [
    "### The next reading is <a href = \"https://github.com/mmorri22/su23-cse20332/blob/main/Reading%201-2.ipynb\">Reading 1-2 - Signed Binary Logic</a>"
   ]
  }
 ],
 "metadata": {
  "kernelspec": {
   "display_name": "Python 3 (ipykernel)",
   "language": "python",
   "name": "python3"
  },
  "language_info": {
   "codemirror_mode": {
    "name": "ipython",
    "version": 3
   },
   "file_extension": ".py",
   "mimetype": "text/x-python",
   "name": "python",
   "nbconvert_exporter": "python",
   "pygments_lexer": "ipython3",
   "version": "3.9.13"
  }
 },
 "nbformat": 4,
 "nbformat_minor": 5
}
