{
 "cells": [
  {
   "cell_type": "markdown",
   "id": "8cd95967",
   "metadata": {},
   "source": [
    "##  Reading 2-2 - Hello, World and Computer Memory Basics"
   ]
  },
  {
   "cell_type": "markdown",
   "id": "4c556ddd",
   "metadata": {},
   "source": [
    "#### A Metaphor for Types of Computer Memory \n",
    "\n",
    "Recall from Lecture 1 that computing is the <i>mechanization of thought</i>. If you understand how humans think, you will be able to get a much stronger grasp on how pointers work, because pointers were designed to <i>replicate the process of human thought</i>.\n",
    "\n",
    "A <b>pointer</b> is a data element that represents a location in memory. When we print memory locations in the UNIX, the result will be presented in <i>hexadecimal</i>. \n",
    "\n",
    "The three types of memory in the human brain form the <b>Declarative Pathway</b>, where information in your short-term working memory is transferred to the <b>neocortex</b> (long-term memory) via the <b>hippocampus</b>. \n",
    "\n",
    "In a computer, the three types of memory form the Computer Architecture,  where information in the registers is transferred to the <b>dynamic memory</b> (long-term memory) via the <b>static memory</b>. \n",
    "\n",
    "<ul>\n",
    "    <li>Think of the Hippocampus as a \"Know-It-All\". While the hippocampus is quick and attentive, and excellent at cramming, the knowledge is superficial and does not last long.</li>\n",
    "    <li>The long-term memory is called the \"Neocortex\". The Neocortex is scatterbrained, but is a deep thinker. When you put ideas together in your mind, this is performed in the Neocortex.</li>\n",
    "</ul>\n",
    "\n",
    "![Declarative Pathway](https://github.com/mmorri22/su23-cse20332/blob/main/readings/reading02/Declarative%20Pathway.jpg?raw=true)\n",
    "<center>(Used with permission from Barbara Oakley, \"<a href=\"https://www.amazon.com/Uncommon-Sense-Teaching-Practical-Insights/dp/0593329732/ref=asc_df_0593329732/?tag=hyprod-20&linkCode=df0&hvadid=475772153738&hvpos=&hvnetw=g&hvrand=17313060320761260117&hvpone=&hvptwo=&hvqmt=&hvdev=c&hvdvcmdl=&hvlocint=&hvlocphy=9016243&hvtargid=pla-1014046544559&psc=1\">Uncommon Sense Teaching</a>\")</center>\n"
   ]
  },
  {
   "attachments": {},
   "cell_type": "markdown",
   "id": "36d9930b",
   "metadata": {},
   "source": [
    "#### The Parable of the Choir\n",
    "\n",
    "It is helpful to think of a human's memory like a choir, where the Hippocampus and Neocortex are \"conducted\" by the short term working memory. Working memory can either hold a piece of information or point to where information is located.\n",
    " \n",
    "Think of pointers as the conductors of a program. In order to access data, we need to know where that information is located in the computer! \n",
    "\n",
    "![Parable of the Choir](https://github.com/mmorri22/su23-cse20332/blob/main/readings/reading02/Parable%20of%20the%20Choir.jpg?raw=true)"
   ]
  },
  {
   "cell_type": "markdown",
   "id": "c87880ae",
   "metadata": {},
   "source": [
    "### Let's Conduct C Code!"
   ]
  },
  {
   "cell_type": "markdown",
   "id": "0bf4404c",
   "metadata": {},
   "source": [
    "Let's now use our metaphor to <i>conduct</i> writing code. We are going to design a task that tells the computer to print \"Hello, World\" to the screen. \n",
    "\n",
    "First, we are going to use a <b>C library</b> to leverage collections of common tasks. These collections are known as <b>header files</b> and commonly end with the <code>.h</code> extension in the C programming language.\n",
    "\n",
    "In this case, we are printing characters to the screen, so we will use the <i>standard input/output library</i> which is called <code>stdio.h</code>, and we indicate we want to use the library by using <code>#include</code>\n",
    "\n",
    "<ul><li><code>#include < stdio.h ></code></li></ul><p></p>\n",
    "\n",
    "In this course, we will use a <b>library function</b> called <code>fprintf</code> in order to print values to the screen. The way <code>fprintf</code> works is that is creates a <i>file pointer</i> letting us know where the information will be printed to in the computer, and then writes a set of characters to that location.\n",
    "\n",
    "><b>Combining Concepts</b> - Recall in Reading 1 that we learned characters are 8-bit signed integers are have binary and hexadecimal representations.\n",
    "\n",
    "The C programming language reserves a <b>keyword</b> for the location in memory where the UNIX prompt reads from in order to print to the screen: <code>stdout</code>, which is short for \"standard output.\"\n",
    "\n",
    "Therefore, the way we <i>conduct</i> the computer to print to the screen is as follows:\n",
    "\n",
    "<b>English conduction</b>: Write the characters <code>\"Hello, World\\n\"</code> to the location in memory where <code>stdout</code> is located, and then print the <code>stdout</code> file to the screen:\n",
    "\n",
    "<b>C code</b>: <code>fprintf( stdout, \"Hello, World\\n\");</code> \n",
    "\n",
    "Here is the final code segment, available at <a href=\"https://raw.githubusercontent.com/mmorri22/su23-cse20332/main/readings/reading02/hello.c\">hello.c</a>:\n",
    "\n",
    "<code>#include < stdio.h ></code><br>\n",
    "<code></code><br>\n",
    "<code>int main(void){</code><br>\n",
    "<code></code><br>\n",
    "<code>    fprintf( stdout, \"Hello, World\\n\");</code><br>\n",
    "<code>    return 0;</code><br>\n",
    "<code>}</code><br>"
   ]
  },
  {
   "cell_type": "markdown",
   "id": "8d69adc4",
   "metadata": {},
   "source": [
    "><b>Visualize It</b>: In this video, I write the hello.c code I just presented, while using the metaphor of conducting C code.\n",
    "\n",
    "<center><a href=\"http://www.youtube.com/watch?feature=player_embedded&v=0zMJZhPFsYA\" target=\"_blank\">\n",
    " <img src=\"http://img.youtube.com/vi/0zMJZhPFsYA/mqdefault.jpg\" target=\"_blank\" width=\"240\" height=\"180\" border=\"10\" />\n",
    "</a></center><p></p>"
   ]
  },
  {
   "cell_type": "markdown",
   "id": "27de862e",
   "metadata": {},
   "source": [
    "### <font color = \"red\">Question 2 - What is the purpose and benefit of pointers, and what is the purpose of registers and stack memory?</red>"
   ]
  },
  {
   "cell_type": "markdown",
   "id": "b6e01114",
   "metadata": {},
   "source": [
    "### The next reading is <a href = \"https://github.com/mmorri22/su23-cse20332/blob/main/readings/Reading%202-3.ipynb\">Reading 2-3 - Variables and Output Specifiers</a>"
   ]
  }
 ],
 "metadata": {
  "kernelspec": {
   "display_name": "Python 3 (ipykernel)",
   "language": "python",
   "name": "python3"
  },
  "language_info": {
   "codemirror_mode": {
    "name": "ipython",
    "version": 3
   },
   "file_extension": ".py",
   "mimetype": "text/x-python",
   "name": "python",
   "nbconvert_exporter": "python",
   "pygments_lexer": "ipython3",
   "version": "3.9.13"
  }
 },
 "nbformat": 4,
 "nbformat_minor": 5
}
