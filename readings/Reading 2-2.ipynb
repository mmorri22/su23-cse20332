{
 "cells": [
  {
   "cell_type": "markdown",
   "id": "f928127c",
   "metadata": {},
   "source": [
    "##  Reading 2-2 - Hello, World and Computer Memory Basics"
   ]
  },
  {
   "cell_type": "markdown",
   "id": "147aa257",
   "metadata": {},
   "source": [
    "#### A Metaphor for Types of Computer Memory \n",
    "\n",
    "Recall from Lecture 1 that computing is the <i>mechanization of thought</i>. If you understand how humans think, you will be able to get a much stronger grasp on how pointers work, because pointers were designed to <i>replicate the process of human thought</i>.\n",
    "\n",
    "A <b>pointer</b> is a data element that represents a location in memory. When we print memory locations in the UNIX, the result will be presented in <i>hexadecimal</i>. \n",
    "\n",
    "The three types of memory in the human brain form the <b>Declarative Pathway</b>, where information in your short-term working memory is transferred to the <b>neocortex</b> (long-term memory) via the <b>hippocampus</b>. \n",
    "\n",
    "In a computer, the three types of memory form the Computer Architecture,  where information in the registers is transferred to the <b>dynamic memory</b> (long-term memory) via the <b>static memory</b>. \n",
    "\n",
    "<ul>\n",
    "    <li>Think of the Hippocampus as a \"Know-It-All\". While the hippocampus is quick and attentive, and excellent at cramming, the knowledge is superficial and does not last long.</li>\n",
    "    <li>The long-term memory is called the \"Neocortex\". The Neocortex is scatterbrained, but is a deep thinker. When you put ideas together in your mind, this is performed in the Neocortex.</li>\n",
    "</ul>\n",
    "\n",
    "![Declarative Pathway](https://github.com/mmorri22/su23-cse20332/blob/main/readings/reading02/Declarative%20Pathway.jpg?raw=true)\n",
    "<center>(Used with permission from Barbara Oakley, \"<a href=\"https://www.amazon.com/Uncommon-Sense-Teaching-Practical-Insights/dp/0593329732/ref=asc_df_0593329732/?tag=hyprod-20&linkCode=df0&hvadid=475772153738&hvpos=&hvnetw=g&hvrand=17313060320761260117&hvpone=&hvptwo=&hvqmt=&hvdev=c&hvdvcmdl=&hvlocint=&hvlocphy=9016243&hvtargid=pla-1014046544559&psc=1\">Uncommon Sense Teaching</a>\")</center>\n"
   ]
  },
  {
   "attachments": {},
   "cell_type": "markdown",
   "id": "aed7261c",
   "metadata": {},
   "source": [
    "#### The Parable of the Choir\n",
    "\n",
    "It is helpful to think of a human's memory like a choir, where the Hippocampus and Neocortex are \"conducted\" by the short term working memory. Working memory can either hold a piece of information or point to where information is located.\n",
    " \n",
    "Think of pointers as the conductors of a program. In order to access data, we need to know where that information is located in the computer! \n",
    "\n",
    "![Parable of the Choir](https://github.com/mmorri22/su23-cse20332/blob/main/readings/reading02/Parable%20of%20the%20Choir.jpg?raw=true)"
   ]
  },
  {
   "cell_type": "markdown",
   "id": "81dcceee",
   "metadata": {},
   "source": [
    "### Let's Conduct C Code!"
   ]
  },
  {
   "cell_type": "code",
   "execution_count": null,
   "id": "f4f436dc",
   "metadata": {},
   "outputs": [],
   "source": []
  }
 ],
 "metadata": {
  "kernelspec": {
   "display_name": "Python 3 (ipykernel)",
   "language": "python",
   "name": "python3"
  },
  "language_info": {
   "codemirror_mode": {
    "name": "ipython",
    "version": 3
   },
   "file_extension": ".py",
   "mimetype": "text/x-python",
   "name": "python",
   "nbconvert_exporter": "python",
   "pygments_lexer": "ipython3",
   "version": "3.9.13"
  }
 },
 "nbformat": 4,
 "nbformat_minor": 5
}
