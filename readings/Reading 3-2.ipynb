{
 "cells": [
  {
   "cell_type": "markdown",
   "id": "42883f64",
   "metadata": {},
   "source": [
    "# Reading 3-2 - Repetitive Statements"
   ]
  },
  {
   "cell_type": "markdown",
   "id": "926e8a39",
   "metadata": {},
   "source": [
    "## Iteration, Loops and Cycles"
   ]
  },
  {
   "cell_type": "markdown",
   "id": "813dee5d",
   "metadata": {},
   "source": [
    "### Iteration\n",
    "<b>Iteration</b> involves the repetition of a sequence of instructions and is a fundamental part of many algorithms.\n",
    "\n",
    "It is characterised by\n",
    "<ul>\n",
    "<li>a set of initial conditions,</li>\n",
    "<li>an iterative step and</li>\n",
    "<li>a continuation test.</li>\n",
    "</ul>\n",
    "\n",
    "### Loops\n",
    "a <b>loop</b> is a sequence of statements in a program that is repeated.\n",
    "\n",
    "### Cycles\n",
    "a <b>cycle</b> refers to one successful completion of the steps.\n"
   ]
  },
  {
   "cell_type": "markdown",
   "id": "20d34c01",
   "metadata": {},
   "source": [
    "## Repetition Statements"
   ]
  },
  {
   "cell_type": "markdown",
   "id": "c9be1e18",
   "metadata": {},
   "source": [
    "### while loop \n",
    "\n",
    "Boolean expression is a condition that is tested before the loop is entered. The loop will continue to execute as long as that condition is true.\n",
    "\n",
    "    while (condition)\n",
    "    {\n",
    "            ...statements...\n",
    "    }\n",
    "    Next line of code\n",
    "\n",
    "<code>not(condition)</code> is the \"termination condition“\n",
    "\n",
    "### Example\n",
    "\n",
    "Consider the code example at <a href = \"https://raw.githubusercontent.com/mmorri22/su23-cse20332/main/readings/reading03/while.c\">while.c</a>. In this code, the while loop will print the register address, the value and the hexadecimal value. Below the code segment, I have included a <b>Visualize It!</b> to show how while loops interpret the code.\n",
    "\n",
    "    #include <stdio.h>\n",
    "\n",
    "    int main( void ){\n",
    "\n",
    "        int the_int = 0;\n",
    "\n",
    "        while( the_int <= 10 ){\n",
    "\n",
    "            fprintf( stdout, \"the_int at %p = %d %x\\n\", &the_int, the_int, the_int );\n",
    "            ++the_int;\n",
    "\n",
    "        }\n",
    "\n",
    "        return 0;\n",
    "    }\n",
    "    \n",
    "And here is the output. Bear in mind that the physical location of <code>the_int</code> is the same for the entire program!\n",
    "\n",
    "    gcc -Wall while.c -o while\n",
    "    ./while\n",
    "    the_int at 0x7ffc0e6fd91c = 0 0 \n",
    "    the_int at 0x7ffc0e6fd91c = 1 1 \n",
    "    the_int at 0x7ffc0e6fd91c = 2 2 \n",
    "    the_int at 0x7ffc0e6fd91c = 3 3 \n",
    "    the_int at 0x7ffc0e6fd91c = 4 4 \n",
    "    the_int at 0x7ffc0e6fd91c = 5 5 \n",
    "    the_int at 0x7ffc0e6fd91c = 6 6 \n",
    "    the_int at 0x7ffc0e6fd91c = 7 7 \n",
    "    the_int at 0x7ffc0e6fd91c = 8 8 \n",
    "    the_int at 0x7ffc0e6fd91c = 9 9 \n",
    "    the_int at 0x7ffc0e6fd91c = 10 a\n",
    "    the_int = 11\n",
    "\n",
    "<b>Visualize It!</b> This video shows how the while loop works in action.\n",
    "<center><a href=\"http://www.youtube.com/watch?feature=player_embedded&v=SkSb2wpRHfU\" target=\"_blank\">\n",
    " <img src=\"http://img.youtube.com/vi/SkSb2wpRHfU/mqdefault.jpg\" target=\"_blank\" width=\"240\" height=\"180\" border=\"10\" />\n",
    "</a></center><p></p>"
   ]
  },
  {
   "attachments": {},
   "cell_type": "markdown",
   "id": "16eac938",
   "metadata": {},
   "source": [
    "### do-while loops\n",
    "\n",
    "The difference between a <b>while</b> loop and a <b>do-while</b> loop is that the statements will be executed the first time, regardless of the condition. There will be instances where we want the code to be executed the first time, and then loop.\n",
    "\n",
    "    do\n",
    "    {\n",
    "        ...statements...\n",
    "    }while (condition);\n",
    "\n",
    "\n",
    "Next line of code:\n",
    "<ul>\n",
    "<li>the loop executes the ...statements... as long as condition / is true</li>\n",
    "<li>...statements... is the \"body\"</li>\n",
    "<li>not(condition) is the \"termination condition\"</li>\n",
    "<li>since the condition is at the end, a do while loop always executes the \"body\" at least one time</li>\n",
    "</ul>\n",
    "\n",
    "### do-while Example\n",
    "\n",
    "Consider the code example at <a href = \"https://raw.githubusercontent.com/mmorri22/su23-cse20332/main/readings/reading03/dowhile.c\">dowhile.c</a>. For this specific example, notice how the variable <code>the_int</code> is set to 5, but still prints the first loop. \n",
    "\n",
    "    #include <stdio.h>\n",
    "\n",
    "    int main(){\n",
    "\n",
    "      int the_int = 5;\n",
    "\n",
    "      do{\n",
    "          fprintf(stdout, \"The value of the_int at %p = %d %x\\n\", &the_int, the_int, the_int);\n",
    "          ++the_int;\n",
    "      }while( the_int < 5 );\n",
    "\n",
    "      return 0;\n",
    "\n",
    "    }\n",
    "    \n",
    "<b>Visualize It!</b> - Here is a simple example of do-while explained:\n",
    "<center><a href=\"http://www.youtube.com/watch?feature=player_embedded&v=zMjurxmdvW8\" target=\"_blank\">\n",
    " <img src=\"http://img.youtube.com/vi/zMjurxmdvW8/mqdefault.jpg\" target=\"_blank\" width=\"240\" height=\"180\" border=\"10\" />\n",
    "</a></center><p></p>"
   ]
  },
  {
   "attachments": {},
   "cell_type": "markdown",
   "id": "ec4ad8a8",
   "metadata": {},
   "source": [
    "### for loop\n",
    "\n",
    "    for (i = 0; i < n; i++)\t\t// for( index variable; continuation test; iterative step )\t\n",
    "    {\t\t\t\n",
    "        ...statements...\n",
    "    }\t\t\t\n",
    "\n",
    "Each for loop:<br> \n",
    "<ul>\n",
    "    <li><b>Index variable</b> – The variable used to track the loop</li>\n",
    "<li><b>Continuation test</b> – Compares the index variable to determine whether to continue or to branch past the loop</li>\n",
    "<li><b>Iterative step</b> – Determines the change in the index variable in each loop</li>\n",
    "</ul>"
   ]
  },
  {
   "attachments": {},
   "cell_type": "markdown",
   "id": "834997e0",
   "metadata": {},
   "source": [
    "### for loop vs. while loop\n",
    "\n"
   ]
  },
  {
   "attachments": {},
   "cell_type": "markdown",
   "id": "59e98be9",
   "metadata": {},
   "source": [
    "><b> Thought Question: Any for loop can be converted to a while loop and vice versa. So, when should you use “for” and when should you use “while”?\n",
    "\n",
    "    // for loop version\n",
    "    long int i;\t\t\t \t\t\n",
    "    for( i = 0; i < 10; i++ ){\n",
    "        fprintf(stdout, “The value is %ld\\n”, i);\n",
    "    }\n",
    "\n",
    "    // while loop version\n",
    "    long int i = 0;\n",
    "    while( i < 10 ){\n",
    "        fprintf(stdout, “The value is %ld\\n”, i);\n",
    "        ++i;\n",
    "    }\n",
    "    \n",
    "### Solution:\n",
    "\n",
    "<b><code>IF</code></b> the number of repetitions is controlled with a counter\n",
    "<ul>\n",
    "    <li>a <b>fixed</b> value that can be set as an index variable, </li>\n",
    "    <li>you know the <i>exact</i> number of times the loop will be executed </li>\n",
    "</ul>\n",
    "    \n",
    "<b><code>THEN</code></b> Use a <code>for</code> loop\n",
    "    \n",
    "    \n",
    "<b><code>ELSE IF</code></b> the number of conditions is controlled by a user input, where you do not know the number of times the loop will be executed.\n",
    "\n",
    "    <b><code>THEN</code></b>Use a <code>while</code> loop\n",
    "\n",
    "> <B>Note:</b> We will discuss I/O stream manipulation a little later in this course. For now, we will primarily use for statements"
   ]
  },
  {
   "cell_type": "code",
   "execution_count": null,
   "id": "e39123a0",
   "metadata": {},
   "outputs": [],
   "source": []
  }
 ],
 "metadata": {
  "kernelspec": {
   "display_name": "Python 3 (ipykernel)",
   "language": "python",
   "name": "python3"
  },
  "language_info": {
   "codemirror_mode": {
    "name": "ipython",
    "version": 3
   },
   "file_extension": ".py",
   "mimetype": "text/x-python",
   "name": "python",
   "nbconvert_exporter": "python",
   "pygments_lexer": "ipython3",
   "version": "3.9.13"
  }
 },
 "nbformat": 4,
 "nbformat_minor": 5
}
