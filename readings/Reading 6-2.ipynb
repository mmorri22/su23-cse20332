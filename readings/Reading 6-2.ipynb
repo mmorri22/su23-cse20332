{
 "cells": [
  {
   "cell_type": "markdown",
   "id": "15e905a2",
   "metadata": {},
   "source": [
    "## Reading 6-2 - Pointer Casting and Arithmetic"
   ]
  },
  {
   "cell_type": "markdown",
   "id": "8f2c1322",
   "metadata": {},
   "source": [
    "In order to access data on the heap, we need to perform <b>pointer arithmetic</b>.\n",
    "\n",
    "Then, in order to store data in that memory, we need to <b>cast the pointers</b> in order to give the memory <b>context</b>."
   ]
  },
  {
   "cell_type": "markdown",
   "id": "136035fa",
   "metadata": {},
   "source": [
    "### Pointer Arithmetic\n",
    "\n",
    "Recall that the array in <a href = \"https://raw.githubusercontent.com/mmorri22/su23-cse20332/main/readings/reading06/void_1_free.c\">void_1_free.c</a> is 13 bytes. This means we can store 13 characters in our dynamic array. First, we need to figure out how to get to those locations!\n",
    "\n",
    "> <code>Hello, World!</code> has 13 characters.\n",
    "\n",
    "Pointer arithmetic takes the base address stored in the register, and adds the physical distance between those two addresses. In this case, the address is <code>2 * sizeof(char)</code> away, so the address where we want to store the first <code>'l'</code> may be found using <code>hello + 2 * sizeof(char)</code>.\n",
    "    \n",
    "<center><img src=\"https://github.com/mmorri22/su23-cse20332/blob/main/readings/reading06/Reading%206-3.png?raw=true\" alt=\"First Pointer Arithmetic\" width=\"600\" height=\"600\"></center>\n",
    "\n",
    "Since all memory addresses in this operating system are treated as 64 bit values (long unsigned int), we can perform <b>pointer arithmetic</b> to get the exact location of a data element. In <a href =\"https://raw.githubusercontent.com/mmorri22/su23-cse20332/main/readings/reading06/void_arith.c\">void_arith.c</a>, we use a for loop to print the address of each data element on the heap:\n",
    "\n",
    "    long unsigned int iter;\n",
    "    for( iter = 0; iter < size; ++iter ){\n",
    "        fprintf( stdout, \"address of hello[%ld] = %p\\n\", iter, hello + iter*sizeof(char) );\n",
    "    }\n",
    "\n",
    "And here is a sample output run. Notice that each address increases by one byte, which is the <code>sizeof(char)</code>:\n",
    "\n",
    "    > gcc -std=c11 -Wall -Wextra -Wconversion -Werror void_arith.c -o void_arith\n",
    "    > ./void_arith\n",
    "    Working Memory (Register)     : 0x7ffe34b65a08\n",
    "    Long-term Memory (Data Memory): 0x103b010\n",
    "    address of hello[0] = 0x103b010\n",
    "    address of hello[1] = 0x103b011\n",
    "    address of hello[2] = 0x103b012\n",
    "    address of hello[3] = 0x103b013\n",
    "    address of hello[4] = 0x103b014\n",
    "    address of hello[5] = 0x103b015\n",
    "    address of hello[6] = 0x103b016\n",
    "    address of hello[7] = 0x103b017\n",
    "    address of hello[8] = 0x103b018\n",
    "    address of hello[9] = 0x103b019\n",
    "    address of hello[10] = 0x103b01a\n",
    "    address of hello[11] = 0x103b01b\n",
    "    address of hello[12] = 0x103b01c"
   ]
  },
  {
   "cell_type": "markdown",
   "id": "2e08dff1",
   "metadata": {},
   "source": [
    "### Casting a Void Pointer to char Pointer\n",
    "\n",
    "The final challenge in the section is storing a <b>data value</b> to a <b>data heap address</b>. We need to <i>explicitly</i> inform the operating system how much information we are using, and what type of data may be stored there. \n",
    "\n",
    "The C programming language insists you cast to a type when accessing data in order to ensure secure and reliable structuring of data. \n",
    "\n",
    "Casting is a two step process:\n",
    "1. You must cast the pointer to a pointer type\n",
    "2. You must then <i>de-reference</i> the pointer to store information.\n",
    "\n",
    "\n",
    "Let's store the letter 'l' at hello[2] in the Data Heap. Here are the steps:\n",
    "<ul>\n",
    "    <li>The current pointer is <code>hello + 2*sizeof(char)</code></li>\n",
    "    <li>We <i>cast</i> by putting the type of pointer in parenthesis around the pointer:</li>\n",
    "    <ul><li><code>(char *)( hello + 2 * sizeof(char) )</code></li></ul>\n",
    "    <li>Next, we de-reference by using a * in front of the char pointer</li>\n",
    "    <ul><li><code>*( (char *)(hello + 2*sizeof(char)) )</code></li></ul>\n",
    "</ul>"
   ]
  },
  {
   "cell_type": "markdown",
   "id": "0d4b9248",
   "metadata": {},
   "source": [
    "### Sample Pointer Casting and Arithmetic Code and Output\n",
    "\n",
    "Consider the code at <a href =\"https://raw.githubusercontent.com/mmorri22/su23-cse20332/main/readings/reading06/void_hello.c\">void_hello.c</a>, where we cast the void memory as characters, and then print the data and results.\n",
    "\n",
    "First, we allocate the characters at each location using pointer arithmetic and hexadecimal ASCII!\n",
    "\n",
    "\t/* Allocate the characters using ASCII*/\n",
    "\t*((char *)(hello + 0*sizeof(char))) = 0x48;\t// 'H'\n",
    "\t*((char *)(hello + 1*sizeof(char))) = 0x65;\t// 'e'\n",
    "\t*((char *)(hello + 2*sizeof(char))) = 0x6c;\t// 'l'\n",
    "\t*((char *)(hello + 3*sizeof(char))) = 0x6c;\t// 'l'\n",
    "\t*((char *)(hello + 4*sizeof(char))) = 0x6f;\t// 'o'\n",
    "\t*((char *)(hello + 5*sizeof(char))) = 0x2c;\t// ','\n",
    "\t*((char *)(hello + 6*sizeof(char))) = 0x20;\t// ' '\n",
    "\t*((char *)(hello + 7*sizeof(char))) = 0x57;\t// 'W'\n",
    "\t*((char *)(hello + 8*sizeof(char))) = 0x6f;\t// 'o'\n",
    "\t*((char *)(hello + 9*sizeof(char))) = 0x72;\t// 'r'\n",
    "\t*((char *)(hello + 10*sizeof(char))) = 0x6c;\t// 'l'\n",
    "\t*((char *)(hello + 11*sizeof(char))) = 0x64;\t// 'd'\n",
    "\t*((char *)(hello + 12*sizeof(char))) = 0x21;\t// '!'\n",
    "\n",
    "And here is the output:\n",
    "\n",
    "    > gcc -std=c11 -Wall -Wextra -Wconversion -Werror void_hello.c -o void_hello\n",
    "    > ./void_hello\n",
    "    size location                 : 0x7ffcfc737790\n",
    "    Working Memory (Register)     : 0x7ffcfc737788\n",
    "    Long-term Memory (Data Memory): 0x23ab010\n",
    "    hello[ 0] = H at 0x23ab010\n",
    "    hello[ 1] = e at 0x23ab011\n",
    "    hello[ 2] = l at 0x23ab012\n",
    "    hello[ 3] = l at 0x23ab013\n",
    "    hello[ 4] = o at 0x23ab014\n",
    "    hello[ 5] = , at 0x23ab015\n",
    "    hello[ 6] =   at 0x23ab016\n",
    "    hello[ 7] = W at 0x23ab017\n",
    "    hello[ 8] = o at 0x23ab018\n",
    "    hello[ 9] = r at 0x23ab019\n",
    "    hello[10] = l at 0x23ab01a\n",
    "    hello[11] = d at 0x23ab01b\n",
    "    hello[12] = ! at 0x23ab01c"
   ]
  },
  {
   "cell_type": "markdown",
   "id": "c6a0e26d",
   "metadata": {},
   "source": [
    "### Memory Equivalent\n",
    "\n",
    "Based on that sample run of <a href =\"https://raw.githubusercontent.com/mmorri22/su23-cse20332/main/readings/reading06/void_hello.c\">void_hello.c</a>, here is the memory layout with registers and data memory:\n",
    "\n",
    "|Register Address|Binary Value|Content|\n",
    "|----|----|----|\n",
    "|<code>0x7ffcfc737788</code>|<code>0x0000023ab010</code>|Base address of hello|\n",
    "|<code>0x7ffcfc737790</code>|<code>0x00000000000d</code>|13 (long unsigned int size)|\n",
    "\n",
    "|Data Memory Address|Binary Value|Content|\n",
    "|----|----|----|\n",
    "|<code>0x0000023ab010</code>|<code>0x48</code>|'H'|\n",
    "|<code>0x0000023ab011</code>|<code>0x65</code>|'e'|\n",
    "|<code>0x0000023ab012</code>|<code>0x6c</code>|'l'|\n",
    "|<code>0x0000023ab013</code>|<code>0x6c</code>|'l'|\n",
    "|<code>0x0000023ab014</code>|<code>0x6f</code>|'o'|\n",
    "|<code>0x0000023ab015</code>|<code>0x2c</code>|','|\n",
    "|<code>0x0000023ab016</code>|<code>0x20</code>|' '|\n",
    "|<code>0x0000023ab017</code>|<code>0x57</code>|'W'|\n",
    "|<code>0x0000023ab018</code>|<code>0x6f</code>|'o'|\n",
    "|<code>0x0000023ab019</code>|<code>0x72</code>|'r'|\n",
    "|<code>0x0000023ab01a</code>|<code>0x6c</code>|'l'|\n",
    "|<code>0x0000023ab01b</code>|<code>0x64</code>|'d'|\n",
    "|<code>0x0000023ab01c</code>|<code>0x21</code>|'!'|"
   ]
  },
  {
   "cell_type": "markdown",
   "id": "d9925dff",
   "metadata": {},
   "source": [
    "### <font color = \"red\">Class Introduction Question #4 - What is the purpose of pointer casting? Along those lines, why must we ensure we allocate non-negative memory?</a>"
   ]
  },
  {
   "cell_type": "markdown",
   "id": "9c3e9577",
   "metadata": {},
   "source": [
    "### The next reading for this lecture is <a href = \"https://github.com/mmorri22/su23-cse20332/blob/main/readings/Reading%206-3.ipynb\">Reading 6-3 - Dynamic Arrays and <code>[]</code> operator</a>"
   ]
  },
  {
   "cell_type": "code",
   "execution_count": null,
   "id": "184d1224",
   "metadata": {},
   "outputs": [],
   "source": []
  }
 ],
 "metadata": {
  "kernelspec": {
   "display_name": "Python 3 (ipykernel)",
   "language": "python",
   "name": "python3"
  },
  "language_info": {
   "codemirror_mode": {
    "name": "ipython",
    "version": 3
   },
   "file_extension": ".py",
   "mimetype": "text/x-python",
   "name": "python",
   "nbconvert_exporter": "python",
   "pygments_lexer": "ipython3",
   "version": "3.9.13"
  }
 },
 "nbformat": 4,
 "nbformat_minor": 5
}
