{
 "cells": [
  {
   "cell_type": "markdown",
   "id": "5f0f51e3",
   "metadata": {},
   "source": [
    "## Reading 6-2 - Pointer Casting and Arithmetic"
   ]
  },
  {
   "cell_type": "markdown",
   "id": "1ec6f99f",
   "metadata": {},
   "source": [
    "In order to access data on the heap, we need to perform <b>pointer arithmetic</b>.\n",
    "\n",
    "Then, in order to store data in that memory, we need to <b>cast the pointers</b> in order to give the memory <b>context</b>."
   ]
  },
  {
   "cell_type": "markdown",
   "id": "c89a2be9",
   "metadata": {},
   "source": [
    "### Pointer Arithmetic\n",
    "\n",
    "Recall that the array in void_1_free.c is 13 bytes. This means we can store 13 characters in our dynamic array. First, we need to figure out how to get to those locations!\n",
    "\n",
    "> <code>Hello, World!</code> has 13 characters.\n",
    "\n",
    "Pointer arithmetic takes the base address stored in the register, and adds the physical distance between those two addresses. In this case, the address is <code>2 * sizeof(char)</code> away, so the address where we want to store the first <code>'l'</code> may be found using <code>hello + 2 * sizeof(char)</code>.\n",
    "    \n",
    "<center><img src=\"https://github.com/mmorri22/su23-cse20332/blob/main/readings/reading06/Reading%206-3.png?raw=true\" alt=\"First Pointer Arithmetic\" width=\"500\" height=\"500\"></center>"
   ]
  },
  {
   "cell_type": "code",
   "execution_count": null,
   "id": "5f33ace2",
   "metadata": {},
   "outputs": [],
   "source": []
  }
 ],
 "metadata": {
  "kernelspec": {
   "display_name": "Python 3 (ipykernel)",
   "language": "python",
   "name": "python3"
  },
  "language_info": {
   "codemirror_mode": {
    "name": "ipython",
    "version": 3
   },
   "file_extension": ".py",
   "mimetype": "text/x-python",
   "name": "python",
   "nbconvert_exporter": "python",
   "pygments_lexer": "ipython3",
   "version": "3.9.13"
  }
 },
 "nbformat": 4,
 "nbformat_minor": 5
}
