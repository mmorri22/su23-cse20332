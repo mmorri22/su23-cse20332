{
 "cells": [
  {
   "cell_type": "markdown",
   "id": "f4e5c0f8",
   "metadata": {},
   "source": [
    "### Reading 6-3 - Dynamic Arrays and <code>[]</code> operator"
   ]
  },
  {
   "cell_type": "markdown",
   "id": "c9bfe730",
   "metadata": {},
   "source": [
    "Now that you have a basic understanding of void pointers and casting, we can move up a level of abstraction.\n",
    "\n",
    "In the <code>#include < stdio.h ></code> library, the <code>malloc</code> function returns a <code>void *</code> by default. So if we want the array to be a <b>type</b> by default, we must <b>cast both sides</b>, like an equation!\n",
    "    \n",
    "    /* New Version of casting */\n",
    "    char* hello = (char *)malloc( size );"
   ]
  },
  {
   "cell_type": "markdown",
   "id": "6f75b8a6",
   "metadata": {},
   "source": [
    "We can also use <code>hello[2]</code> (using the <code>[]</code> operator) in place of <code>* ((char * )(hello + 2 * sizeof(char)))</code>. And we can put a character in single quotes instead of using the hexadecimal value.\n",
    "\n",
    "    hello[2] = 'l';\n",
    "    \n",
    "And we can print the value and address using the <code>[]</code> operator instead of pointer arithmetic!\n",
    "\n",
    "    fprintf( stdout, \"hello[%2ld] = %c at %p\\n\", iter, hello[iter], &hello[iter] );\n",
    "    \n",
    "When we run <a href = \"https://raw.githubusercontent.com/mmorri22/su23-cse20332/main/readings/reading06/char_hello.c\">char_hello.c</a>, we get the same result!:\n",
    "\n",
    "    > gcc -std=c11 -Wall -Wextra -Wconversion -Werror char_hello.c -o char_hello   \n",
    "    > ./char_hello\n",
    "    size location                 : 0x7fffb2441cb0\n",
    "    Working Memory (Register)     : 0x7fffb2441ca8\n",
    "    Long-term Memory (Data Memory): 0x195b010\n",
    "    hello[ 0] = H at 0x195b010\n",
    "    hello[ 1] = e at 0x195b011\n",
    "    hello[ 2] = l at 0x195b012\n",
    "    hello[ 3] = l at 0x195b013\n",
    "    hello[ 4] = o at 0x195b014\n",
    "    hello[ 5] = , at 0x195b015\n",
    "    hello[ 6] =   at 0x195b016\n",
    "    hello[ 7] = W at 0x195b017\n",
    "    hello[ 8] = o at 0x195b018\n",
    "    hello[ 9] = r at 0x195b019\n",
    "    hello[10] = l at 0x195b01a\n",
    "    hello[11] = d at 0x195b01b\n",
    "    hello[12] = ! at 0x195b01c\n",
    "    > rm char_hello"
   ]
  },
  {
   "cell_type": "markdown",
   "id": "76f10dd6",
   "metadata": {},
   "source": [
    "### So why learn pointer arithmetic in the first place?\n",
    "\n",
    "As you were reading, you likely had the thought, \"why did we do so much work learning void pointers and memory layouts when there was such an easier way to code these arrays?!?\"\n",
    "\n",
    "From my experience teaching this material, I have found that giving the students the array operator first and then revisiting pointers later forces them to code <i>blind</i>, since they have no idea how the computer works or how their memory is being stored.\n",
    "\n",
    "As you will see in the next section, we will compare static and dynamic arrays in memory. If you didn't know how these elements were laid out in memory, you would be prone to making serious mistakes as a novice programmer, such as trying to allocate or free memory to the stack.\n",
    "\n",
    "Finally, since you have this understanding, you will likely be saved <i>hours upon hours</i> of work troubleshooting code that you don't fully understand.\n",
    "\n",
    "In short, <b>an ounce of prevention is worth a pound of cure</b>."
   ]
  },
  {
   "cell_type": "markdown",
   "id": "6e790c0d",
   "metadata": {},
   "source": [
    "### <font color = \"red\">Class Introduction Question #5 - How do we \"cast\" a dynamic memory pointer as we allocate memory?</a>"
   ]
  },
  {
   "cell_type": "markdown",
   "id": "2c92ff0c",
   "metadata": {},
   "source": [
    "### The final reading for this lecture is <a href = \"https://github.com/mmorri22/su23-cse20332/blob/main/readings/Reading%206-4.ipynb\">Reading 6-4 - Static and Dynamic Memory Comparison</a>"
   ]
  },
  {
   "cell_type": "code",
   "execution_count": null,
   "id": "04927e7b",
   "metadata": {},
   "outputs": [],
   "source": []
  }
 ],
 "metadata": {
  "kernelspec": {
   "display_name": "Python 3 (ipykernel)",
   "language": "python",
   "name": "python3"
  },
  "language_info": {
   "codemirror_mode": {
    "name": "ipython",
    "version": 3
   },
   "file_extension": ".py",
   "mimetype": "text/x-python",
   "name": "python",
   "nbconvert_exporter": "python",
   "pygments_lexer": "ipython3",
   "version": "3.9.13"
  }
 },
 "nbformat": 4,
 "nbformat_minor": 5
}
