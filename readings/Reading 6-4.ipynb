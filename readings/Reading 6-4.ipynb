{
 "cells": [
  {
   "cell_type": "markdown",
   "id": "ac3a22a5",
   "metadata": {},
   "source": [
    "### Reading 6-4 - Static and Dynamic Memory Comparison"
   ]
  },
  {
   "cell_type": "markdown",
   "id": "60c46b9e",
   "metadata": {},
   "source": [
    "### Allocating Static and Dynamic Arrays\n",
    "\n",
    "Let's compare, and then run, memory allocated on the stack and the heap. To review:\n",
    "\n",
    "<b>Stack</b>: <code>int int_static[] = {10, 20, -19, 34};</code>\n",
    "<ul>\n",
    "    <li>Faster access</li>\n",
    "    <li>Limited amount of memory</li>\n",
    "    <li>Unsafe to statically re-allocate</li>\n",
    "    <ul><li>C/C++ explicitly forbid static reallocation</li>\n",
    "        <li>Java: No static memory allocation at all!</li></ul>\n",
    "    <li>Abstracts pointers from the programmer</li>\n",
    "    <ul><li>Automatically allocated at compile time</li></ul>\n",
    "</ul>\n",
    "\n",
    "<b>Heap</b>: \n",
    "\n",
    "    long unsigned int length = 4;\n",
    "    int* int_dynamic = (int *)malloc( length * sizeof(int) );\n",
    "    \n",
    "    int_dynamic[0] = 10;\n",
    "    int_dynamic[1] = 20;\n",
    "    int_dynamic[2] = -19;\n",
    "    int_dynamic[3] = 34;  \n",
    "\n",
    "<ul>\n",
    "    <li>Cannot use <code>{}</code> since that is a static procedure</li>\n",
    "    <li>Slower</li>\n",
    "    <li>But there is <i>much</i> more memory</li>\n",
    "    <li>Where Ideas will be built</li>\n",
    "</ul>\n"
   ]
  },
  {
   "cell_type": "markdown",
   "id": "65acd4ce",
   "metadata": {},
   "source": [
    "### Revising the Memory Metaphor\n",
    "\n",
    "Remember that the memory is one long slab of silicon with different types built in (SRAM, DRAM). The syntax allows you to determine which type of memory you want to use:\n",
    "\n",
    "<center><img src=\"https://github.com/mmorri22/su23-cse20332/blob/main/readings/reading06/Reading%206-4.png?raw=true\" alt=\"Static Memory Locations\" width=\"500\" height=\"500\"></center>\n",
    "<center><img src=\"https://github.com/mmorri22/su23-cse20332/blob/main/readings/reading06/Reading%206-5.png?raw=true\" alt=\"Dynamic Memory Locations\" width=\"500\" height=\"500\"></center>\n",
    "\n",
    "The crucial concept to take away is that you want to use static and dynamic memory for the specific situation you want:\n",
    "\n",
    "<center><img src=\"https://github.com/mmorri22/su23-cse20332/blob/main/readings/reading06/Reading%206-6.png?raw=true\" alt=\"When you will need them\" width=\"500\" height=\"500\"></center>"
   ]
  },
  {
   "cell_type": "code",
   "execution_count": null,
   "id": "77044ed4",
   "metadata": {},
   "outputs": [],
   "source": []
  },
  {
   "cell_type": "markdown",
   "id": "a42741a9",
   "metadata": {},
   "source": [
    "And here is the output:\n",
    "\n",
    "    > gcc -Wall -Wextra -Wconversion -Werror static_dynamic.c -o static_dynamic \n",
    "    > ./static_dynamic \n",
    "    Static Memory addresses: 0x7ffebeb6ab40 0x7ffebeb6ab40 \n",
    "    Dynamic Memory addresses: 0x7ffebeb6ab38 0x244f010 \n",
    "    int_static[0] = 10 at 0x7ffebeb6ab40 and int_dynamic[0] = 10 at 0x244f010 \n",
    "    int_static[1] = 20 at 0x7ffebeb6ab44 and int_dynamic[1] = 20 at 0x244f014 \n",
    "    int_static[2] = -19 at 0x7ffebeb6ab48 and int_dynamic[2] = -19 at 0x244f018 \n",
    "    int_static[3] = 34 at 0x7ffebeb6ab4c and int_dynamic[3] = 34 at 0x244f01c "
   ]
  },
  {
   "cell_type": "markdown",
   "id": "d6c184ff",
   "metadata": {},
   "source": [
    "### <font color = \"red\">Class Introduction Question #6 - What are the differences between static and dynamic arrays, including how they are allocated in C syntax, as well as their implementation in memory?</a>"
   ]
  }
 ],
 "metadata": {
  "kernelspec": {
   "display_name": "Python 3 (ipykernel)",
   "language": "python",
   "name": "python3"
  },
  "language_info": {
   "codemirror_mode": {
    "name": "ipython",
    "version": 3
   },
   "file_extension": ".py",
   "mimetype": "text/x-python",
   "name": "python",
   "nbconvert_exporter": "python",
   "pygments_lexer": "ipython3",
   "version": "3.9.13"
  }
 },
 "nbformat": 4,
 "nbformat_minor": 5
}
