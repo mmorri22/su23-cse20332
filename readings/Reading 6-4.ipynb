{
 "cells": [
  {
   "cell_type": "markdown",
   "id": "ab8d8f54",
   "metadata": {},
   "source": [
    "## Reading 6-4 - Static and Dynamic Memory Comparison"
   ]
  },
  {
   "cell_type": "markdown",
   "id": "2804168e",
   "metadata": {},
   "source": [
    "### Allocating Static and Dynamic Arrays\n",
    "\n",
    "Let's compare, and then run, memory allocated on the stack and the heap. To review:\n",
    "\n",
    "<b>Stack</b>: <code>int int_static[] = {10, 20, -19, 34};</code>\n",
    "<ul>\n",
    "    <li>Faster access</li>\n",
    "    <li>Limited amount of memory</li>\n",
    "    <li>Unsafe to statically re-allocate</li>\n",
    "    <ul><li>C/C++ explicitly forbid static reallocation</li>\n",
    "        <li>Java: No static memory allocation at all!</li></ul>\n",
    "    <li>Abstracts pointers from the programmer</li>\n",
    "    <ul><li>Automatically allocated at compile time</li></ul>\n",
    "</ul>\n",
    "\n",
    "<b>Heap</b>: \n",
    "\n",
    "    long unsigned int length = 4;\n",
    "    int* int_dynamic = (int *)malloc( length * sizeof(int) );\n",
    "    \n",
    "    int_dynamic[0] = 10;\n",
    "    int_dynamic[1] = 20;\n",
    "    int_dynamic[2] = -19;\n",
    "    int_dynamic[3] = 34;  \n",
    "\n",
    "<ul>\n",
    "    <li>Cannot use <code>{}</code> since that is a static procedure</li>\n",
    "    <li>Slower</li>\n",
    "    <li>But there is <i>much</i> more memory</li>\n",
    "    <li>Where Ideas will be built</li>\n",
    "</ul>\n"
   ]
  },
  {
   "cell_type": "markdown",
   "id": "ac9eb6be",
   "metadata": {},
   "source": [
    "### Revising the Memory Metaphor\n",
    "\n",
    "Remember that the memory is one long slab of silicon with different types built in (SRAM, DRAM). The syntax allows you to determine which type of memory you want to use:\n",
    "\n",
    "<center><img src=\"https://github.com/mmorri22/su23-cse20332/blob/main/readings/reading06/Reading%206-4.png?raw=true\" alt=\"Static Memory Locations\" width=\"500\" height=\"500\"></center>\n",
    "<center><img src=\"https://github.com/mmorri22/su23-cse20332/blob/main/readings/reading06/Reading%206-5.png?raw=true\" alt=\"Dynamic Memory Locations\" width=\"500\" height=\"500\"></center>\n",
    "\n",
    "The crucial concept to take away is that you want to use static and dynamic memory for the specific situation you want:\n",
    "\n",
    "<center><img src=\"https://github.com/mmorri22/su23-cse20332/blob/main/readings/reading06/Reading%206-6.png?raw=true\" alt=\"When you will need them\" width=\"500\" height=\"500\"></center>"
   ]
  },
  {
   "cell_type": "markdown",
   "id": "4517cfcb",
   "metadata": {},
   "source": [
    "### Combining Concepts in Code\n",
    "\n",
    "To conclude this section, I will show a code sample with both static and dynamic memory (<a href=\"https://raw.githubusercontent.com/mmorri22/su23-cse20332/main/readings/reading06/static_dynamic.c\">static_dynamic.c</a>). After the code segment, I will present a drawing of the layout of the memory."
   ]
  },
  {
   "cell_type": "markdown",
   "id": "ddd782a9",
   "metadata": {},
   "source": [
    "### static_dynamic.c\n",
    "\n",
    "    #include <stdio.h>\n",
    "    #include <stdlib.h>\n",
    "\n",
    "    int main(){\n",
    "\n",
    "        /* Static Memory Allocation */\n",
    "        int int_static[] = {10, 20, -19, 34};\n",
    "\n",
    "        /* Dynamic Memory Allocation */\n",
    "        long unsigned int length = 4;\n",
    "        int* int_dynamic = (int *)malloc( length * sizeof(int) );\n",
    "\n",
    "        /* Dynamic Memory Data Storage */\n",
    "        int_dynamic[0] = 10;\n",
    "        int_dynamic[1] = 20;\n",
    "        int_dynamic[2] = -19;\n",
    "        int_dynamic[3] = 34;\n",
    "\n",
    "        /* Base Address information */\n",
    "        fprintf( stdout, \"Static Memory address: %p\\n\", int_static );\n",
    "        fprintf( stdout, \"Dynamic Memory addresses: %p %p\\n\", &int_dynamic, int_dynamic );\n",
    "\n",
    "        /* Print the data addresses for static and dynamic*/\n",
    "        long unsigned int iter;\n",
    "        for( iter = 0; iter < length; ++iter ){\n",
    "\n",
    "            fprintf( stdout, \"int_static[%lu] = %d at %p and int_dynamic[%lu] = %d at %p\\n\",\n",
    "                iter, int_static[iter], &int_static[iter], iter, \n",
    "                int_dynamic[iter], &int_dynamic[iter] );\n",
    "        }\n",
    "\n",
    "        // Free dynamically allocated memory\n",
    "        free( int_dynamic );\n",
    "\n",
    "        // Do NOT free statically allocated memory- The OS does this automatically!\n",
    "        // free( int_static );\n",
    "\n",
    "        return 0;\n",
    "\n",
    "    }"
   ]
  },
  {
   "cell_type": "markdown",
   "id": "5040616f",
   "metadata": {},
   "source": [
    "And here is the output:\n",
    "\n",
    "    > gcc -Wall -Wextra -Wconversion -Werror static_dynamic.c -o static_dynamic \n",
    "    > ./static_dynamic \n",
    "    Static Memory addresses: 0x7ffebeb6ab40 0x7ffebeb6ab40 \n",
    "    Dynamic Memory addresses: 0x7ffebeb6ab38 0x244f010 \n",
    "    int_static[0] = 10 at 0x7ffebeb6ab40 and int_dynamic[0] = 10 at 0x244f010 \n",
    "    int_static[1] = 20 at 0x7ffebeb6ab44 and int_dynamic[1] = 20 at 0x244f014 \n",
    "    int_static[2] = -19 at 0x7ffebeb6ab48 and int_dynamic[2] = -19 at 0x244f018 \n",
    "    int_static[3] = 34 at 0x7ffebeb6ab4c and int_dynamic[3] = 34 at 0x244f01c "
   ]
  },
  {
   "cell_type": "markdown",
   "id": "4d7112d8",
   "metadata": {},
   "source": [
    "### Memory Layout Drawing\n",
    "\n",
    "<center><img src=\"https://github.com/mmorri22/su23-cse20332/blob/main/readings/reading06/Reading%206-7.png?raw=true\" alt=\"Memory Layout Drawing\" width=\"400\" height=\"400\"></center>\n",
    "\n",
    "\n",
    "### Visualize It!\n",
    "\n",
    "In the following video, I run <code>static_dynamic.c</code> and show the static and dynamic memory. Click on the image below to see the video:<p></p>\n",
    "\n",
    "<center><a href=\"http://www.youtube.com/watch?feature=player_embedded&v=kcGyIKwBMIE\" target=\"_blank\">\n",
    " <img src=\"http://img.youtube.com/vi/kcGyIKwBMIE/mqdefault.jpg\" target=\"_blank\" width=\"240\" height=\"180\" border=\"10\" />\n",
    "</a></center><p></p>"
   ]
  },
  {
   "cell_type": "markdown",
   "id": "5930c9a5",
   "metadata": {},
   "source": [
    "### <font color = \"red\">Class Introduction Question #6 - What are the differences between static and dynamic arrays, including how they are allocated in C syntax, as well as their implementation in memory?</a>"
   ]
  },
  {
   "cell_type": "code",
   "execution_count": null,
   "id": "b408584a",
   "metadata": {},
   "outputs": [],
   "source": []
  }
 ],
 "metadata": {
  "kernelspec": {
   "display_name": "Python 3 (ipykernel)",
   "language": "python",
   "name": "python3"
  },
  "language_info": {
   "codemirror_mode": {
    "name": "ipython",
    "version": 3
   },
   "file_extension": ".py",
   "mimetype": "text/x-python",
   "name": "python",
   "nbconvert_exporter": "python",
   "pygments_lexer": "ipython3",
   "version": "3.9.13"
  }
 },
 "nbformat": 4,
 "nbformat_minor": 5
}
