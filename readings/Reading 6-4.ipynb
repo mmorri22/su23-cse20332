{
 "cells": [
  {
   "cell_type": "markdown",
   "id": "e8577260",
   "metadata": {},
   "source": [
    "### Reading 6-4 - Static and Dynamic Memory Comparison"
   ]
  },
  {
   "cell_type": "markdown",
   "id": "7d1af9b7",
   "metadata": {},
   "source": [
    "### Allocating Static and Dynamic Arrays\n",
    "\n",
    "Let's compare, and then run, memory allocated on the stack and the heap. To review:\n",
    "\n",
    "<b>Stack</b>: <code>int int_static[] = {10, 20, -19, 34};</code>\n",
    "<ul>\n",
    "    <li>Faster access</li>\n",
    "    <li>Limited amount of memory</li>\n",
    "    <li>Unsafe to statically re-allocate</li>\n",
    "    <ul><li>C/C++ explicitly forbid static reallocation</li>\n",
    "        <li>Java: No static memory allocation at all!</li></ul>\n",
    "    <li>Abstracts pointers from the programmer</li>\n",
    "    <ul><li>Automatically allocated at compile time</li></ul>\n",
    "</ul>\n",
    "\n",
    "<b>Heap</b>: \n",
    "\n",
    "    long unsigned int length = 4;\n",
    "    int* int_dynamic = (int *)malloc( length * sizeof(int) );\n",
    "    \n",
    "    int_dynamic[0] = 10;\n",
    "    int_dynamic[1] = 20;\n",
    "    int_dynamic[2] = -19;\n",
    "    int_dynamic[3] = 34;  \n",
    "\n",
    "<ul>\n",
    "    <li>Cannot use <code>{}</code> since that is a static procedure</li>\n",
    "    <li>Slower</li>\n",
    "    <li>But there is <i>much</i> more memory</li>\n",
    "    <li>Where Ideas will be built</li>\n",
    "</ul>\n"
   ]
  },
  {
   "cell_type": "markdown",
   "id": "a4d7ea20",
   "metadata": {},
   "source": [
    "### Revising the Memory Metaphor\n",
    "\n",
    "Remember that the memory is one long slab of silicon with different types built in (SRAM, DRAM). The syntax allows you to determine which type of memory you want to use:\n",
    "\n",
    "<center><img src=\"https://github.com/mmorri22/su23-cse20332/blob/main/readings/reading06/Reading%206-4.png?raw=true\" alt=\"Comparison of Static and Dynamic Memory Locations\" width=\"600\" height=\"600\"></center>\n",
    "\n",
    "The crucial concept to take away is that you want to use static and dynamic memory for the specific situation you want:\n",
    "\n",
    "<center><img src=\"https://github.com/mmorri22/su23-cse20332/blob/main/readings/reading06/Reading%206-5.png?raw=true\" alt=\"When you will need them\" width=\"600\" height=\"600\"></center>"
   ]
  },
  {
   "cell_type": "code",
   "execution_count": null,
   "id": "69cb0bc5",
   "metadata": {},
   "outputs": [],
   "source": []
  }
 ],
 "metadata": {
  "kernelspec": {
   "display_name": "Python 3 (ipykernel)",
   "language": "python",
   "name": "python3"
  },
  "language_info": {
   "codemirror_mode": {
    "name": "ipython",
    "version": 3
   },
   "file_extension": ".py",
   "mimetype": "text/x-python",
   "name": "python",
   "nbconvert_exporter": "python",
   "pygments_lexer": "ipython3",
   "version": "3.9.13"
  }
 },
 "nbformat": 4,
 "nbformat_minor": 5
}
