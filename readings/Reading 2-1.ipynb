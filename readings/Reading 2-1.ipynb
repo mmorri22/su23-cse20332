{
 "cells": [
  {
   "cell_type": "markdown",
   "id": "03e57efa",
   "metadata": {},
   "source": [
    "# Reading 2-1 Introduction to C Programming"
   ]
  },
  {
   "cell_type": "markdown",
   "id": "e2e1688c",
   "metadata": {},
   "source": [
    "### In this reading you will learn the following concepts:\n",
    "\n",
    "<ul>\n",
    "    <li>Basic Fundamentals of C Programming</li>\n",
    "    <li>XXXX</li>\n",
    "    <li>XXXX</li>\n",
    "    <li>XXXX</li>\n",
    "</ul>"
   ]
  },
  {
   "cell_type": "markdown",
   "id": "79cf917b",
   "metadata": {},
   "source": [
    "A challenge that many students have when beginning to program in C or C++ is that they struggle with the idea that the computer is actually a physical machine, and not a nebulous device where magical fairies fight pointer demons. But why does understanding the physical details of a computer matter when programming in C?\n",
    "\n",
    "<ul>\n",
    "<li>There are billions of lines of C and C++ code in the world. If you end up programming at your future job, you will sooner or later have to deal with these languages. For example, operating systems, web browsers, machine learning toolkits like TensorFlow and PyTorch, and high-performance infrastructure used by companies like Facebook and Google are written in C++. Many companies yearn to hire engineers who know these languages!</li>\n",
    "<li>The concepts we're learning here are fundamental and ultimately impact how other languages work. Even if you're programming in Go or Java, you will understand these languages a lot better if you know the underlying infrastructure.</li>\n",
    "<li>When you work with concurrent and distributed systems (which most moderately complex applications we use today, including nearly all applications on your phone, are!), mysterious bugs and seemingly impossible behavior will make a lot more sense (and be easier to debug!) if you know how the computer actually executes these programs.</li>\n",
    "</ul>"
   ]
  },
  {
   "cell_type": "markdown",
   "id": "aa9b3cb2",
   "metadata": {},
   "source": [
    "So we will start with a seemingly simple piece of code, <code>nothing.c</code>:\n",
    "\n",
    "<code>void main(void){\n",
    "}</code>"
   ]
  },
  {
   "cell_type": "code",
   "execution_count": null,
   "id": "b2af1b29",
   "metadata": {},
   "outputs": [],
   "source": []
  }
 ],
 "metadata": {
  "kernelspec": {
   "display_name": "Python 3 (ipykernel)",
   "language": "python",
   "name": "python3"
  },
  "language_info": {
   "codemirror_mode": {
    "name": "ipython",
    "version": 3
   },
   "file_extension": ".py",
   "mimetype": "text/x-python",
   "name": "python",
   "nbconvert_exporter": "python",
   "pygments_lexer": "ipython3",
   "version": "3.9.13"
  }
 },
 "nbformat": 4,
 "nbformat_minor": 5
}
