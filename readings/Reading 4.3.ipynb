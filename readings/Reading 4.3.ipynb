{
 "cells": [
  {
   "cell_type": "markdown",
   "id": "3d54da10",
   "metadata": {},
   "source": [
    "## Reading 4.3 - Pass by Value vs. Pass by Reference"
   ]
  },
  {
   "attachments": {},
   "cell_type": "markdown",
   "id": "4fc25eab",
   "metadata": {},
   "source": [
    "### Pass by Value\n",
    "\n",
    "In our metaphor of programming as the mechanization of thought, it is helpful to think of functions as a new working memory. They are different tasks.\n",
    "\n",
    "Consider a function <code>foo</code> that gets called in <code>main</code>:\n",
    "\n",
    "<ul>\n",
    "    <li>Completely different set of registers</li>\n",
    "    <li>Completely different scope</li>\n",
    "    <li>Changes to a copy in <code>foo</code> do not necessarily get reflected in <code>main</code></li>\n",
    "</ul>\n",
    "\n",
    "![Main and Foo](https://github.com/mmorri22/su23-cse20332/blob/main/readings/reading04/Reading%204-2.png?raw=true)"
   ]
  },
  {
   "attachments": {},
   "cell_type": "markdown",
   "id": "f7637d4a",
   "metadata": {},
   "source": [
    "<b>Review</b> - Pass by Value passes a <i>copy</i> of the value, similarly to what we have seen in class already.\n",
    "\n",
    "Consider this: <code>int foo( int x );</code>\n",
    "\n",
    "<ul>\n",
    "    <li>Copy of <code>x</code> passed a different register in the scope of <code>foo()</code></li>\n",
    "    <li>Return to a different register</li>\n",
    "</ul>\n",
    "\n",
    "<b>Visualize It!</b> - Using our metaphor, we will show a simple example of Pass By Value\n",
    "\n",
    "<center><a href=\"http://www.youtube.com/watch?feature=player_embedded&v=lW5ydMFoVzU\" target=\"_blank\">\n",
    " <img src=\"http://img.youtube.com/vi/lW5ydMFoVzU/mqdefault.jpg\" target=\"_blank\" width=\"240\" height=\"180\" border=\"10\" />\n",
    "</a></center><p></p>"
   ]
  },
  {
   "attachments": {},
   "cell_type": "markdown",
   "id": "854092cc",
   "metadata": {},
   "source": [
    "### Passing by Reference\n",
    "\n",
    "Consider the following function declaration:\n",
    "\n",
    "    void swap( int* ptr_x, int* ptr_y );\n",
    "\n",
    "The variables at those addresses are passed by reference. We de-reference the pointer in the function in order to get a copy. If we update the referenced variable in <code>swap</code>, then the variable change would be preserved in <code>main</code>.\n",
    "\n",
    "> <b>Thought Question:</b> Why would we use this approach instead of returning values?\n",
    "\n",
    "If we want to pass a variable by <i>reference</i> from <code>main</code>, we need to pass the <i>address</i>. We can intuit that we can do this by using <code>&</code> in the function call: \n",
    "    \n",
    "    int main(void){\n",
    "    \n",
    "        int swap_x = 10;\n",
    "        int swap_y = 25;\n",
    "    \n",
    "        swap( &swap_x, &swap_y );\n",
    "        \n",
    "        ...\n",
    "        \n",
    "Inside the function, we would need to de-reference the variables, just like we did in Reading 4-2! In this case, the address of <code>swap_x</code> is stored in <code>ptr_x</code>, and the address of <code>swap_y</code> is stored in <code>ptr_y</code>.\n",
    "\n",
    "    void swap( int* ptr_x, int* ptr_y ){\n",
    "    \n",
    "        /* De-reference ptr_x to set the temp_val to swap_x */\n",
    "        int temp_val = *ptr_x;\n",
    "        \n",
    "        /* Set the value at swap_x equal to the value at swap_y */\n",
    "        *ptr_x = *ptr_y;\n",
    "        \n",
    "        /* Set the value at swap_y equal to temp_val */\n",
    "        *ptr_y = temp_val;\n",
    "    \n",
    "    }\n",
    "    \n",
    "> <b>Note:</b> This code segment is a good example of why using robust variable names is important. Imagine if I had used <code>x</code> and <code>y</code> for all of these variables. That would be extremely confusing to a new programmer!"
   ]
  },
  {
   "cell_type": "markdown",
   "id": "e99f52a7",
   "metadata": {},
   "source": [
    "<b>Visualize It!</b> - In this video, an example of Pass by Value is presented, and how the code at <a href = \"https://raw.githubusercontent.com/mmorri22/su23-cse20332/main/readings/reading04/swap.c\">swap.c</a> is executed.\n",
    "\n",
    "<center><a href=\"http://www.youtube.com/watch?feature=player_embedded&v=E0njqqROivM\" target=\"_blank\">\n",
    " <img src=\"http://img.youtube.com/vi/E0njqqROivM/mqdefault.jpg\" target=\"_blank\" width=\"240\" height=\"180\" border=\"10\" />\n",
    "</a></center><p></p>\n",
    "\n",
    "> <b>Test Yourself!</b> - In your terminal, obtain <a href = \"https://raw.githubusercontent.com/mmorri22/su23-cse20332/main/readings/reading04/swap.c\">swap.c</a>, and write your own print statements where you print the values and addresses of <code>swap_x</code>, <code>swap_y</code>, <code>ptr_x</code>, and <code>ptr_y</code> throughout the program! Here is the basic run that you can modify:\n",
    "\n",
    "    > wget https://raw.githubusercontent.com/mmorri22/su23-cse20332/main/readings/reading04/swap.c\n",
    "    > gcc -std=c11 -Wall -Wextra -Wconversion -Werror swap.c -o swap\n",
    "    > ./swap\n",
    "    Before: swap_x = 10, swap_y = 25\n",
    "    After : swap_x = 25, swap_y = 10\n",
    "    > rm swap"
   ]
  },
  {
   "cell_type": "markdown",
   "id": "85eb8b93",
   "metadata": {},
   "source": [
    "### <font color = \"red\">Class Introduction Question #3 - What is Pass By Reference, and how do we use pointers to accomplish this task?</a>"
   ]
  },
  {
   "cell_type": "code",
   "execution_count": null,
   "id": "5892911c",
   "metadata": {},
   "outputs": [],
   "source": []
  }
 ],
 "metadata": {
  "kernelspec": {
   "display_name": "Python 3 (ipykernel)",
   "language": "python",
   "name": "python3"
  },
  "language_info": {
   "codemirror_mode": {
    "name": "ipython",
    "version": 3
   },
   "file_extension": ".py",
   "mimetype": "text/x-python",
   "name": "python",
   "nbconvert_exporter": "python",
   "pygments_lexer": "ipython3",
   "version": "3.9.13"
  }
 },
 "nbformat": 4,
 "nbformat_minor": 5
}
