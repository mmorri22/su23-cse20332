{
 "cells": [
  {
   "cell_type": "markdown",
   "id": "35c0ba5c",
   "metadata": {},
   "source": [
    "## Reading 4-4 - Top-down Design"
   ]
  },
  {
   "cell_type": "markdown",
   "id": "e9aa6e86",
   "metadata": {},
   "source": [
    "### Topics\n",
    "\n",
    "<ul>\n",
    "    <li>Problem Solving & Programming Techniques</li>\n",
    "    <ul>\n",
    "        <li>Top-down Design</li>\n",
    "        <li>Top-down Implementation</li>\n",
    "        <ul>\n",
    "            <li>Use of Stubs</li>\n",
    "        </ul>\n",
    "        <li>Bottom-up Implementation</li>\n",
    "        <ul>\n",
    "            <li>Use of Drivers or Test-Harnesses</li>\n",
    "        </ul>\n",
    "        <li>Incremental Programming</li>\n",
    "        <li>Testing and Debugging</li>\n",
    "    </ul>\n",
    "    <li>The C Standard Libraries</li>\n",
    "    <li>man pages</li>\n",
    "</ul>"
   ]
  },
  {
   "cell_type": "code",
   "execution_count": null,
   "id": "e8121bc6",
   "metadata": {},
   "outputs": [],
   "source": []
  }
 ],
 "metadata": {
  "kernelspec": {
   "display_name": "Python 3 (ipykernel)",
   "language": "python",
   "name": "python3"
  },
  "language_info": {
   "codemirror_mode": {
    "name": "ipython",
    "version": 3
   },
   "file_extension": ".py",
   "mimetype": "text/x-python",
   "name": "python",
   "nbconvert_exporter": "python",
   "pygments_lexer": "ipython3",
   "version": "3.9.13"
  }
 },
 "nbformat": 4,
 "nbformat_minor": 5
}
