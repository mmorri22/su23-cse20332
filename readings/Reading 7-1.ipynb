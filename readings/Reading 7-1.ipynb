{
 "cells": [
  {
   "cell_type": "markdown",
   "id": "998d89c8",
   "metadata": {},
   "source": [
    "## Reading 7-1 - Pointers to Pointers"
   ]
  },
  {
   "cell_type": "markdown",
   "id": "8d428208",
   "metadata": {},
   "source": [
    "### Why would we make pointers to pointers?\n",
    "\n",
    "Sometimes, we need to keep track of arrays of arrays of information. For example, let us consider Pascal's Triangle, a triangular arrangement of numbers that gives the coefficients in the expansion of any binomial expression, such as: \n",
    "\n",
    "$$(x + y)^n$$\n",
    "\n",
    "The first row is one element with the value 1. The second row contains two elements, both of which contain the value 1. After that, the first and last elements in the row are 1, and the triangle can be filled out from the top by adding together the two numbers just above to the left and right of each position in the triangle.<p></p>\n",
    "\n",
    "<center><code>1</code></center><br>\n",
    "<center><code>1 1</code></center><br>\n",
    "<center><code>1 2 1</code></center><br>\n",
    "<center><code>1 3 3 1</code></center><br>\n",
    "<center><code>1 4 6 4 1</code></center><br>\n",
    "\n",
    "So how could we represent this in a computing device? Let us presume that we have 5 rows as in the triangle above. We know that the last row requires 5 integers, so we could create 5 arrays with 5 integers. \n",
    "\n",
    "><b>Thought Question:</b> Based on your understanding of memory, what could be an issue with the layout shown below:\n",
    "\n",
    "<center><code>|1| | | | |</code></center><br>\n",
    "<center><code>|1|1| | | |</code></center><br>\n",
    "<center><code>|1|2|1| | |</code></center><br>\n",
    "<center><code>|1|3|3|1| |</code></center><br>\n",
    "<center><code>|1|4|6|4|1|</code></center><br>"
   ]
  },
  {
   "cell_type": "markdown",
   "id": "771c1b45",
   "metadata": {},
   "source": [
    "There is a lot of wasted space in this array of arrays! This approach is an inefficient use of the computer's memory resources. Furthermore, what happens if we are inputting the number of rows in real time? We would need to implement dynamic memory allocation.\n",
    "\n",
    "So how can we reduce the memory usage while simultaneously ensuring we can allocate memory dynamically? Our solution will be to use <b>pointers to pointers</b>, and then only allocate the amount of memory we need! Here is an example of pointers to pointers drawn out for both Pascal of size 4 and Pascal of size 6, which shows the potential of dynamic memory allocation:\n",
    "\n",
    "<center><img src=\"https://github.com/mmorri22/su23-cse20332/blob/main/readings/reading07/Reading%207-1.jpg?raw=true\" alt=\"Pointers to Pointers\" width=\"400\" height=\"400\"></center>"
   ]
  },
  {
   "cell_type": "markdown",
   "id": "ddbf4176",
   "metadata": {},
   "source": [
    "### How do we allocate pointers to pointers?\n",
    "\n",
    "To understand this, let's revisit how we allocated a dynamic array of integers:\n",
    "\n",
    "<code>int* int_array = (int * )malloc( array_size * sizeof(int) );</code>\n",
    "<ul>\n",
    "    <li>The <code>(int * )</code> in front of malloc gave context to the void pointer that this is an array of integers\n",
    "    <li>The <code>array_size</code> is a long unsigned int so we can ensure proper allocation of memory\n",
    "    <li>The <code>sizeof(int)</code> indicates we need to allocate 32 bits (4 bytes) of memory times for each integer</li>\n",
    "    <li>The <code>int* int_array</code> is the register containing the base address of the array of integers.</li>\n",
    "</ul>\n",
    "\n",
    "\n",
    "We've also learned that pointers are contained in registers, which means they have physical space. <i>Which means they have a size!</i> \n",
    "\n",
    "Now we will combine these concepts and build a pointer to an array of integer pointers.\n",
    "\n",
    ">In the video after the code segment description, I write the code in C and then draw out what we have completed so far.\n",
    "\n",
    "<code>int** pascal_array = (int ** )malloc( array_size * sizeof( int * ) );</code>\n",
    "<ul>\n",
    "    <li>The <code>int **</code> in front of malloc gave context to the void pointer that this is an array of integer <i>pointers</i></li>\n",
    "    <li>The <code>array_size</code> is a long unsigned int so we can ensure proper allocation of memory</li>\n",
    "    <li>The <code>sizeof(int * )</code> indicates we need to allocate 64 bits (4 bytes) for each integer pointer</li>\n",
    "    <li>The <code>int** int_array</code> is the register containing the base address of the array of integer of integer pointers.</li>\n",
    "</ul>\n",
    "\n",
    "<b>Visualize It!</b> - Click on the image below to see the video:<p></p>\n",
    "\n",
    "<center><a href=\"http://www.youtube.com/watch?feature=player_embedded&v=AUq_npj7qQw\" target=\"_blank\">\n",
    " <img src=\"http://img.youtube.com/vi/AUq_npj7qQw/mqdefault.jpg\" target=\"_blank\" width=\"240\" height=\"180\" border=\"10\" />\n",
    "</a></center><p></p>"
   ]
  },
  {
   "cell_type": "code",
   "execution_count": null,
   "id": "d4284903",
   "metadata": {},
   "outputs": [],
   "source": []
  }
 ],
 "metadata": {
  "kernelspec": {
   "display_name": "Python 3 (ipykernel)",
   "language": "python",
   "name": "python3"
  },
  "language_info": {
   "codemirror_mode": {
    "name": "ipython",
    "version": 3
   },
   "file_extension": ".py",
   "mimetype": "text/x-python",
   "name": "python",
   "nbconvert_exporter": "python",
   "pygments_lexer": "ipython3",
   "version": "3.9.13"
  }
 },
 "nbformat": 4,
 "nbformat_minor": 5
}
