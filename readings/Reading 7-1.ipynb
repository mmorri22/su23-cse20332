{
 "cells": [
  {
   "cell_type": "markdown",
   "id": "b8e0914c",
   "metadata": {},
   "source": [
    "## Reading 7-1 - Pointers to Pointers"
   ]
  },
  {
   "cell_type": "markdown",
   "id": "61f6a4ac",
   "metadata": {},
   "source": [
    "### Why would we make pointers to pointers?\n",
    "\n",
    "Sometimes, we need to keep track of arrays of arrays of information. For example, let us consider Pascal's Triangle, a triangular arrangement of numbers that gives the coefficients in the expansion of any binomial expression, such as: \n",
    "\n",
    "$$(x + y)^n$$\n",
    "\n",
    "The first row is one element with the value 1. The second row contains two elements, both of which contain the value 1. After that, the first and last elements in the row are 1, and the triangle can be filled out from the top by adding together the two numbers just above to the left and right of each position in the triangle.<p></p>\n",
    "\n",
    "<center><code>1</code></center><br>\n",
    "<center><code>1 1</code></center><br>\n",
    "<center><code>1 2 1</code></center><br>\n",
    "<center><code>1 3 3 1</code></center><br>\n",
    "<center><code>1 4 6 4 1</code></center><br>\n",
    "\n",
    "So how could we represent this in a computing device? Let us presume that we have 5 rows as in the triangle above. We know that the last row requires 5 integers, so we could create 5 arrays with 5 integers. \n",
    "\n",
    "><b>Thought Question:</b> Based on your understanding of memory, what could be an issue with the layout shown below:\n",
    "\n",
    "<center><code>|1| | | | |</code></center><br>\n",
    "<center><code>|1|1| | | |</code></center><br>\n",
    "<center><code>|1|2|1| | |</code></center><br>\n",
    "<center><code>|1|3|3|1| |</code></center><br>\n",
    "<center><code>|1|4|6|4|1|</code></center><br>"
   ]
  },
  {
   "cell_type": "markdown",
   "id": "0f034b40",
   "metadata": {},
   "source": [
    "There is a lot of wasted space in this array of arrays! This approach is an inefficient use of the computer's memory resources. Furthermore, what happens if we are inputting the number of rows in real time? We would need to implement dynamic memory allocation.\n",
    "\n",
    "So how can we reduce the memory usage while simultaneously ensuring we can allocate memory dynamically? Our solution will be to use pointers to pointers, and then only allocate the amount of memory we need! Here is an example of pointers to pointers drawn out for both Pascal of size 4 and Pascal of size 6, which shows the potential of dynamic memory allocation:\n",
    "\n"
   ]
  }
 ],
 "metadata": {
  "kernelspec": {
   "display_name": "Python 3 (ipykernel)",
   "language": "python",
   "name": "python3"
  },
  "language_info": {
   "codemirror_mode": {
    "name": "ipython",
    "version": 3
   },
   "file_extension": ".py",
   "mimetype": "text/x-python",
   "name": "python",
   "nbconvert_exporter": "python",
   "pygments_lexer": "ipython3",
   "version": "3.9.13"
  }
 },
 "nbformat": 4,
 "nbformat_minor": 5
}
