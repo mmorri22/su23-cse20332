{
 "cells": [
  {
   "cell_type": "markdown",
   "id": "0124801b",
   "metadata": {},
   "source": [
    "# Reading 3-1 - Conditionals, Loops, and Basic Algorithmic Thinking"
   ]
  },
  {
   "attachments": {},
   "cell_type": "markdown",
   "id": "99dbf87b",
   "metadata": {},
   "source": [
    "### In this reading you will learn the following concepts:\n",
    "\n",
    "<ul>\n",
    "    <li>If-Else Statements</li>\n",
    "<li>While loops</li>\n",
    "<li>For loops</li>\n",
    "<li>Switch Statements</li>\n",
    "</ul>"
   ]
  },
  {
   "attachments": {},
   "cell_type": "markdown",
   "id": "ac051ef9",
   "metadata": {},
   "source": [
    "### Conditional Statements\n",
    "\n",
    "Programs can be broken into four types of statements\n",
    "<ul>\n",
    "    <li>a <font color = \"red\"><b>simple</b></font> statement</li>\n",
    "<li>a <font color = \"red\"><b>null</b></font> statement</li>\n",
    "<li>a <font color = \"red\"><b>control</b></font> statement</li>\n",
    "<li>a <font color = \"red\"><b>block</b></font> statement</li>\n",
    "    </ul>\n",
    "    \n",
    "#### Simple Statement\n",
    "FORM: expression ;\n",
    "EXAMPLE:    y = 7;\n",
    "\n",
    "EXAMPLE:    printf(\"Hello world!\\n\");\n",
    "\n",
    "Null Statement\n",
    "FORM: ;\n",
    "EXAMPLE: ;\n",
    "\n",
    "NOTE: The null statement is rarely used, but it is a legal statement which means to do nothing. It usually causes problems for new C programmers. For example, the following code compiles and executes, but does not produce the desired effect\n",
    "\n",
    "\n",
    "    /* an unintentional null statement */\n",
    "    while (i > 0);  \n",
    "    {\n",
    "       printf (\"The value of i is %d\\n\", i);\n",
    "       i--;\n",
    "    }\n",
    "Block\n",
    "{ S1 S2 S3 ... Sn } where the Si are statements enclosed with braces\n",
    "Control Statement\n",
    "an if, for, while, ...\n",
    "What about semicolons ?\n",
    "In C, the semicolon is used to terminate a simple statement\n",
    "In Pascal, the semicolon separates statements\n",
    "So that's the rule for semicolons!\n"
   ]
  },
  {
   "cell_type": "code",
   "execution_count": null,
   "id": "e600de7c",
   "metadata": {},
   "outputs": [],
   "source": []
  }
 ],
 "metadata": {
  "kernelspec": {
   "display_name": "Python 3 (ipykernel)",
   "language": "python",
   "name": "python3"
  },
  "language_info": {
   "codemirror_mode": {
    "name": "ipython",
    "version": 3
   },
   "file_extension": ".py",
   "mimetype": "text/x-python",
   "name": "python",
   "nbconvert_exporter": "python",
   "pygments_lexer": "ipython3",
   "version": "3.9.13"
  }
 },
 "nbformat": 4,
 "nbformat_minor": 5
}
